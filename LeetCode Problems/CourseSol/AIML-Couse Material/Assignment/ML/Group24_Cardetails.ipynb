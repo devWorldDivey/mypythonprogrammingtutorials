{
  "nbformat": 4,
  "nbformat_minor": 0,
  "metadata": {
    "colab": {
      "provenance": []
    },
    "kernelspec": {
      "name": "python3",
      "display_name": "Python 3"
    },
    "language_info": {
      "name": "python"
    }
  },
  "cells": [
    {
      "cell_type": "markdown",
      "source": [
        "Group 18\n",
        "\n",
        "Group Members\n",
        "\n",
        "\n",
        "1.   Divey Anand        (BITS ID : 2022aa5030)\n",
        "2.   Shiffin N (BITS ID : 2022aa05055)\n",
        "3.   Dibyajyoti Sarkar (BITS ID : 2022aa05005)\n",
        "\n",
        "Assignment Dataset :- Car details\n",
        "\n",
        "\n",
        "\n",
        "\n",
        "\n"
      ],
      "metadata": {
        "id": "H8W7TsKhwzjr"
      }
    },
    {
      "cell_type": "markdown",
      "source": [
        "#Task 1 : Import Libraries/Dataset"
      ],
      "metadata": {
        "id": "hMmvb85r43D_"
      }
    },
    {
      "cell_type": "code",
      "source": [
        "import pandas as pd\n",
        "import seaborn as sns\n",
        "import matplotlib.pyplot as plt #plot package\n",
        "import numpy as np\n",
        "import missingno as msno\n",
        "import scipy\n",
        "import sklearn\n"
      ],
      "metadata": {
        "id": "9w6VbXry2pxl"
      },
      "execution_count": 1,
      "outputs": []
    },
    {
      "cell_type": "code",
      "source": [
        "from google.colab import files\n",
        "upload = files.upload()"
      ],
      "metadata": {
        "colab": {
          "base_uri": "https://localhost:8080/",
          "height": 74
        },
        "id": "clE5pI-DzjX3",
        "outputId": "610851f7-460c-4faa-f76a-e6a552583286"
      },
      "execution_count": 2,
      "outputs": [
        {
          "output_type": "display_data",
          "data": {
            "text/plain": [
              "<IPython.core.display.HTML object>"
            ],
            "text/html": [
              "\n",
              "     <input type=\"file\" id=\"files-ac35737c-1f5c-4c72-8e80-623439278439\" name=\"files[]\" multiple disabled\n",
              "        style=\"border:none\" />\n",
              "     <output id=\"result-ac35737c-1f5c-4c72-8e80-623439278439\">\n",
              "      Upload widget is only available when the cell has been executed in the\n",
              "      current browser session. Please rerun this cell to enable.\n",
              "      </output>\n",
              "      <script>// Copyright 2017 Google LLC\n",
              "//\n",
              "// Licensed under the Apache License, Version 2.0 (the \"License\");\n",
              "// you may not use this file except in compliance with the License.\n",
              "// You may obtain a copy of the License at\n",
              "//\n",
              "//      http://www.apache.org/licenses/LICENSE-2.0\n",
              "//\n",
              "// Unless required by applicable law or agreed to in writing, software\n",
              "// distributed under the License is distributed on an \"AS IS\" BASIS,\n",
              "// WITHOUT WARRANTIES OR CONDITIONS OF ANY KIND, either express or implied.\n",
              "// See the License for the specific language governing permissions and\n",
              "// limitations under the License.\n",
              "\n",
              "/**\n",
              " * @fileoverview Helpers for google.colab Python module.\n",
              " */\n",
              "(function(scope) {\n",
              "function span(text, styleAttributes = {}) {\n",
              "  const element = document.createElement('span');\n",
              "  element.textContent = text;\n",
              "  for (const key of Object.keys(styleAttributes)) {\n",
              "    element.style[key] = styleAttributes[key];\n",
              "  }\n",
              "  return element;\n",
              "}\n",
              "\n",
              "// Max number of bytes which will be uploaded at a time.\n",
              "const MAX_PAYLOAD_SIZE = 100 * 1024;\n",
              "\n",
              "function _uploadFiles(inputId, outputId) {\n",
              "  const steps = uploadFilesStep(inputId, outputId);\n",
              "  const outputElement = document.getElementById(outputId);\n",
              "  // Cache steps on the outputElement to make it available for the next call\n",
              "  // to uploadFilesContinue from Python.\n",
              "  outputElement.steps = steps;\n",
              "\n",
              "  return _uploadFilesContinue(outputId);\n",
              "}\n",
              "\n",
              "// This is roughly an async generator (not supported in the browser yet),\n",
              "// where there are multiple asynchronous steps and the Python side is going\n",
              "// to poll for completion of each step.\n",
              "// This uses a Promise to block the python side on completion of each step,\n",
              "// then passes the result of the previous step as the input to the next step.\n",
              "function _uploadFilesContinue(outputId) {\n",
              "  const outputElement = document.getElementById(outputId);\n",
              "  const steps = outputElement.steps;\n",
              "\n",
              "  const next = steps.next(outputElement.lastPromiseValue);\n",
              "  return Promise.resolve(next.value.promise).then((value) => {\n",
              "    // Cache the last promise value to make it available to the next\n",
              "    // step of the generator.\n",
              "    outputElement.lastPromiseValue = value;\n",
              "    return next.value.response;\n",
              "  });\n",
              "}\n",
              "\n",
              "/**\n",
              " * Generator function which is called between each async step of the upload\n",
              " * process.\n",
              " * @param {string} inputId Element ID of the input file picker element.\n",
              " * @param {string} outputId Element ID of the output display.\n",
              " * @return {!Iterable<!Object>} Iterable of next steps.\n",
              " */\n",
              "function* uploadFilesStep(inputId, outputId) {\n",
              "  const inputElement = document.getElementById(inputId);\n",
              "  inputElement.disabled = false;\n",
              "\n",
              "  const outputElement = document.getElementById(outputId);\n",
              "  outputElement.innerHTML = '';\n",
              "\n",
              "  const pickedPromise = new Promise((resolve) => {\n",
              "    inputElement.addEventListener('change', (e) => {\n",
              "      resolve(e.target.files);\n",
              "    });\n",
              "  });\n",
              "\n",
              "  const cancel = document.createElement('button');\n",
              "  inputElement.parentElement.appendChild(cancel);\n",
              "  cancel.textContent = 'Cancel upload';\n",
              "  const cancelPromise = new Promise((resolve) => {\n",
              "    cancel.onclick = () => {\n",
              "      resolve(null);\n",
              "    };\n",
              "  });\n",
              "\n",
              "  // Wait for the user to pick the files.\n",
              "  const files = yield {\n",
              "    promise: Promise.race([pickedPromise, cancelPromise]),\n",
              "    response: {\n",
              "      action: 'starting',\n",
              "    }\n",
              "  };\n",
              "\n",
              "  cancel.remove();\n",
              "\n",
              "  // Disable the input element since further picks are not allowed.\n",
              "  inputElement.disabled = true;\n",
              "\n",
              "  if (!files) {\n",
              "    return {\n",
              "      response: {\n",
              "        action: 'complete',\n",
              "      }\n",
              "    };\n",
              "  }\n",
              "\n",
              "  for (const file of files) {\n",
              "    const li = document.createElement('li');\n",
              "    li.append(span(file.name, {fontWeight: 'bold'}));\n",
              "    li.append(span(\n",
              "        `(${file.type || 'n/a'}) - ${file.size} bytes, ` +\n",
              "        `last modified: ${\n",
              "            file.lastModifiedDate ? file.lastModifiedDate.toLocaleDateString() :\n",
              "                                    'n/a'} - `));\n",
              "    const percent = span('0% done');\n",
              "    li.appendChild(percent);\n",
              "\n",
              "    outputElement.appendChild(li);\n",
              "\n",
              "    const fileDataPromise = new Promise((resolve) => {\n",
              "      const reader = new FileReader();\n",
              "      reader.onload = (e) => {\n",
              "        resolve(e.target.result);\n",
              "      };\n",
              "      reader.readAsArrayBuffer(file);\n",
              "    });\n",
              "    // Wait for the data to be ready.\n",
              "    let fileData = yield {\n",
              "      promise: fileDataPromise,\n",
              "      response: {\n",
              "        action: 'continue',\n",
              "      }\n",
              "    };\n",
              "\n",
              "    // Use a chunked sending to avoid message size limits. See b/62115660.\n",
              "    let position = 0;\n",
              "    do {\n",
              "      const length = Math.min(fileData.byteLength - position, MAX_PAYLOAD_SIZE);\n",
              "      const chunk = new Uint8Array(fileData, position, length);\n",
              "      position += length;\n",
              "\n",
              "      const base64 = btoa(String.fromCharCode.apply(null, chunk));\n",
              "      yield {\n",
              "        response: {\n",
              "          action: 'append',\n",
              "          file: file.name,\n",
              "          data: base64,\n",
              "        },\n",
              "      };\n",
              "\n",
              "      let percentDone = fileData.byteLength === 0 ?\n",
              "          100 :\n",
              "          Math.round((position / fileData.byteLength) * 100);\n",
              "      percent.textContent = `${percentDone}% done`;\n",
              "\n",
              "    } while (position < fileData.byteLength);\n",
              "  }\n",
              "\n",
              "  // All done.\n",
              "  yield {\n",
              "    response: {\n",
              "      action: 'complete',\n",
              "    }\n",
              "  };\n",
              "}\n",
              "\n",
              "scope.google = scope.google || {};\n",
              "scope.google.colab = scope.google.colab || {};\n",
              "scope.google.colab._files = {\n",
              "  _uploadFiles,\n",
              "  _uploadFilesContinue,\n",
              "};\n",
              "})(self);\n",
              "</script> "
            ]
          },
          "metadata": {}
        },
        {
          "output_type": "stream",
          "name": "stdout",
          "text": [
            "Saving CAR DETAILS.csv to CAR DETAILS (1).csv\n"
          ]
        }
      ]
    },
    {
      "cell_type": "markdown",
      "source": [
        "#Task1 : Data Visualization and Exploration"
      ],
      "metadata": {
        "id": "AlJsFv785eID"
      }
    },
    {
      "cell_type": "markdown",
      "source": [
        "***Print 2 rows for sanity check to identify all the features present in the dataset and if the target matches with them.***"
      ],
      "metadata": {
        "id": "lwJJvJI75kxQ"
      }
    },
    {
      "cell_type": "code",
      "source": [
        "cardataset = pd.read_csv('CAR DETAILS.csv')\n",
        "cardatasetforkfold = cardataset\n",
        "print(cardataset.shape)\n",
        "cardataset.head(2)"
      ],
      "metadata": {
        "colab": {
          "base_uri": "https://localhost:8080/",
          "height": 130
        },
        "id": "BY8xvZJc2-TS",
        "outputId": "1ecbdcad-eb61-420a-92c6-fb275d041266"
      },
      "execution_count": 3,
      "outputs": [
        {
          "output_type": "stream",
          "name": "stdout",
          "text": [
            "(4340, 8)\n"
          ]
        },
        {
          "output_type": "execute_result",
          "data": {
            "text/plain": [
              "                       name  year  selling_price  km_driven    fuel  \\\n",
              "0             Maruti 800 AC  2007          60000      70000  Petrol   \n",
              "1  Maruti Wagon R LXI Minor  2007         135000      50000  Petrol   \n",
              "\n",
              "  seller_type transmission        owner  \n",
              "0  Individual       Manual  First Owner  \n",
              "1  Individual       Manual  First Owner  "
            ],
            "text/html": [
              "\n",
              "  <div id=\"df-a4f619d1-ab8a-49cf-9bab-6338388b331f\">\n",
              "    <div class=\"colab-df-container\">\n",
              "      <div>\n",
              "<style scoped>\n",
              "    .dataframe tbody tr th:only-of-type {\n",
              "        vertical-align: middle;\n",
              "    }\n",
              "\n",
              "    .dataframe tbody tr th {\n",
              "        vertical-align: top;\n",
              "    }\n",
              "\n",
              "    .dataframe thead th {\n",
              "        text-align: right;\n",
              "    }\n",
              "</style>\n",
              "<table border=\"1\" class=\"dataframe\">\n",
              "  <thead>\n",
              "    <tr style=\"text-align: right;\">\n",
              "      <th></th>\n",
              "      <th>name</th>\n",
              "      <th>year</th>\n",
              "      <th>selling_price</th>\n",
              "      <th>km_driven</th>\n",
              "      <th>fuel</th>\n",
              "      <th>seller_type</th>\n",
              "      <th>transmission</th>\n",
              "      <th>owner</th>\n",
              "    </tr>\n",
              "  </thead>\n",
              "  <tbody>\n",
              "    <tr>\n",
              "      <th>0</th>\n",
              "      <td>Maruti 800 AC</td>\n",
              "      <td>2007</td>\n",
              "      <td>60000</td>\n",
              "      <td>70000</td>\n",
              "      <td>Petrol</td>\n",
              "      <td>Individual</td>\n",
              "      <td>Manual</td>\n",
              "      <td>First Owner</td>\n",
              "    </tr>\n",
              "    <tr>\n",
              "      <th>1</th>\n",
              "      <td>Maruti Wagon R LXI Minor</td>\n",
              "      <td>2007</td>\n",
              "      <td>135000</td>\n",
              "      <td>50000</td>\n",
              "      <td>Petrol</td>\n",
              "      <td>Individual</td>\n",
              "      <td>Manual</td>\n",
              "      <td>First Owner</td>\n",
              "    </tr>\n",
              "  </tbody>\n",
              "</table>\n",
              "</div>\n",
              "      <button class=\"colab-df-convert\" onclick=\"convertToInteractive('df-a4f619d1-ab8a-49cf-9bab-6338388b331f')\"\n",
              "              title=\"Convert this dataframe to an interactive table.\"\n",
              "              style=\"display:none;\">\n",
              "        \n",
              "  <svg xmlns=\"http://www.w3.org/2000/svg\" height=\"24px\"viewBox=\"0 0 24 24\"\n",
              "       width=\"24px\">\n",
              "    <path d=\"M0 0h24v24H0V0z\" fill=\"none\"/>\n",
              "    <path d=\"M18.56 5.44l.94 2.06.94-2.06 2.06-.94-2.06-.94-.94-2.06-.94 2.06-2.06.94zm-11 1L8.5 8.5l.94-2.06 2.06-.94-2.06-.94L8.5 2.5l-.94 2.06-2.06.94zm10 10l.94 2.06.94-2.06 2.06-.94-2.06-.94-.94-2.06-.94 2.06-2.06.94z\"/><path d=\"M17.41 7.96l-1.37-1.37c-.4-.4-.92-.59-1.43-.59-.52 0-1.04.2-1.43.59L10.3 9.45l-7.72 7.72c-.78.78-.78 2.05 0 2.83L4 21.41c.39.39.9.59 1.41.59.51 0 1.02-.2 1.41-.59l7.78-7.78 2.81-2.81c.8-.78.8-2.07 0-2.86zM5.41 20L4 18.59l7.72-7.72 1.47 1.35L5.41 20z\"/>\n",
              "  </svg>\n",
              "      </button>\n",
              "      \n",
              "  <style>\n",
              "    .colab-df-container {\n",
              "      display:flex;\n",
              "      flex-wrap:wrap;\n",
              "      gap: 12px;\n",
              "    }\n",
              "\n",
              "    .colab-df-convert {\n",
              "      background-color: #E8F0FE;\n",
              "      border: none;\n",
              "      border-radius: 50%;\n",
              "      cursor: pointer;\n",
              "      display: none;\n",
              "      fill: #1967D2;\n",
              "      height: 32px;\n",
              "      padding: 0 0 0 0;\n",
              "      width: 32px;\n",
              "    }\n",
              "\n",
              "    .colab-df-convert:hover {\n",
              "      background-color: #E2EBFA;\n",
              "      box-shadow: 0px 1px 2px rgba(60, 64, 67, 0.3), 0px 1px 3px 1px rgba(60, 64, 67, 0.15);\n",
              "      fill: #174EA6;\n",
              "    }\n",
              "\n",
              "    [theme=dark] .colab-df-convert {\n",
              "      background-color: #3B4455;\n",
              "      fill: #D2E3FC;\n",
              "    }\n",
              "\n",
              "    [theme=dark] .colab-df-convert:hover {\n",
              "      background-color: #434B5C;\n",
              "      box-shadow: 0px 1px 3px 1px rgba(0, 0, 0, 0.15);\n",
              "      filter: drop-shadow(0px 1px 2px rgba(0, 0, 0, 0.3));\n",
              "      fill: #FFFFFF;\n",
              "    }\n",
              "  </style>\n",
              "\n",
              "      <script>\n",
              "        const buttonEl =\n",
              "          document.querySelector('#df-a4f619d1-ab8a-49cf-9bab-6338388b331f button.colab-df-convert');\n",
              "        buttonEl.style.display =\n",
              "          google.colab.kernel.accessAllowed ? 'block' : 'none';\n",
              "\n",
              "        async function convertToInteractive(key) {\n",
              "          const element = document.querySelector('#df-a4f619d1-ab8a-49cf-9bab-6338388b331f');\n",
              "          const dataTable =\n",
              "            await google.colab.kernel.invokeFunction('convertToInteractive',\n",
              "                                                     [key], {});\n",
              "          if (!dataTable) return;\n",
              "\n",
              "          const docLinkHtml = 'Like what you see? Visit the ' +\n",
              "            '<a target=\"_blank\" href=https://colab.research.google.com/notebooks/data_table.ipynb>data table notebook</a>'\n",
              "            + ' to learn more about interactive tables.';\n",
              "          element.innerHTML = '';\n",
              "          dataTable['output_type'] = 'display_data';\n",
              "          await google.colab.output.renderOutput(dataTable, element);\n",
              "          const docLink = document.createElement('div');\n",
              "          docLink.innerHTML = docLinkHtml;\n",
              "          element.appendChild(docLink);\n",
              "        }\n",
              "      </script>\n",
              "    </div>\n",
              "  </div>\n",
              "  "
            ]
          },
          "metadata": {},
          "execution_count": 3
        }
      ]
    },
    {
      "cell_type": "markdown",
      "source": [
        "**Comment on class imbalance with appropriate visualization method.**"
      ],
      "metadata": {
        "id": "5wXHXMXc5xFL"
      }
    },
    {
      "cell_type": "markdown",
      "source": [
        "Class imbalance refers to a situation where one class in a classification problem has significantly more samples than the other class. This can be a problem because a classifier trained on an imbalanced dataset may become biased towards the more prevalent class, resulting in poor performance on the minority class."
      ],
      "metadata": {
        "id": "aDwiXMBoBaC6"
      }
    },
    {
      "cell_type": "code",
      "source": [
        "cardataset.info()"
      ],
      "metadata": {
        "colab": {
          "base_uri": "https://localhost:8080/"
        },
        "id": "S9VSEn3-6BZX",
        "outputId": "7eda4f95-7fb8-4ba4-a144-a973b21bfbba"
      },
      "execution_count": 4,
      "outputs": [
        {
          "output_type": "stream",
          "name": "stdout",
          "text": [
            "<class 'pandas.core.frame.DataFrame'>\n",
            "RangeIndex: 4340 entries, 0 to 4339\n",
            "Data columns (total 8 columns):\n",
            " #   Column         Non-Null Count  Dtype \n",
            "---  ------         --------------  ----- \n",
            " 0   name           4340 non-null   object\n",
            " 1   year           4340 non-null   int64 \n",
            " 2   selling_price  4340 non-null   int64 \n",
            " 3   km_driven      4340 non-null   int64 \n",
            " 4   fuel           4340 non-null   object\n",
            " 5   seller_type    4340 non-null   object\n",
            " 6   transmission   4340 non-null   object\n",
            " 7   owner          4340 non-null   object\n",
            "dtypes: int64(3), object(5)\n",
            "memory usage: 271.4+ KB\n"
          ]
        }
      ]
    },
    {
      "cell_type": "code",
      "source": [
        "# Create the bar chart to check class imbalance\n",
        "df = cardataset\n",
        "df['selling_price'].hist(bins=50)\n"
      ],
      "metadata": {
        "colab": {
          "base_uri": "https://localhost:8080/",
          "height": 296
        },
        "id": "_jiij_2uDJWu",
        "outputId": "de940e60-49a9-4dcf-9ba0-a78394b17970"
      },
      "execution_count": 5,
      "outputs": [
        {
          "output_type": "execute_result",
          "data": {
            "text/plain": [
              "<matplotlib.axes._subplots.AxesSubplot at 0x7fcc74307400>"
            ]
          },
          "metadata": {},
          "execution_count": 5
        },
        {
          "output_type": "display_data",
          "data": {
            "text/plain": [
              "<Figure size 432x288 with 1 Axes>"
            ],
            "image/png": "[encoded data removed]"
          },
          "metadata": {
            "needs_background": "light"
          }
        }
      ]
    },
    {
      "cell_type": "code",
      "source": [
        "cardataset.hist(figsize = (30, 25), bins = 30, legend = False)\n",
        "plt.show()"
      ],
      "metadata": {
        "colab": {
          "base_uri": "https://localhost:8080/",
          "height": 1000
        },
        "id": "9_KylD6VGxBT",
        "outputId": "a88e9ffc-4793-4187-a3d7-12a47c3c5507"
      },
      "execution_count": 6,
      "outputs": [
        {
          "output_type": "display_data",
          "data": {
            "text/plain": [
              "<Figure size 2160x1800 with 4 Axes>"
            ],
            "image/png": "[encoded data removed]"
          },
          "metadata": {
            "needs_background": "light"
          }
        }
      ]
    },
    {
      "cell_type": "code",
      "source": [
        "print(cardataset.selling_price.value_counts())"
      ],
      "metadata": {
        "colab": {
          "base_uri": "https://localhost:8080/"
        },
        "id": "nq7OnCaKHGjb",
        "outputId": "78f38b49-9ef6-4054-9b28-39d94b82d999"
      },
      "execution_count": 7,
      "outputs": [
        {
          "output_type": "stream",
          "name": "stdout",
          "text": [
            "300000     162\n",
            "250000     125\n",
            "350000     122\n",
            "550000     107\n",
            "600000     103\n",
            "          ... \n",
            "2100000      1\n",
            "828999       1\n",
            "1119000      1\n",
            "746000       1\n",
            "865000       1\n",
            "Name: selling_price, Length: 445, dtype: int64\n"
          ]
        }
      ]
    },
    {
      "cell_type": "markdown",
      "source": [
        "*Task 2.3 Provide appropriate visualizations to get an insight about the dataset.*"
      ],
      "metadata": {
        "id": "KC0FQ_8DC-uj"
      }
    },
    {
      "cell_type": "code",
      "source": [
        "sns.pairplot(cardataset);"
      ],
      "metadata": {
        "colab": {
          "base_uri": "https://localhost:8080/",
          "height": 550
        },
        "id": "Ivn4YnXJIVSE",
        "outputId": "7b18c9de-5836-44c1-88cf-74a0832245fb"
      },
      "execution_count": 8,
      "outputs": [
        {
          "output_type": "display_data",
          "data": {
            "text/plain": [
              "<Figure size 540x540 with 12 Axes>"
            ],
            "image/png": "[encoded data removed]"
          },
          "metadata": {
            "needs_background": "light"
          }
        }
      ]
    },
    {
      "cell_type": "code",
      "source": [
        "sns.histplot(cardataset['fuel'])"
      ],
      "metadata": {
        "colab": {
          "base_uri": "https://localhost:8080/",
          "height": 297
        },
        "id": "a6_5bJ6w0pHQ",
        "outputId": "995da62c-1313-4562-e649-9119cdfe9453"
      },
      "execution_count": 9,
      "outputs": [
        {
          "output_type": "execute_result",
          "data": {
            "text/plain": [
              "<matplotlib.axes._subplots.AxesSubplot at 0x7fcc70c100d0>"
            ]
          },
          "metadata": {},
          "execution_count": 9
        },
        {
          "output_type": "display_data",
          "data": {
            "text/plain": [
              "<Figure size 432x288 with 1 Axes>"
            ],
            "image/png": "[encoded data removed]"
          },
          "metadata": {
            "needs_background": "light"
          }
        }
      ]
    },
    {
      "cell_type": "code",
      "source": [
        "plt.figure(figsize = (10, 5))\n",
        "sns.barplot(x = \"fuel\", y = \"selling_price\", data = cardataset, saturation = 1);"
      ],
      "metadata": {
        "colab": {
          "base_uri": "https://localhost:8080/",
          "height": 334
        },
        "id": "EdvZrLQG1Z1E",
        "outputId": "db27b75b-8b25-40fa-d310-21cb19cb7dfd"
      },
      "execution_count": 10,
      "outputs": [
        {
          "output_type": "display_data",
          "data": {
            "text/plain": [
              "<Figure size 720x360 with 1 Axes>"
            ],
            "image/png": "[encoded data removed]"
          },
          "metadata": {
            "needs_background": "light"
          }
        }
      ]
    },
    {
      "cell_type": "code",
      "source": [
        "sns.histplot(cardataset['seller_type'])"
      ],
      "metadata": {
        "colab": {
          "base_uri": "https://localhost:8080/",
          "height": 298
        },
        "id": "_vlKVCPL1kKp",
        "outputId": "39310b49-1cff-4a20-cd86-5e2b4e8e7fe0"
      },
      "execution_count": 11,
      "outputs": [
        {
          "output_type": "execute_result",
          "data": {
            "text/plain": [
              "<matplotlib.axes._subplots.AxesSubplot at 0x7fcc7104e580>"
            ]
          },
          "metadata": {},
          "execution_count": 11
        },
        {
          "output_type": "display_data",
          "data": {
            "text/plain": [
              "<Figure size 432x288 with 1 Axes>"
            ],
            "image/png": "[encoded data removed]"
          },
          "metadata": {
            "needs_background": "light"
          }
        }
      ]
    },
    {
      "cell_type": "markdown",
      "source": [
        "*#Task 2.4 Do the correlational analysis on the dataset.* Any other visualisation specific to the problem statement.\n",
        "Provide a visualization for the same.\n",
        "Will this correlational analysis affect the feature selection that you will perform in the next step? \n",
        "Justify your answer. \n"
      ],
      "metadata": {
        "id": "Pt00lU5NM5UG"
      }
    },
    {
      "cell_type": "code",
      "source": [
        "cardataset.describe().T"
      ],
      "metadata": {
        "colab": {
          "base_uri": "https://localhost:8080/",
          "height": 143
        },
        "id": "fuKX45rGqbhP",
        "outputId": "648e2856-4db5-4329-96c2-1492292bb8a0"
      },
      "execution_count": 12,
      "outputs": [
        {
          "output_type": "execute_result",
          "data": {
            "text/plain": [
              "                count           mean            std      min        25%  \\\n",
              "year           4340.0    2013.090783       4.215344   1992.0    2011.00   \n",
              "selling_price  4340.0  504127.311751  578548.736139  20000.0  208749.75   \n",
              "km_driven      4340.0   66215.777419   46644.102194      1.0   35000.00   \n",
              "\n",
              "                    50%       75%        max  \n",
              "year             2014.0    2016.0     2020.0  \n",
              "selling_price  350000.0  600000.0  8900000.0  \n",
              "km_driven       60000.0   90000.0   806599.0  "
            ],
            "text/html": [
              "\n",
              "  <div id=\"df-dfa63a22-32b9-4914-bb25-d04b63cc3bc1\">\n",
              "    <div class=\"colab-df-container\">\n",
              "      <div>\n",
              "<style scoped>\n",
              "    .dataframe tbody tr th:only-of-type {\n",
              "        vertical-align: middle;\n",
              "    }\n",
              "\n",
              "    .dataframe tbody tr th {\n",
              "        vertical-align: top;\n",
              "    }\n",
              "\n",
              "    .dataframe thead th {\n",
              "        text-align: right;\n",
              "    }\n",
              "</style>\n",
              "<table border=\"1\" class=\"dataframe\">\n",
              "  <thead>\n",
              "    <tr style=\"text-align: right;\">\n",
              "      <th></th>\n",
              "      <th>count</th>\n",
              "      <th>mean</th>\n",
              "      <th>std</th>\n",
              "      <th>min</th>\n",
              "      <th>25%</th>\n",
              "      <th>50%</th>\n",
              "      <th>75%</th>\n",
              "      <th>max</th>\n",
              "    </tr>\n",
              "  </thead>\n",
              "  <tbody>\n",
              "    <tr>\n",
              "      <th>year</th>\n",
              "      <td>4340.0</td>\n",
              "      <td>2013.090783</td>\n",
              "      <td>4.215344</td>\n",
              "      <td>1992.0</td>\n",
              "      <td>2011.00</td>\n",
              "      <td>2014.0</td>\n",
              "      <td>2016.0</td>\n",
              "      <td>2020.0</td>\n",
              "    </tr>\n",
              "    <tr>\n",
              "      <th>selling_price</th>\n",
              "      <td>4340.0</td>\n",
              "      <td>504127.311751</td>\n",
              "      <td>578548.736139</td>\n",
              "      <td>20000.0</td>\n",
              "      <td>208749.75</td>\n",
              "      <td>350000.0</td>\n",
              "      <td>600000.0</td>\n",
              "      <td>8900000.0</td>\n",
              "    </tr>\n",
              "    <tr>\n",
              "      <th>km_driven</th>\n",
              "      <td>4340.0</td>\n",
              "      <td>66215.777419</td>\n",
              "      <td>46644.102194</td>\n",
              "      <td>1.0</td>\n",
              "      <td>35000.00</td>\n",
              "      <td>60000.0</td>\n",
              "      <td>90000.0</td>\n",
              "      <td>806599.0</td>\n",
              "    </tr>\n",
              "  </tbody>\n",
              "</table>\n",
              "</div>\n",
              "      <button class=\"colab-df-convert\" onclick=\"convertToInteractive('df-dfa63a22-32b9-4914-bb25-d04b63cc3bc1')\"\n",
              "              title=\"Convert this dataframe to an interactive table.\"\n",
              "              style=\"display:none;\">\n",
              "        \n",
              "  <svg xmlns=\"http://www.w3.org/2000/svg\" height=\"24px\"viewBox=\"0 0 24 24\"\n",
              "       width=\"24px\">\n",
              "    <path d=\"M0 0h24v24H0V0z\" fill=\"none\"/>\n",
              "    <path d=\"M18.56 5.44l.94 2.06.94-2.06 2.06-.94-2.06-.94-.94-2.06-.94 2.06-2.06.94zm-11 1L8.5 8.5l.94-2.06 2.06-.94-2.06-.94L8.5 2.5l-.94 2.06-2.06.94zm10 10l.94 2.06.94-2.06 2.06-.94-2.06-.94-.94-2.06-.94 2.06-2.06.94z\"/><path d=\"M17.41 7.96l-1.37-1.37c-.4-.4-.92-.59-1.43-.59-.52 0-1.04.2-1.43.59L10.3 9.45l-7.72 7.72c-.78.78-.78 2.05 0 2.83L4 21.41c.39.39.9.59 1.41.59.51 0 1.02-.2 1.41-.59l7.78-7.78 2.81-2.81c.8-.78.8-2.07 0-2.86zM5.41 20L4 18.59l7.72-7.72 1.47 1.35L5.41 20z\"/>\n",
              "  </svg>\n",
              "      </button>\n",
              "      \n",
              "  <style>\n",
              "    .colab-df-container {\n",
              "      display:flex;\n",
              "      flex-wrap:wrap;\n",
              "      gap: 12px;\n",
              "    }\n",
              "\n",
              "    .colab-df-convert {\n",
              "      background-color: #E8F0FE;\n",
              "      border: none;\n",
              "      border-radius: 50%;\n",
              "      cursor: pointer;\n",
              "      display: none;\n",
              "      fill: #1967D2;\n",
              "      height: 32px;\n",
              "      padding: 0 0 0 0;\n",
              "      width: 32px;\n",
              "    }\n",
              "\n",
              "    .colab-df-convert:hover {\n",
              "      background-color: #E2EBFA;\n",
              "      box-shadow: 0px 1px 2px rgba(60, 64, 67, 0.3), 0px 1px 3px 1px rgba(60, 64, 67, 0.15);\n",
              "      fill: #174EA6;\n",
              "    }\n",
              "\n",
              "    [theme=dark] .colab-df-convert {\n",
              "      background-color: #3B4455;\n",
              "      fill: #D2E3FC;\n",
              "    }\n",
              "\n",
              "    [theme=dark] .colab-df-convert:hover {\n",
              "      background-color: #434B5C;\n",
              "      box-shadow: 0px 1px 3px 1px rgba(0, 0, 0, 0.15);\n",
              "      filter: drop-shadow(0px 1px 2px rgba(0, 0, 0, 0.3));\n",
              "      fill: #FFFFFF;\n",
              "    }\n",
              "  </style>\n",
              "\n",
              "      <script>\n",
              "        const buttonEl =\n",
              "          document.querySelector('#df-dfa63a22-32b9-4914-bb25-d04b63cc3bc1 button.colab-df-convert');\n",
              "        buttonEl.style.display =\n",
              "          google.colab.kernel.accessAllowed ? 'block' : 'none';\n",
              "\n",
              "        async function convertToInteractive(key) {\n",
              "          const element = document.querySelector('#df-dfa63a22-32b9-4914-bb25-d04b63cc3bc1');\n",
              "          const dataTable =\n",
              "            await google.colab.kernel.invokeFunction('convertToInteractive',\n",
              "                                                     [key], {});\n",
              "          if (!dataTable) return;\n",
              "\n",
              "          const docLinkHtml = 'Like what you see? Visit the ' +\n",
              "            '<a target=\"_blank\" href=https://colab.research.google.com/notebooks/data_table.ipynb>data table notebook</a>'\n",
              "            + ' to learn more about interactive tables.';\n",
              "          element.innerHTML = '';\n",
              "          dataTable['output_type'] = 'display_data';\n",
              "          await google.colab.output.renderOutput(dataTable, element);\n",
              "          const docLink = document.createElement('div');\n",
              "          docLink.innerHTML = docLinkHtml;\n",
              "          element.appendChild(docLink);\n",
              "        }\n",
              "      </script>\n",
              "    </div>\n",
              "  </div>\n",
              "  "
            ]
          },
          "metadata": {},
          "execution_count": 12
        }
      ]
    },
    {
      "cell_type": "markdown",
      "source": [
        "Correlational analysis is a statistical technique that is used to examine the relationship between two or more variables. It can be used to determine whether there is a correlation between two variables and, if so, the strength and direction of the relationship."
      ],
      "metadata": {
        "id": "W9SCfyprVW-p"
      }
    },
    {
      "cell_type": "code",
      "source": [
        "cardataset.info"
      ],
      "metadata": {
        "id": "dFR7ZCzc4Rca",
        "colab": {
          "base_uri": "https://localhost:8080/"
        },
        "outputId": "92c406fe-b41a-4988-edbe-58c7fc77d7c7"
      },
      "execution_count": 13,
      "outputs": [
        {
          "output_type": "execute_result",
          "data": {
            "text/plain": [
              "<bound method DataFrame.info of                                      name  year  selling_price  km_driven  \\\n",
              "0                           Maruti 800 AC  2007          60000      70000   \n",
              "1                Maruti Wagon R LXI Minor  2007         135000      50000   \n",
              "2                    Hyundai Verna 1.6 SX  2012         600000     100000   \n",
              "3                  Datsun RediGO T Option  2017         250000      46000   \n",
              "4                   Honda Amaze VX i-DTEC  2014         450000     141000   \n",
              "...                                   ...   ...            ...        ...   \n",
              "4335  Hyundai i20 Magna 1.4 CRDi (Diesel)  2014         409999      80000   \n",
              "4336           Hyundai i20 Magna 1.4 CRDi  2014         409999      80000   \n",
              "4337                  Maruti 800 AC BSIII  2009         110000      83000   \n",
              "4338     Hyundai Creta 1.6 CRDi SX Option  2016         865000      90000   \n",
              "4339                     Renault KWID RXT  2016         225000      40000   \n",
              "\n",
              "        fuel seller_type transmission         owner  \n",
              "0     Petrol  Individual       Manual   First Owner  \n",
              "1     Petrol  Individual       Manual   First Owner  \n",
              "2     Diesel  Individual       Manual   First Owner  \n",
              "3     Petrol  Individual       Manual   First Owner  \n",
              "4     Diesel  Individual       Manual  Second Owner  \n",
              "...      ...         ...          ...           ...  \n",
              "4335  Diesel  Individual       Manual  Second Owner  \n",
              "4336  Diesel  Individual       Manual  Second Owner  \n",
              "4337  Petrol  Individual       Manual  Second Owner  \n",
              "4338  Diesel  Individual       Manual   First Owner  \n",
              "4339  Petrol  Individual       Manual   First Owner  \n",
              "\n",
              "[4340 rows x 8 columns]>"
            ]
          },
          "metadata": {},
          "execution_count": 13
        }
      ]
    },
    {
      "cell_type": "code",
      "source": [
        "cardataset.isna().sum()"
      ],
      "metadata": {
        "id": "keYTpj5zNZ-C",
        "colab": {
          "base_uri": "https://localhost:8080/"
        },
        "outputId": "7211c72b-31df-4b5d-b9a1-39bd054d105d"
      },
      "execution_count": 14,
      "outputs": [
        {
          "output_type": "execute_result",
          "data": {
            "text/plain": [
              "name             0\n",
              "year             0\n",
              "selling_price    0\n",
              "km_driven        0\n",
              "fuel             0\n",
              "seller_type      0\n",
              "transmission     0\n",
              "owner            0\n",
              "dtype: int64"
            ]
          },
          "metadata": {},
          "execution_count": 14
        }
      ]
    },
    {
      "cell_type": "code",
      "source": [
        "cardataset.describe().T"
      ],
      "metadata": {
        "id": "7I5_QtasNsJL",
        "colab": {
          "base_uri": "https://localhost:8080/",
          "height": 143
        },
        "outputId": "f549f479-1ef0-4f69-de53-c4f34ec7be78"
      },
      "execution_count": 15,
      "outputs": [
        {
          "output_type": "execute_result",
          "data": {
            "text/plain": [
              "                count           mean            std      min        25%  \\\n",
              "year           4340.0    2013.090783       4.215344   1992.0    2011.00   \n",
              "selling_price  4340.0  504127.311751  578548.736139  20000.0  208749.75   \n",
              "km_driven      4340.0   66215.777419   46644.102194      1.0   35000.00   \n",
              "\n",
              "                    50%       75%        max  \n",
              "year             2014.0    2016.0     2020.0  \n",
              "selling_price  350000.0  600000.0  8900000.0  \n",
              "km_driven       60000.0   90000.0   806599.0  "
            ],
            "text/html": [
              "\n",
              "  <div id=\"df-e89c030b-b24d-460e-bb73-8c95a6b5724e\">\n",
              "    <div class=\"colab-df-container\">\n",
              "      <div>\n",
              "<style scoped>\n",
              "    .dataframe tbody tr th:only-of-type {\n",
              "        vertical-align: middle;\n",
              "    }\n",
              "\n",
              "    .dataframe tbody tr th {\n",
              "        vertical-align: top;\n",
              "    }\n",
              "\n",
              "    .dataframe thead th {\n",
              "        text-align: right;\n",
              "    }\n",
              "</style>\n",
              "<table border=\"1\" class=\"dataframe\">\n",
              "  <thead>\n",
              "    <tr style=\"text-align: right;\">\n",
              "      <th></th>\n",
              "      <th>count</th>\n",
              "      <th>mean</th>\n",
              "      <th>std</th>\n",
              "      <th>min</th>\n",
              "      <th>25%</th>\n",
              "      <th>50%</th>\n",
              "      <th>75%</th>\n",
              "      <th>max</th>\n",
              "    </tr>\n",
              "  </thead>\n",
              "  <tbody>\n",
              "    <tr>\n",
              "      <th>year</th>\n",
              "      <td>4340.0</td>\n",
              "      <td>2013.090783</td>\n",
              "      <td>4.215344</td>\n",
              "      <td>1992.0</td>\n",
              "      <td>2011.00</td>\n",
              "      <td>2014.0</td>\n",
              "      <td>2016.0</td>\n",
              "      <td>2020.0</td>\n",
              "    </tr>\n",
              "    <tr>\n",
              "      <th>selling_price</th>\n",
              "      <td>4340.0</td>\n",
              "      <td>504127.311751</td>\n",
              "      <td>578548.736139</td>\n",
              "      <td>20000.0</td>\n",
              "      <td>208749.75</td>\n",
              "      <td>350000.0</td>\n",
              "      <td>600000.0</td>\n",
              "      <td>8900000.0</td>\n",
              "    </tr>\n",
              "    <tr>\n",
              "      <th>km_driven</th>\n",
              "      <td>4340.0</td>\n",
              "      <td>66215.777419</td>\n",
              "      <td>46644.102194</td>\n",
              "      <td>1.0</td>\n",
              "      <td>35000.00</td>\n",
              "      <td>60000.0</td>\n",
              "      <td>90000.0</td>\n",
              "      <td>806599.0</td>\n",
              "    </tr>\n",
              "  </tbody>\n",
              "</table>\n",
              "</div>\n",
              "      <button class=\"colab-df-convert\" onclick=\"convertToInteractive('df-e89c030b-b24d-460e-bb73-8c95a6b5724e')\"\n",
              "              title=\"Convert this dataframe to an interactive table.\"\n",
              "              style=\"display:none;\">\n",
              "        \n",
              "  <svg xmlns=\"http://www.w3.org/2000/svg\" height=\"24px\"viewBox=\"0 0 24 24\"\n",
              "       width=\"24px\">\n",
              "    <path d=\"M0 0h24v24H0V0z\" fill=\"none\"/>\n",
              "    <path d=\"M18.56 5.44l.94 2.06.94-2.06 2.06-.94-2.06-.94-.94-2.06-.94 2.06-2.06.94zm-11 1L8.5 8.5l.94-2.06 2.06-.94-2.06-.94L8.5 2.5l-.94 2.06-2.06.94zm10 10l.94 2.06.94-2.06 2.06-.94-2.06-.94-.94-2.06-.94 2.06-2.06.94z\"/><path d=\"M17.41 7.96l-1.37-1.37c-.4-.4-.92-.59-1.43-.59-.52 0-1.04.2-1.43.59L10.3 9.45l-7.72 7.72c-.78.78-.78 2.05 0 2.83L4 21.41c.39.39.9.59 1.41.59.51 0 1.02-.2 1.41-.59l7.78-7.78 2.81-2.81c.8-.78.8-2.07 0-2.86zM5.41 20L4 18.59l7.72-7.72 1.47 1.35L5.41 20z\"/>\n",
              "  </svg>\n",
              "      </button>\n",
              "      \n",
              "  <style>\n",
              "    .colab-df-container {\n",
              "      display:flex;\n",
              "      flex-wrap:wrap;\n",
              "      gap: 12px;\n",
              "    }\n",
              "\n",
              "    .colab-df-convert {\n",
              "      background-color: #E8F0FE;\n",
              "      border: none;\n",
              "      border-radius: 50%;\n",
              "      cursor: pointer;\n",
              "      display: none;\n",
              "      fill: #1967D2;\n",
              "      height: 32px;\n",
              "      padding: 0 0 0 0;\n",
              "      width: 32px;\n",
              "    }\n",
              "\n",
              "    .colab-df-convert:hover {\n",
              "      background-color: #E2EBFA;\n",
              "      box-shadow: 0px 1px 2px rgba(60, 64, 67, 0.3), 0px 1px 3px 1px rgba(60, 64, 67, 0.15);\n",
              "      fill: #174EA6;\n",
              "    }\n",
              "\n",
              "    [theme=dark] .colab-df-convert {\n",
              "      background-color: #3B4455;\n",
              "      fill: #D2E3FC;\n",
              "    }\n",
              "\n",
              "    [theme=dark] .colab-df-convert:hover {\n",
              "      background-color: #434B5C;\n",
              "      box-shadow: 0px 1px 3px 1px rgba(0, 0, 0, 0.15);\n",
              "      filter: drop-shadow(0px 1px 2px rgba(0, 0, 0, 0.3));\n",
              "      fill: #FFFFFF;\n",
              "    }\n",
              "  </style>\n",
              "\n",
              "      <script>\n",
              "        const buttonEl =\n",
              "          document.querySelector('#df-e89c030b-b24d-460e-bb73-8c95a6b5724e button.colab-df-convert');\n",
              "        buttonEl.style.display =\n",
              "          google.colab.kernel.accessAllowed ? 'block' : 'none';\n",
              "\n",
              "        async function convertToInteractive(key) {\n",
              "          const element = document.querySelector('#df-e89c030b-b24d-460e-bb73-8c95a6b5724e');\n",
              "          const dataTable =\n",
              "            await google.colab.kernel.invokeFunction('convertToInteractive',\n",
              "                                                     [key], {});\n",
              "          if (!dataTable) return;\n",
              "\n",
              "          const docLinkHtml = 'Like what you see? Visit the ' +\n",
              "            '<a target=\"_blank\" href=https://colab.research.google.com/notebooks/data_table.ipynb>data table notebook</a>'\n",
              "            + ' to learn more about interactive tables.';\n",
              "          element.innerHTML = '';\n",
              "          dataTable['output_type'] = 'display_data';\n",
              "          await google.colab.output.renderOutput(dataTable, element);\n",
              "          const docLink = document.createElement('div');\n",
              "          docLink.innerHTML = docLinkHtml;\n",
              "          element.appendChild(docLink);\n",
              "        }\n",
              "      </script>\n",
              "    </div>\n",
              "  </div>\n",
              "  "
            ]
          },
          "metadata": {},
          "execution_count": 15
        }
      ]
    },
    {
      "cell_type": "code",
      "source": [
        "cardataset.describe(include = \"object\")"
      ],
      "metadata": {
        "id": "fySzByK5N32G",
        "colab": {
          "base_uri": "https://localhost:8080/",
          "height": 175
        },
        "outputId": "338e0b81-fd98-4f52-d308-7fe36f96961e"
      },
      "execution_count": 16,
      "outputs": [
        {
          "output_type": "execute_result",
          "data": {
            "text/plain": [
              "                          name    fuel seller_type transmission        owner\n",
              "count                     4340    4340        4340         4340         4340\n",
              "unique                    1491       5           3            2            5\n",
              "top     Maruti Swift Dzire VDI  Diesel  Individual       Manual  First Owner\n",
              "freq                        69    2153        3244         3892         2832"
            ],
            "text/html": [
              "\n",
              "  <div id=\"df-5889468f-f20d-4526-b864-93550bb7b97c\">\n",
              "    <div class=\"colab-df-container\">\n",
              "      <div>\n",
              "<style scoped>\n",
              "    .dataframe tbody tr th:only-of-type {\n",
              "        vertical-align: middle;\n",
              "    }\n",
              "\n",
              "    .dataframe tbody tr th {\n",
              "        vertical-align: top;\n",
              "    }\n",
              "\n",
              "    .dataframe thead th {\n",
              "        text-align: right;\n",
              "    }\n",
              "</style>\n",
              "<table border=\"1\" class=\"dataframe\">\n",
              "  <thead>\n",
              "    <tr style=\"text-align: right;\">\n",
              "      <th></th>\n",
              "      <th>name</th>\n",
              "      <th>fuel</th>\n",
              "      <th>seller_type</th>\n",
              "      <th>transmission</th>\n",
              "      <th>owner</th>\n",
              "    </tr>\n",
              "  </thead>\n",
              "  <tbody>\n",
              "    <tr>\n",
              "      <th>count</th>\n",
              "      <td>4340</td>\n",
              "      <td>4340</td>\n",
              "      <td>4340</td>\n",
              "      <td>4340</td>\n",
              "      <td>4340</td>\n",
              "    </tr>\n",
              "    <tr>\n",
              "      <th>unique</th>\n",
              "      <td>1491</td>\n",
              "      <td>5</td>\n",
              "      <td>3</td>\n",
              "      <td>2</td>\n",
              "      <td>5</td>\n",
              "    </tr>\n",
              "    <tr>\n",
              "      <th>top</th>\n",
              "      <td>Maruti Swift Dzire VDI</td>\n",
              "      <td>Diesel</td>\n",
              "      <td>Individual</td>\n",
              "      <td>Manual</td>\n",
              "      <td>First Owner</td>\n",
              "    </tr>\n",
              "    <tr>\n",
              "      <th>freq</th>\n",
              "      <td>69</td>\n",
              "      <td>2153</td>\n",
              "      <td>3244</td>\n",
              "      <td>3892</td>\n",
              "      <td>2832</td>\n",
              "    </tr>\n",
              "  </tbody>\n",
              "</table>\n",
              "</div>\n",
              "      <button class=\"colab-df-convert\" onclick=\"convertToInteractive('df-5889468f-f20d-4526-b864-93550bb7b97c')\"\n",
              "              title=\"Convert this dataframe to an interactive table.\"\n",
              "              style=\"display:none;\">\n",
              "        \n",
              "  <svg xmlns=\"http://www.w3.org/2000/svg\" height=\"24px\"viewBox=\"0 0 24 24\"\n",
              "       width=\"24px\">\n",
              "    <path d=\"M0 0h24v24H0V0z\" fill=\"none\"/>\n",
              "    <path d=\"M18.56 5.44l.94 2.06.94-2.06 2.06-.94-2.06-.94-.94-2.06-.94 2.06-2.06.94zm-11 1L8.5 8.5l.94-2.06 2.06-.94-2.06-.94L8.5 2.5l-.94 2.06-2.06.94zm10 10l.94 2.06.94-2.06 2.06-.94-2.06-.94-.94-2.06-.94 2.06-2.06.94z\"/><path d=\"M17.41 7.96l-1.37-1.37c-.4-.4-.92-.59-1.43-.59-.52 0-1.04.2-1.43.59L10.3 9.45l-7.72 7.72c-.78.78-.78 2.05 0 2.83L4 21.41c.39.39.9.59 1.41.59.51 0 1.02-.2 1.41-.59l7.78-7.78 2.81-2.81c.8-.78.8-2.07 0-2.86zM5.41 20L4 18.59l7.72-7.72 1.47 1.35L5.41 20z\"/>\n",
              "  </svg>\n",
              "      </button>\n",
              "      \n",
              "  <style>\n",
              "    .colab-df-container {\n",
              "      display:flex;\n",
              "      flex-wrap:wrap;\n",
              "      gap: 12px;\n",
              "    }\n",
              "\n",
              "    .colab-df-convert {\n",
              "      background-color: #E8F0FE;\n",
              "      border: none;\n",
              "      border-radius: 50%;\n",
              "      cursor: pointer;\n",
              "      display: none;\n",
              "      fill: #1967D2;\n",
              "      height: 32px;\n",
              "      padding: 0 0 0 0;\n",
              "      width: 32px;\n",
              "    }\n",
              "\n",
              "    .colab-df-convert:hover {\n",
              "      background-color: #E2EBFA;\n",
              "      box-shadow: 0px 1px 2px rgba(60, 64, 67, 0.3), 0px 1px 3px 1px rgba(60, 64, 67, 0.15);\n",
              "      fill: #174EA6;\n",
              "    }\n",
              "\n",
              "    [theme=dark] .colab-df-convert {\n",
              "      background-color: #3B4455;\n",
              "      fill: #D2E3FC;\n",
              "    }\n",
              "\n",
              "    [theme=dark] .colab-df-convert:hover {\n",
              "      background-color: #434B5C;\n",
              "      box-shadow: 0px 1px 3px 1px rgba(0, 0, 0, 0.15);\n",
              "      filter: drop-shadow(0px 1px 2px rgba(0, 0, 0, 0.3));\n",
              "      fill: #FFFFFF;\n",
              "    }\n",
              "  </style>\n",
              "\n",
              "      <script>\n",
              "        const buttonEl =\n",
              "          document.querySelector('#df-5889468f-f20d-4526-b864-93550bb7b97c button.colab-df-convert');\n",
              "        buttonEl.style.display =\n",
              "          google.colab.kernel.accessAllowed ? 'block' : 'none';\n",
              "\n",
              "        async function convertToInteractive(key) {\n",
              "          const element = document.querySelector('#df-5889468f-f20d-4526-b864-93550bb7b97c');\n",
              "          const dataTable =\n",
              "            await google.colab.kernel.invokeFunction('convertToInteractive',\n",
              "                                                     [key], {});\n",
              "          if (!dataTable) return;\n",
              "\n",
              "          const docLinkHtml = 'Like what you see? Visit the ' +\n",
              "            '<a target=\"_blank\" href=https://colab.research.google.com/notebooks/data_table.ipynb>data table notebook</a>'\n",
              "            + ' to learn more about interactive tables.';\n",
              "          element.innerHTML = '';\n",
              "          dataTable['output_type'] = 'display_data';\n",
              "          await google.colab.output.renderOutput(dataTable, element);\n",
              "          const docLink = document.createElement('div');\n",
              "          docLink.innerHTML = docLinkHtml;\n",
              "          element.appendChild(docLink);\n",
              "        }\n",
              "      </script>\n",
              "    </div>\n",
              "  </div>\n",
              "  "
            ]
          },
          "metadata": {},
          "execution_count": 16
        }
      ]
    },
    {
      "cell_type": "code",
      "source": [
        "cardataset.corr().style.background_gradient()"
      ],
      "metadata": {
        "id": "UuMtegFmODrE",
        "colab": {
          "base_uri": "https://localhost:8080/",
          "height": 143
        },
        "outputId": "6c9fb32b-c1aa-42f3-d968-13f794265a5d"
      },
      "execution_count": 17,
      "outputs": [
        {
          "output_type": "execute_result",
          "data": {
            "text/plain": [
              "<pandas.io.formats.style.Styler at 0x7fcc7439f520>"
            ],
            "text/html": [
              "<style type=\"text/css\">\n",
              "#T_c20a1_row0_col0, #T_c20a1_row1_col1, #T_c20a1_row2_col2 {\n",
              "  background-color: #023858;\n",
              "  color: #f1f1f1;\n",
              "}\n",
              "#T_c20a1_row0_col1 {\n",
              "  background-color: #6fa7ce;\n",
              "  color: #f1f1f1;\n",
              "}\n",
              "#T_c20a1_row0_col2, #T_c20a1_row2_col0, #T_c20a1_row2_col1 {\n",
              "  background-color: #fff7fb;\n",
              "  color: #000000;\n",
              "}\n",
              "#T_c20a1_row1_col0 {\n",
              "  background-color: #4897c4;\n",
              "  color: #f1f1f1;\n",
              "}\n",
              "#T_c20a1_row1_col2 {\n",
              "  background-color: #e4e1ef;\n",
              "  color: #000000;\n",
              "}\n",
              "</style>\n",
              "<table id=\"T_c20a1_\" class=\"dataframe\">\n",
              "  <thead>\n",
              "    <tr>\n",
              "      <th class=\"blank level0\" >&nbsp;</th>\n",
              "      <th class=\"col_heading level0 col0\" >year</th>\n",
              "      <th class=\"col_heading level0 col1\" >selling_price</th>\n",
              "      <th class=\"col_heading level0 col2\" >km_driven</th>\n",
              "    </tr>\n",
              "  </thead>\n",
              "  <tbody>\n",
              "    <tr>\n",
              "      <th id=\"T_c20a1_level0_row0\" class=\"row_heading level0 row0\" >year</th>\n",
              "      <td id=\"T_c20a1_row0_col0\" class=\"data row0 col0\" >1.000000</td>\n",
              "      <td id=\"T_c20a1_row0_col1\" class=\"data row0 col1\" >0.413922</td>\n",
              "      <td id=\"T_c20a1_row0_col2\" class=\"data row0 col2\" >-0.419688</td>\n",
              "    </tr>\n",
              "    <tr>\n",
              "      <th id=\"T_c20a1_level0_row1\" class=\"row_heading level0 row1\" >selling_price</th>\n",
              "      <td id=\"T_c20a1_row1_col0\" class=\"data row1 col0\" >0.413922</td>\n",
              "      <td id=\"T_c20a1_row1_col1\" class=\"data row1 col1\" >1.000000</td>\n",
              "      <td id=\"T_c20a1_row1_col2\" class=\"data row1 col2\" >-0.192289</td>\n",
              "    </tr>\n",
              "    <tr>\n",
              "      <th id=\"T_c20a1_level0_row2\" class=\"row_heading level0 row2\" >km_driven</th>\n",
              "      <td id=\"T_c20a1_row2_col0\" class=\"data row2 col0\" >-0.419688</td>\n",
              "      <td id=\"T_c20a1_row2_col1\" class=\"data row2 col1\" >-0.192289</td>\n",
              "      <td id=\"T_c20a1_row2_col2\" class=\"data row2 col2\" >1.000000</td>\n",
              "    </tr>\n",
              "  </tbody>\n",
              "</table>\n"
            ]
          },
          "metadata": {},
          "execution_count": 17
        }
      ]
    },
    {
      "cell_type": "code",
      "source": [
        "corr1 = (cardataset[\"selling_price\"].corr(cardataset[\"year\"]))\n",
        "print(\"Pearson correlation coefficient between Selling price and year\",corr1)\n",
        "corr2 = (cardataset[\"selling_price\"].corr(cardataset[\"km_driven\"]))\n",
        "print(\"Pearson correlation coefficient between Selling price and KM Driven\",corr2)\n",
        "corr3 = (cardataset[\"year\"].corr(cardataset[\"km_driven\"]))\n",
        "print(\"Pearson correlation coefficient between KM Driven and year\",corr3)"
      ],
      "metadata": {
        "id": "uV1smc6L4pz5",
        "colab": {
          "base_uri": "https://localhost:8080/"
        },
        "outputId": "19fa5f5e-61e8-404c-9a20-239564445069"
      },
      "execution_count": 18,
      "outputs": [
        {
          "output_type": "stream",
          "name": "stdout",
          "text": [
            "Pearson correlation coefficient between Selling price and year 0.4139216798108551\n",
            "Pearson correlation coefficient between Selling price and KM Driven -0.19228863054511436\n",
            "Pearson correlation coefficient between KM Driven and year -0.4196881460829117\n"
          ]
        }
      ]
    },
    {
      "cell_type": "code",
      "source": [
        "cardataset.hist(figsize = (10, 10), bins = 15, legend = False)\n",
        "plt.show()"
      ],
      "metadata": {
        "id": "DhRVvCoSUe1w",
        "colab": {
          "base_uri": "https://localhost:8080/",
          "height": 608
        },
        "outputId": "3e438031-266f-4bf5-f690-64ef5d7803ac"
      },
      "execution_count": 19,
      "outputs": [
        {
          "output_type": "display_data",
          "data": {
            "text/plain": [
              "<Figure size 720x720 with 4 Axes>"
            ],
            "image/png": "[encoded data removed]"
          },
          "metadata": {
            "needs_background": "light"
          }
        }
      ]
    },
    {
      "cell_type": "markdown",
      "source": [
        "Yes , there is affect on feature selection on correlation analysis. In the above problem we calculate the Pearson correlation coefficient between the variables \"var1\" and \"var2\" in the dataset. The Pearson correlation coefficient is a measure of the strength and direction of the linear relationship between the two variables, with a value ranging from -1 (strong negative correlation) to 1 (strong positive correlation).\n",
        "In the given data it is clear from the heat map that there is no correlation between the attributes so we will not be updating the attributes."
      ],
      "metadata": {
        "id": "4X-oip9nVjF4"
      }
    },
    {
      "cell_type": "markdown",
      "source": [
        "## **# 2. Data Pre-processing and cleaning**"
      ],
      "metadata": {
        "id": "KSS1HfVNWPOg"
      }
    },
    {
      "cell_type": "markdown",
      "source": [
        "**Task 2.1.1** Do the appropriate pre-processing of the data like identifying NULL or Missing Values if any, handling of outliers if present in the dataset, skewed data etc. Mention the pre-processing steps performed in the markdown cell. Explore a few latest data balancing tasks and its effect on model evaluation parameters."
      ],
      "metadata": {
        "id": "i0bgXcDEWeLp"
      }
    },
    {
      "cell_type": "markdown",
      "source": [
        "Checking for null values"
      ],
      "metadata": {
        "id": "eE0_42KKopid"
      }
    },
    {
      "cell_type": "code",
      "source": [
        "# identifying NULL or Missing Values\n",
        "cardataset.isnull().sum()\n"
      ],
      "metadata": {
        "id": "dQmJ78CZXHTi",
        "colab": {
          "base_uri": "https://localhost:8080/"
        },
        "outputId": "3dc3d1b1-4af5-434e-fb41-6712267c842d"
      },
      "execution_count": 20,
      "outputs": [
        {
          "output_type": "execute_result",
          "data": {
            "text/plain": [
              "name             0\n",
              "year             0\n",
              "selling_price    0\n",
              "km_driven        0\n",
              "fuel             0\n",
              "seller_type      0\n",
              "transmission     0\n",
              "owner            0\n",
              "dtype: int64"
            ]
          },
          "metadata": {},
          "execution_count": 20
        }
      ]
    },
    {
      "cell_type": "code",
      "source": [
        "msno.matrix(cardataset)\n",
        "plt.figure(figsize = (5,5))\n",
        "plt.show()"
      ],
      "metadata": {
        "colab": {
          "base_uri": "https://localhost:8080/",
          "height": 616
        },
        "id": "-zRnRCOspgCc",
        "outputId": "b5050313-82e0-4d6d-b236-1a21020400f7"
      },
      "execution_count": 21,
      "outputs": [
        {
          "output_type": "display_data",
          "data": {
            "text/plain": [
              "<Figure size 1800x720 with 2 Axes>"
            ],
            "image/png": "[encoded data removed]"
          },
          "metadata": {
            "needs_background": "light"
          }
        },
        {
          "output_type": "display_data",
          "data": {
            "text/plain": [
              "<Figure size 360x360 with 0 Axes>"
            ]
          },
          "metadata": {}
        }
      ]
    },
    {
      "cell_type": "markdown",
      "source": [
        "From the matrix plot and the sum of null values we can conclude that there is no null or empty values in the data."
      ],
      "metadata": {
        "id": "M5fGIu82M26P"
      }
    },
    {
      "cell_type": "code",
      "source": [
        "cardataset.fuel.unique()"
      ],
      "metadata": {
        "colab": {
          "base_uri": "https://localhost:8080/"
        },
        "id": "R0MUaGNwvhBM",
        "outputId": "e63545df-77bc-4fba-f1c2-746f9762f96a"
      },
      "execution_count": 22,
      "outputs": [
        {
          "output_type": "execute_result",
          "data": {
            "text/plain": [
              "array(['Petrol', 'Diesel', 'CNG', 'LPG', 'Electric'], dtype=object)"
            ]
          },
          "metadata": {},
          "execution_count": 22
        }
      ]
    },
    {
      "cell_type": "code",
      "source": [
        "cardataset.seller_type.unique()"
      ],
      "metadata": {
        "colab": {
          "base_uri": "https://localhost:8080/"
        },
        "id": "5CmiwOQpwhHf",
        "outputId": "8396fc66-8d97-4e14-fcff-0a664680b8a1"
      },
      "execution_count": 23,
      "outputs": [
        {
          "output_type": "execute_result",
          "data": {
            "text/plain": [
              "array(['Individual', 'Dealer', 'Trustmark Dealer'], dtype=object)"
            ]
          },
          "metadata": {},
          "execution_count": 23
        }
      ]
    },
    {
      "cell_type": "code",
      "source": [
        "cardataset.transmission.unique()"
      ],
      "metadata": {
        "colab": {
          "base_uri": "https://localhost:8080/"
        },
        "id": "oV2cX7GGwmf3",
        "outputId": "7db08239-a906-4eae-9c14-25541cbcb8fb"
      },
      "execution_count": 24,
      "outputs": [
        {
          "output_type": "execute_result",
          "data": {
            "text/plain": [
              "array(['Manual', 'Automatic'], dtype=object)"
            ]
          },
          "metadata": {},
          "execution_count": 24
        }
      ]
    },
    {
      "cell_type": "code",
      "source": [
        "cardataset.owner.unique()"
      ],
      "metadata": {
        "colab": {
          "base_uri": "https://localhost:8080/"
        },
        "id": "EcLYni7hwpuL",
        "outputId": "aab8e83c-63af-4812-fddf-98345409765c"
      },
      "execution_count": 25,
      "outputs": [
        {
          "output_type": "execute_result",
          "data": {
            "text/plain": [
              "array(['First Owner', 'Second Owner', 'Fourth & Above Owner',\n",
              "       'Third Owner', 'Test Drive Car'], dtype=object)"
            ]
          },
          "metadata": {},
          "execution_count": 25
        }
      ]
    },
    {
      "cell_type": "code",
      "source": [
        "cardataset.year.unique()"
      ],
      "metadata": {
        "colab": {
          "base_uri": "https://localhost:8080/"
        },
        "id": "XkT3u9avHSlz",
        "outputId": "e51146ab-c112-429f-c402-06b6ea1a3e78"
      },
      "execution_count": 26,
      "outputs": [
        {
          "output_type": "execute_result",
          "data": {
            "text/plain": [
              "array([2007, 2012, 2017, 2014, 2016, 2015, 2018, 2019, 2013, 2011, 2010,\n",
              "       2009, 2006, 1996, 2005, 2008, 2004, 1998, 2003, 2002, 2020, 2000,\n",
              "       1999, 2001, 1995, 1997, 1992])"
            ]
          },
          "metadata": {},
          "execution_count": 26
        }
      ]
    },
    {
      "cell_type": "markdown",
      "source": [
        "From the above data it is clear that there are no outliers for the fuel, seller type, transmission and owner data. The Outliers for textual data can occur due to human errors like different spelling. It is clear that all the values are unique for the attributes which have textual data"
      ],
      "metadata": {
        "id": "ssulGKxlCMDc"
      }
    },
    {
      "cell_type": "code",
      "source": [
        "len(cardataset.name.unique())"
      ],
      "metadata": {
        "colab": {
          "base_uri": "https://localhost:8080/"
        },
        "id": "UZk7dVnhKu5h",
        "outputId": "afbf4290-ae6d-48e7-96c1-38d2db805699"
      },
      "execution_count": 27,
      "outputs": [
        {
          "output_type": "execute_result",
          "data": {
            "text/plain": [
              "1491"
            ]
          },
          "metadata": {},
          "execution_count": 27
        }
      ]
    },
    {
      "cell_type": "markdown",
      "source": [
        "The car name attribute has 1491 unique values which is higher for a dataset of 4000 values  , we can say that name is a column with high cardinality. We will change the name to Company attribute which will reduce the cardinality and remove the name attribute."
      ],
      "metadata": {
        "id": "Vc3L5mw_bUoP"
      }
    },
    {
      "cell_type": "code",
      "source": [
        "company_model = cardataset['name'].str.split(\" \", expand = True)\n",
        "company_model.head()\n",
        "cardataset['company'] = company_model[0]\n",
        "cardataset.drop(['name'], axis=1, inplace=True)"
      ],
      "metadata": {
        "id": "fFkPPSlQhukM"
      },
      "execution_count": 28,
      "outputs": []
    },
    {
      "cell_type": "code",
      "source": [
        "len(cardataset.company.unique())"
      ],
      "metadata": {
        "colab": {
          "base_uri": "https://localhost:8080/"
        },
        "id": "LOXjMI9djfJ0",
        "outputId": "0222c71e-50d2-4711-b4de-4252f61ef0e5"
      },
      "execution_count": 29,
      "outputs": [
        {
          "output_type": "execute_result",
          "data": {
            "text/plain": [
              "29"
            ]
          },
          "metadata": {},
          "execution_count": 29
        }
      ]
    },
    {
      "cell_type": "markdown",
      "source": [
        "As we can see we have reduced the cardinality to 29 and 185"
      ],
      "metadata": {
        "id": "R0Ty_UUovFHv"
      }
    },
    {
      "cell_type": "code",
      "source": [
        "len(cardataset.year.unique())"
      ],
      "metadata": {
        "colab": {
          "base_uri": "https://localhost:8080/"
        },
        "id": "zjodNDx7j6Qs",
        "outputId": "e5125852-7087-477a-bf73-2f6bf0a63da4"
      },
      "execution_count": 30,
      "outputs": [
        {
          "output_type": "execute_result",
          "data": {
            "text/plain": [
              "27"
            ]
          },
          "metadata": {},
          "execution_count": 30
        }
      ]
    },
    {
      "cell_type": "code",
      "source": [
        "cardataset.head()"
      ],
      "metadata": {
        "colab": {
          "base_uri": "https://localhost:8080/",
          "height": 206
        },
        "id": "EnFrtmMTkZfn",
        "outputId": "903f37bf-d2ad-49e9-f13b-983bd325568f"
      },
      "execution_count": 31,
      "outputs": [
        {
          "output_type": "execute_result",
          "data": {
            "text/plain": [
              "   year  selling_price  km_driven    fuel seller_type transmission  \\\n",
              "0  2007          60000      70000  Petrol  Individual       Manual   \n",
              "1  2007         135000      50000  Petrol  Individual       Manual   \n",
              "2  2012         600000     100000  Diesel  Individual       Manual   \n",
              "3  2017         250000      46000  Petrol  Individual       Manual   \n",
              "4  2014         450000     141000  Diesel  Individual       Manual   \n",
              "\n",
              "          owner  company  \n",
              "0   First Owner   Maruti  \n",
              "1   First Owner   Maruti  \n",
              "2   First Owner  Hyundai  \n",
              "3   First Owner   Datsun  \n",
              "4  Second Owner    Honda  "
            ],
            "text/html": [
              "\n",
              "  <div id=\"df-13a00150-207f-4152-ae39-45493c3c1623\">\n",
              "    <div class=\"colab-df-container\">\n",
              "      <div>\n",
              "<style scoped>\n",
              "    .dataframe tbody tr th:only-of-type {\n",
              "        vertical-align: middle;\n",
              "    }\n",
              "\n",
              "    .dataframe tbody tr th {\n",
              "        vertical-align: top;\n",
              "    }\n",
              "\n",
              "    .dataframe thead th {\n",
              "        text-align: right;\n",
              "    }\n",
              "</style>\n",
              "<table border=\"1\" class=\"dataframe\">\n",
              "  <thead>\n",
              "    <tr style=\"text-align: right;\">\n",
              "      <th></th>\n",
              "      <th>year</th>\n",
              "      <th>selling_price</th>\n",
              "      <th>km_driven</th>\n",
              "      <th>fuel</th>\n",
              "      <th>seller_type</th>\n",
              "      <th>transmission</th>\n",
              "      <th>owner</th>\n",
              "      <th>company</th>\n",
              "    </tr>\n",
              "  </thead>\n",
              "  <tbody>\n",
              "    <tr>\n",
              "      <th>0</th>\n",
              "      <td>2007</td>\n",
              "      <td>60000</td>\n",
              "      <td>70000</td>\n",
              "      <td>Petrol</td>\n",
              "      <td>Individual</td>\n",
              "      <td>Manual</td>\n",
              "      <td>First Owner</td>\n",
              "      <td>Maruti</td>\n",
              "    </tr>\n",
              "    <tr>\n",
              "      <th>1</th>\n",
              "      <td>2007</td>\n",
              "      <td>135000</td>\n",
              "      <td>50000</td>\n",
              "      <td>Petrol</td>\n",
              "      <td>Individual</td>\n",
              "      <td>Manual</td>\n",
              "      <td>First Owner</td>\n",
              "      <td>Maruti</td>\n",
              "    </tr>\n",
              "    <tr>\n",
              "      <th>2</th>\n",
              "      <td>2012</td>\n",
              "      <td>600000</td>\n",
              "      <td>100000</td>\n",
              "      <td>Diesel</td>\n",
              "      <td>Individual</td>\n",
              "      <td>Manual</td>\n",
              "      <td>First Owner</td>\n",
              "      <td>Hyundai</td>\n",
              "    </tr>\n",
              "    <tr>\n",
              "      <th>3</th>\n",
              "      <td>2017</td>\n",
              "      <td>250000</td>\n",
              "      <td>46000</td>\n",
              "      <td>Petrol</td>\n",
              "      <td>Individual</td>\n",
              "      <td>Manual</td>\n",
              "      <td>First Owner</td>\n",
              "      <td>Datsun</td>\n",
              "    </tr>\n",
              "    <tr>\n",
              "      <th>4</th>\n",
              "      <td>2014</td>\n",
              "      <td>450000</td>\n",
              "      <td>141000</td>\n",
              "      <td>Diesel</td>\n",
              "      <td>Individual</td>\n",
              "      <td>Manual</td>\n",
              "      <td>Second Owner</td>\n",
              "      <td>Honda</td>\n",
              "    </tr>\n",
              "  </tbody>\n",
              "</table>\n",
              "</div>\n",
              "      <button class=\"colab-df-convert\" onclick=\"convertToInteractive('df-13a00150-207f-4152-ae39-45493c3c1623')\"\n",
              "              title=\"Convert this dataframe to an interactive table.\"\n",
              "              style=\"display:none;\">\n",
              "        \n",
              "  <svg xmlns=\"http://www.w3.org/2000/svg\" height=\"24px\"viewBox=\"0 0 24 24\"\n",
              "       width=\"24px\">\n",
              "    <path d=\"M0 0h24v24H0V0z\" fill=\"none\"/>\n",
              "    <path d=\"M18.56 5.44l.94 2.06.94-2.06 2.06-.94-2.06-.94-.94-2.06-.94 2.06-2.06.94zm-11 1L8.5 8.5l.94-2.06 2.06-.94-2.06-.94L8.5 2.5l-.94 2.06-2.06.94zm10 10l.94 2.06.94-2.06 2.06-.94-2.06-.94-.94-2.06-.94 2.06-2.06.94z\"/><path d=\"M17.41 7.96l-1.37-1.37c-.4-.4-.92-.59-1.43-.59-.52 0-1.04.2-1.43.59L10.3 9.45l-7.72 7.72c-.78.78-.78 2.05 0 2.83L4 21.41c.39.39.9.59 1.41.59.51 0 1.02-.2 1.41-.59l7.78-7.78 2.81-2.81c.8-.78.8-2.07 0-2.86zM5.41 20L4 18.59l7.72-7.72 1.47 1.35L5.41 20z\"/>\n",
              "  </svg>\n",
              "      </button>\n",
              "      \n",
              "  <style>\n",
              "    .colab-df-container {\n",
              "      display:flex;\n",
              "      flex-wrap:wrap;\n",
              "      gap: 12px;\n",
              "    }\n",
              "\n",
              "    .colab-df-convert {\n",
              "      background-color: #E8F0FE;\n",
              "      border: none;\n",
              "      border-radius: 50%;\n",
              "      cursor: pointer;\n",
              "      display: none;\n",
              "      fill: #1967D2;\n",
              "      height: 32px;\n",
              "      padding: 0 0 0 0;\n",
              "      width: 32px;\n",
              "    }\n",
              "\n",
              "    .colab-df-convert:hover {\n",
              "      background-color: #E2EBFA;\n",
              "      box-shadow: 0px 1px 2px rgba(60, 64, 67, 0.3), 0px 1px 3px 1px rgba(60, 64, 67, 0.15);\n",
              "      fill: #174EA6;\n",
              "    }\n",
              "\n",
              "    [theme=dark] .colab-df-convert {\n",
              "      background-color: #3B4455;\n",
              "      fill: #D2E3FC;\n",
              "    }\n",
              "\n",
              "    [theme=dark] .colab-df-convert:hover {\n",
              "      background-color: #434B5C;\n",
              "      box-shadow: 0px 1px 3px 1px rgba(0, 0, 0, 0.15);\n",
              "      filter: drop-shadow(0px 1px 2px rgba(0, 0, 0, 0.3));\n",
              "      fill: #FFFFFF;\n",
              "    }\n",
              "  </style>\n",
              "\n",
              "      <script>\n",
              "        const buttonEl =\n",
              "          document.querySelector('#df-13a00150-207f-4152-ae39-45493c3c1623 button.colab-df-convert');\n",
              "        buttonEl.style.display =\n",
              "          google.colab.kernel.accessAllowed ? 'block' : 'none';\n",
              "\n",
              "        async function convertToInteractive(key) {\n",
              "          const element = document.querySelector('#df-13a00150-207f-4152-ae39-45493c3c1623');\n",
              "          const dataTable =\n",
              "            await google.colab.kernel.invokeFunction('convertToInteractive',\n",
              "                                                     [key], {});\n",
              "          if (!dataTable) return;\n",
              "\n",
              "          const docLinkHtml = 'Like what you see? Visit the ' +\n",
              "            '<a target=\"_blank\" href=https://colab.research.google.com/notebooks/data_table.ipynb>data table notebook</a>'\n",
              "            + ' to learn more about interactive tables.';\n",
              "          element.innerHTML = '';\n",
              "          dataTable['output_type'] = 'display_data';\n",
              "          await google.colab.output.renderOutput(dataTable, element);\n",
              "          const docLink = document.createElement('div');\n",
              "          docLink.innerHTML = docLinkHtml;\n",
              "          element.appendChild(docLink);\n",
              "        }\n",
              "      </script>\n",
              "    </div>\n",
              "  </div>\n",
              "  "
            ]
          },
          "metadata": {},
          "execution_count": 31
        }
      ]
    },
    {
      "cell_type": "code",
      "source": [
        "sns.boxplot(cardataset['km_driven'])\n",
        "plt.title(\"Box Plot before km driven outlier removing\")\n",
        "plt.show()"
      ],
      "metadata": {
        "colab": {
          "base_uri": "https://localhost:8080/",
          "height": 352
        },
        "id": "jX8gQ_jHxn1k",
        "outputId": "5832c680-9ac2-4778-e580-88013c7bf533"
      },
      "execution_count": 32,
      "outputs": [
        {
          "output_type": "stream",
          "name": "stderr",
          "text": [
            "/usr/local/lib/python3.8/dist-packages/seaborn/_decorators.py:36: FutureWarning: Pass the following variable as a keyword arg: x. From version 0.12, the only valid positional argument will be `data`, and passing other arguments without an explicit keyword will result in an error or misinterpretation.\n",
            "  warnings.warn(\n"
          ]
        },
        {
          "output_type": "display_data",
          "data": {
            "text/plain": [
              "<Figure size 432x288 with 1 Axes>"
            ],
            "image/png": "[encoded data removed]"
          },
          "metadata": {
            "needs_background": "light"
          }
        }
      ]
    },
    {
      "cell_type": "code",
      "source": [
        "print(cardataset['km_driven'].skew())\n",
        "cardataset['km_driven'].describe()"
      ],
      "metadata": {
        "colab": {
          "base_uri": "https://localhost:8080/"
        },
        "id": "gfXTcb7VC_MN",
        "outputId": "918741ab-dfd0-4e1b-c289-c3a44e8a13a6"
      },
      "execution_count": 33,
      "outputs": [
        {
          "output_type": "stream",
          "name": "stdout",
          "text": [
            "2.6690569869843133\n"
          ]
        },
        {
          "output_type": "execute_result",
          "data": {
            "text/plain": [
              "count      4340.000000\n",
              "mean      66215.777419\n",
              "std       46644.102194\n",
              "min           1.000000\n",
              "25%       35000.000000\n",
              "50%       60000.000000\n",
              "75%       90000.000000\n",
              "max      806599.000000\n",
              "Name: km_driven, dtype: float64"
            ]
          },
          "metadata": {},
          "execution_count": 33
        }
      ]
    },
    {
      "cell_type": "markdown",
      "source": [
        "We can see that the km_driven data is right skewed, so outliers exists. We will remove the outliers using Quantile-based Flooring and Capping."
      ],
      "metadata": {
        "id": "69gVfJZ6Gu33"
      }
    },
    {
      "cell_type": "code",
      "source": [
        "print(cardataset['km_driven'].quantile(0.95))"
      ],
      "metadata": {
        "colab": {
          "base_uri": "https://localhost:8080/"
        },
        "id": "vEjVQt2IEgun",
        "outputId": "19a58559-e739-4272-bdda-0334639bc69f"
      },
      "execution_count": 34,
      "outputs": [
        {
          "output_type": "stream",
          "name": "stdout",
          "text": [
            "140000.0\n"
          ]
        }
      ]
    },
    {
      "cell_type": "code",
      "source": [
        "cardataset['km_driven'] = np.where(cardataset['km_driven'] >140000.0, 140000.0,cardataset['km_driven'])\n",
        "print(cardataset['km_driven'].skew())"
      ],
      "metadata": {
        "colab": {
          "base_uri": "https://localhost:8080/"
        },
        "id": "LsuxtJr8EqNl",
        "outputId": "7ebc6ff5-21d2-4fda-ca05-cd10703f6130"
      },
      "execution_count": 35,
      "outputs": [
        {
          "output_type": "stream",
          "name": "stdout",
          "text": [
            "0.3768885260732784\n"
          ]
        }
      ]
    },
    {
      "cell_type": "code",
      "source": [
        "sns.boxplot(cardataset['km_driven'])\n",
        "plt.title(\"Box Plot after km driven outlier removing\")\n",
        "plt.show()"
      ],
      "metadata": {
        "colab": {
          "base_uri": "https://localhost:8080/",
          "height": 352
        },
        "id": "RxnUsbPmFluq",
        "outputId": "95c92f40-134b-46b5-ce57-e6ffb7e8bceb"
      },
      "execution_count": 36,
      "outputs": [
        {
          "output_type": "stream",
          "name": "stderr",
          "text": [
            "/usr/local/lib/python3.8/dist-packages/seaborn/_decorators.py:36: FutureWarning: Pass the following variable as a keyword arg: x. From version 0.12, the only valid positional argument will be `data`, and passing other arguments without an explicit keyword will result in an error or misinterpretation.\n",
            "  warnings.warn(\n"
          ]
        },
        {
          "output_type": "display_data",
          "data": {
            "text/plain": [
              "<Figure size 432x288 with 1 Axes>"
            ],
            "image/png": "[encoded data removed]"
          },
          "metadata": {
            "needs_background": "light"
          }
        }
      ]
    },
    {
      "cell_type": "markdown",
      "source": [
        "We can see that the outliers are removed and skew value also have reduced."
      ],
      "metadata": {
        "id": "l7oLb37PGsd-"
      }
    },
    {
      "cell_type": "markdown",
      "source": [
        "**Task 2.2.2** Apply appropriate feature engineering techniques for them like Standardization, Normalization, etc. Apply the appropriate transformations depending upon your dataset’s structure and complexity. Provide proper justification. Explore a few techniques for identifying feature importance for your feature engineering task."
      ],
      "metadata": {
        "id": "fvD4NOoMWykh"
      }
    },
    {
      "cell_type": "markdown",
      "source": [
        "# Answer as below:"
      ],
      "metadata": {
        "id": "vGMgXfrT5bWF"
      }
    },
    {
      "cell_type": "markdown",
      "source": [
        "*Feature engineering is the process of using domain knowledge of the data to create features that make machine learning algorithms work better. These features can be created by combining existing features, extracting information from text, or by creating new features through a process called feature synthesis.*"
      ],
      "metadata": {
        "id": "0EqMl7vh3nuc"
      }
    },
    {
      "cell_type": "markdown",
      "source": [
        "Standardization is a common technique used in feature engineering. It involves transforming the values of a feature so that they have a mean of 0 and a standard deviation of 1."
      ],
      "metadata": {
        "id": "nptUwSOx4b76"
      }
    },
    {
      "cell_type": "code",
      "source": [
        "# Implementation of Standardization in Vehicle Dataset\n",
        "\n",
        "# Select the features to standardize\n",
        "features_to_standardize = ['selling_price']\n",
        "\n",
        "# Calculate the mean and standard deviation of each feature\n",
        "mean = cardataset[features_to_standardize].mean()\n",
        "std = cardataset[features_to_standardize].std()\n",
        "\n",
        "# Standardize the features\n",
        "cardataset[features_to_standardize] = (cardataset[features_to_standardize] - mean) / std\n",
        "cardataset\n"
      ],
      "metadata": {
        "colab": {
          "base_uri": "https://localhost:8080/",
          "height": 423
        },
        "id": "0aYVQ1xm5o0J",
        "outputId": "97d2c91c-170a-4e7b-a31d-cd00123cc53c"
      },
      "execution_count": 37,
      "outputs": [
        {
          "output_type": "execute_result",
          "data": {
            "text/plain": [
              "      year  selling_price  km_driven    fuel seller_type transmission  \\\n",
              "0     2007      -0.767658    70000.0  Petrol  Individual       Manual   \n",
              "1     2007      -0.638023    50000.0  Petrol  Individual       Manual   \n",
              "2     2012       0.165712   100000.0  Diesel  Individual       Manual   \n",
              "3     2017      -0.439250    46000.0  Petrol  Individual       Manual   \n",
              "4     2014      -0.093557   140000.0  Diesel  Individual       Manual   \n",
              "...    ...            ...        ...     ...         ...          ...   \n",
              "4335  2014      -0.162697    80000.0  Diesel  Individual       Manual   \n",
              "4336  2014      -0.162697    80000.0  Diesel  Individual       Manual   \n",
              "4337  2009      -0.681234    83000.0  Petrol  Individual       Manual   \n",
              "4338  2016       0.623755    90000.0  Diesel  Individual       Manual   \n",
              "4339  2016      -0.482461    40000.0  Petrol  Individual       Manual   \n",
              "\n",
              "             owner  company  \n",
              "0      First Owner   Maruti  \n",
              "1      First Owner   Maruti  \n",
              "2      First Owner  Hyundai  \n",
              "3      First Owner   Datsun  \n",
              "4     Second Owner    Honda  \n",
              "...            ...      ...  \n",
              "4335  Second Owner  Hyundai  \n",
              "4336  Second Owner  Hyundai  \n",
              "4337  Second Owner   Maruti  \n",
              "4338   First Owner  Hyundai  \n",
              "4339   First Owner  Renault  \n",
              "\n",
              "[4340 rows x 8 columns]"
            ],
            "text/html": [
              "\n",
              "  <div id=\"df-16067610-15a9-40d2-a25d-68584be1898f\">\n",
              "    <div class=\"colab-df-container\">\n",
              "      <div>\n",
              "<style scoped>\n",
              "    .dataframe tbody tr th:only-of-type {\n",
              "        vertical-align: middle;\n",
              "    }\n",
              "\n",
              "    .dataframe tbody tr th {\n",
              "        vertical-align: top;\n",
              "    }\n",
              "\n",
              "    .dataframe thead th {\n",
              "        text-align: right;\n",
              "    }\n",
              "</style>\n",
              "<table border=\"1\" class=\"dataframe\">\n",
              "  <thead>\n",
              "    <tr style=\"text-align: right;\">\n",
              "      <th></th>\n",
              "      <th>year</th>\n",
              "      <th>selling_price</th>\n",
              "      <th>km_driven</th>\n",
              "      <th>fuel</th>\n",
              "      <th>seller_type</th>\n",
              "      <th>transmission</th>\n",
              "      <th>owner</th>\n",
              "      <th>company</th>\n",
              "    </tr>\n",
              "  </thead>\n",
              "  <tbody>\n",
              "    <tr>\n",
              "      <th>0</th>\n",
              "      <td>2007</td>\n",
              "      <td>-0.767658</td>\n",
              "      <td>70000.0</td>\n",
              "      <td>Petrol</td>\n",
              "      <td>Individual</td>\n",
              "      <td>Manual</td>\n",
              "      <td>First Owner</td>\n",
              "      <td>Maruti</td>\n",
              "    </tr>\n",
              "    <tr>\n",
              "      <th>1</th>\n",
              "      <td>2007</td>\n",
              "      <td>-0.638023</td>\n",
              "      <td>50000.0</td>\n",
              "      <td>Petrol</td>\n",
              "      <td>Individual</td>\n",
              "      <td>Manual</td>\n",
              "      <td>First Owner</td>\n",
              "      <td>Maruti</td>\n",
              "    </tr>\n",
              "    <tr>\n",
              "      <th>2</th>\n",
              "      <td>2012</td>\n",
              "      <td>0.165712</td>\n",
              "      <td>100000.0</td>\n",
              "      <td>Diesel</td>\n",
              "      <td>Individual</td>\n",
              "      <td>Manual</td>\n",
              "      <td>First Owner</td>\n",
              "      <td>Hyundai</td>\n",
              "    </tr>\n",
              "    <tr>\n",
              "      <th>3</th>\n",
              "      <td>2017</td>\n",
              "      <td>-0.439250</td>\n",
              "      <td>46000.0</td>\n",
              "      <td>Petrol</td>\n",
              "      <td>Individual</td>\n",
              "      <td>Manual</td>\n",
              "      <td>First Owner</td>\n",
              "      <td>Datsun</td>\n",
              "    </tr>\n",
              "    <tr>\n",
              "      <th>4</th>\n",
              "      <td>2014</td>\n",
              "      <td>-0.093557</td>\n",
              "      <td>140000.0</td>\n",
              "      <td>Diesel</td>\n",
              "      <td>Individual</td>\n",
              "      <td>Manual</td>\n",
              "      <td>Second Owner</td>\n",
              "      <td>Honda</td>\n",
              "    </tr>\n",
              "    <tr>\n",
              "      <th>...</th>\n",
              "      <td>...</td>\n",
              "      <td>...</td>\n",
              "      <td>...</td>\n",
              "      <td>...</td>\n",
              "      <td>...</td>\n",
              "      <td>...</td>\n",
              "      <td>...</td>\n",
              "      <td>...</td>\n",
              "    </tr>\n",
              "    <tr>\n",
              "      <th>4335</th>\n",
              "      <td>2014</td>\n",
              "      <td>-0.162697</td>\n",
              "      <td>80000.0</td>\n",
              "      <td>Diesel</td>\n",
              "      <td>Individual</td>\n",
              "      <td>Manual</td>\n",
              "      <td>Second Owner</td>\n",
              "      <td>Hyundai</td>\n",
              "    </tr>\n",
              "    <tr>\n",
              "      <th>4336</th>\n",
              "      <td>2014</td>\n",
              "      <td>-0.162697</td>\n",
              "      <td>80000.0</td>\n",
              "      <td>Diesel</td>\n",
              "      <td>Individual</td>\n",
              "      <td>Manual</td>\n",
              "      <td>Second Owner</td>\n",
              "      <td>Hyundai</td>\n",
              "    </tr>\n",
              "    <tr>\n",
              "      <th>4337</th>\n",
              "      <td>2009</td>\n",
              "      <td>-0.681234</td>\n",
              "      <td>83000.0</td>\n",
              "      <td>Petrol</td>\n",
              "      <td>Individual</td>\n",
              "      <td>Manual</td>\n",
              "      <td>Second Owner</td>\n",
              "      <td>Maruti</td>\n",
              "    </tr>\n",
              "    <tr>\n",
              "      <th>4338</th>\n",
              "      <td>2016</td>\n",
              "      <td>0.623755</td>\n",
              "      <td>90000.0</td>\n",
              "      <td>Diesel</td>\n",
              "      <td>Individual</td>\n",
              "      <td>Manual</td>\n",
              "      <td>First Owner</td>\n",
              "      <td>Hyundai</td>\n",
              "    </tr>\n",
              "    <tr>\n",
              "      <th>4339</th>\n",
              "      <td>2016</td>\n",
              "      <td>-0.482461</td>\n",
              "      <td>40000.0</td>\n",
              "      <td>Petrol</td>\n",
              "      <td>Individual</td>\n",
              "      <td>Manual</td>\n",
              "      <td>First Owner</td>\n",
              "      <td>Renault</td>\n",
              "    </tr>\n",
              "  </tbody>\n",
              "</table>\n",
              "<p>4340 rows × 8 columns</p>\n",
              "</div>\n",
              "      <button class=\"colab-df-convert\" onclick=\"convertToInteractive('df-16067610-15a9-40d2-a25d-68584be1898f')\"\n",
              "              title=\"Convert this dataframe to an interactive table.\"\n",
              "              style=\"display:none;\">\n",
              "        \n",
              "  <svg xmlns=\"http://www.w3.org/2000/svg\" height=\"24px\"viewBox=\"0 0 24 24\"\n",
              "       width=\"24px\">\n",
              "    <path d=\"M0 0h24v24H0V0z\" fill=\"none\"/>\n",
              "    <path d=\"M18.56 5.44l.94 2.06.94-2.06 2.06-.94-2.06-.94-.94-2.06-.94 2.06-2.06.94zm-11 1L8.5 8.5l.94-2.06 2.06-.94-2.06-.94L8.5 2.5l-.94 2.06-2.06.94zm10 10l.94 2.06.94-2.06 2.06-.94-2.06-.94-.94-2.06-.94 2.06-2.06.94z\"/><path d=\"M17.41 7.96l-1.37-1.37c-.4-.4-.92-.59-1.43-.59-.52 0-1.04.2-1.43.59L10.3 9.45l-7.72 7.72c-.78.78-.78 2.05 0 2.83L4 21.41c.39.39.9.59 1.41.59.51 0 1.02-.2 1.41-.59l7.78-7.78 2.81-2.81c.8-.78.8-2.07 0-2.86zM5.41 20L4 18.59l7.72-7.72 1.47 1.35L5.41 20z\"/>\n",
              "  </svg>\n",
              "      </button>\n",
              "      \n",
              "  <style>\n",
              "    .colab-df-container {\n",
              "      display:flex;\n",
              "      flex-wrap:wrap;\n",
              "      gap: 12px;\n",
              "    }\n",
              "\n",
              "    .colab-df-convert {\n",
              "      background-color: #E8F0FE;\n",
              "      border: none;\n",
              "      border-radius: 50%;\n",
              "      cursor: pointer;\n",
              "      display: none;\n",
              "      fill: #1967D2;\n",
              "      height: 32px;\n",
              "      padding: 0 0 0 0;\n",
              "      width: 32px;\n",
              "    }\n",
              "\n",
              "    .colab-df-convert:hover {\n",
              "      background-color: #E2EBFA;\n",
              "      box-shadow: 0px 1px 2px rgba(60, 64, 67, 0.3), 0px 1px 3px 1px rgba(60, 64, 67, 0.15);\n",
              "      fill: #174EA6;\n",
              "    }\n",
              "\n",
              "    [theme=dark] .colab-df-convert {\n",
              "      background-color: #3B4455;\n",
              "      fill: #D2E3FC;\n",
              "    }\n",
              "\n",
              "    [theme=dark] .colab-df-convert:hover {\n",
              "      background-color: #434B5C;\n",
              "      box-shadow: 0px 1px 3px 1px rgba(0, 0, 0, 0.15);\n",
              "      filter: drop-shadow(0px 1px 2px rgba(0, 0, 0, 0.3));\n",
              "      fill: #FFFFFF;\n",
              "    }\n",
              "  </style>\n",
              "\n",
              "      <script>\n",
              "        const buttonEl =\n",
              "          document.querySelector('#df-16067610-15a9-40d2-a25d-68584be1898f button.colab-df-convert');\n",
              "        buttonEl.style.display =\n",
              "          google.colab.kernel.accessAllowed ? 'block' : 'none';\n",
              "\n",
              "        async function convertToInteractive(key) {\n",
              "          const element = document.querySelector('#df-16067610-15a9-40d2-a25d-68584be1898f');\n",
              "          const dataTable =\n",
              "            await google.colab.kernel.invokeFunction('convertToInteractive',\n",
              "                                                     [key], {});\n",
              "          if (!dataTable) return;\n",
              "\n",
              "          const docLinkHtml = 'Like what you see? Visit the ' +\n",
              "            '<a target=\"_blank\" href=https://colab.research.google.com/notebooks/data_table.ipynb>data table notebook</a>'\n",
              "            + ' to learn more about interactive tables.';\n",
              "          element.innerHTML = '';\n",
              "          dataTable['output_type'] = 'display_data';\n",
              "          await google.colab.output.renderOutput(dataTable, element);\n",
              "          const docLink = document.createElement('div');\n",
              "          docLink.innerHTML = docLinkHtml;\n",
              "          element.appendChild(docLink);\n",
              "        }\n",
              "      </script>\n",
              "    </div>\n",
              "  </div>\n",
              "  "
            ]
          },
          "metadata": {},
          "execution_count": 37
        }
      ]
    },
    {
      "cell_type": "markdown",
      "source": [
        "Normalization is another common technique used in feature engineering. It involves scaling the values of a feature so that they have a minimum value of 0 and a maximum value of 1. "
      ],
      "metadata": {
        "id": "NLY4QOgqkitu"
      }
    },
    {
      "cell_type": "code",
      "source": [
        "# Select the columns to normalize\n",
        "columns = ['selling_price', 'km_driven']\n",
        "df = cardataset\n",
        "# Normalize the data\n",
        "df[columns] = (df[columns] - df[columns].mean()) / df[columns].std()\n",
        "df"
      ],
      "metadata": {
        "colab": {
          "base_uri": "https://localhost:8080/",
          "height": 423
        },
        "id": "fM5seP1prDIb",
        "outputId": "56eaf225-e581-40ac-884a-b60848ac7123"
      },
      "execution_count": 38,
      "outputs": [
        {
          "output_type": "execute_result",
          "data": {
            "text/plain": [
              "      year  selling_price  km_driven    fuel seller_type transmission  \\\n",
              "0     2007      -0.767658   0.174522  Petrol  Individual       Manual   \n",
              "1     2007      -0.638023  -0.365125  Petrol  Individual       Manual   \n",
              "2     2012       0.165712   0.983992  Diesel  Individual       Manual   \n",
              "3     2017      -0.439250  -0.473054  Petrol  Individual       Manual   \n",
              "4     2014      -0.093557   2.063286  Diesel  Individual       Manual   \n",
              "...    ...            ...        ...     ...         ...          ...   \n",
              "4335  2014      -0.162697   0.444345  Diesel  Individual       Manual   \n",
              "4336  2014      -0.162697   0.444345  Diesel  Individual       Manual   \n",
              "4337  2009      -0.681234   0.525292  Petrol  Individual       Manual   \n",
              "4338  2016       0.623755   0.714169  Diesel  Individual       Manual   \n",
              "4339  2016      -0.482461  -0.634948  Petrol  Individual       Manual   \n",
              "\n",
              "             owner  company  \n",
              "0      First Owner   Maruti  \n",
              "1      First Owner   Maruti  \n",
              "2      First Owner  Hyundai  \n",
              "3      First Owner   Datsun  \n",
              "4     Second Owner    Honda  \n",
              "...            ...      ...  \n",
              "4335  Second Owner  Hyundai  \n",
              "4336  Second Owner  Hyundai  \n",
              "4337  Second Owner   Maruti  \n",
              "4338   First Owner  Hyundai  \n",
              "4339   First Owner  Renault  \n",
              "\n",
              "[4340 rows x 8 columns]"
            ],
            "text/html": [
              "\n",
              "  <div id=\"df-053576d9-5f91-4849-a4ce-6c15926985b9\">\n",
              "    <div class=\"colab-df-container\">\n",
              "      <div>\n",
              "<style scoped>\n",
              "    .dataframe tbody tr th:only-of-type {\n",
              "        vertical-align: middle;\n",
              "    }\n",
              "\n",
              "    .dataframe tbody tr th {\n",
              "        vertical-align: top;\n",
              "    }\n",
              "\n",
              "    .dataframe thead th {\n",
              "        text-align: right;\n",
              "    }\n",
              "</style>\n",
              "<table border=\"1\" class=\"dataframe\">\n",
              "  <thead>\n",
              "    <tr style=\"text-align: right;\">\n",
              "      <th></th>\n",
              "      <th>year</th>\n",
              "      <th>selling_price</th>\n",
              "      <th>km_driven</th>\n",
              "      <th>fuel</th>\n",
              "      <th>seller_type</th>\n",
              "      <th>transmission</th>\n",
              "      <th>owner</th>\n",
              "      <th>company</th>\n",
              "    </tr>\n",
              "  </thead>\n",
              "  <tbody>\n",
              "    <tr>\n",
              "      <th>0</th>\n",
              "      <td>2007</td>\n",
              "      <td>-0.767658</td>\n",
              "      <td>0.174522</td>\n",
              "      <td>Petrol</td>\n",
              "      <td>Individual</td>\n",
              "      <td>Manual</td>\n",
              "      <td>First Owner</td>\n",
              "      <td>Maruti</td>\n",
              "    </tr>\n",
              "    <tr>\n",
              "      <th>1</th>\n",
              "      <td>2007</td>\n",
              "      <td>-0.638023</td>\n",
              "      <td>-0.365125</td>\n",
              "      <td>Petrol</td>\n",
              "      <td>Individual</td>\n",
              "      <td>Manual</td>\n",
              "      <td>First Owner</td>\n",
              "      <td>Maruti</td>\n",
              "    </tr>\n",
              "    <tr>\n",
              "      <th>2</th>\n",
              "      <td>2012</td>\n",
              "      <td>0.165712</td>\n",
              "      <td>0.983992</td>\n",
              "      <td>Diesel</td>\n",
              "      <td>Individual</td>\n",
              "      <td>Manual</td>\n",
              "      <td>First Owner</td>\n",
              "      <td>Hyundai</td>\n",
              "    </tr>\n",
              "    <tr>\n",
              "      <th>3</th>\n",
              "      <td>2017</td>\n",
              "      <td>-0.439250</td>\n",
              "      <td>-0.473054</td>\n",
              "      <td>Petrol</td>\n",
              "      <td>Individual</td>\n",
              "      <td>Manual</td>\n",
              "      <td>First Owner</td>\n",
              "      <td>Datsun</td>\n",
              "    </tr>\n",
              "    <tr>\n",
              "      <th>4</th>\n",
              "      <td>2014</td>\n",
              "      <td>-0.093557</td>\n",
              "      <td>2.063286</td>\n",
              "      <td>Diesel</td>\n",
              "      <td>Individual</td>\n",
              "      <td>Manual</td>\n",
              "      <td>Second Owner</td>\n",
              "      <td>Honda</td>\n",
              "    </tr>\n",
              "    <tr>\n",
              "      <th>...</th>\n",
              "      <td>...</td>\n",
              "      <td>...</td>\n",
              "      <td>...</td>\n",
              "      <td>...</td>\n",
              "      <td>...</td>\n",
              "      <td>...</td>\n",
              "      <td>...</td>\n",
              "      <td>...</td>\n",
              "    </tr>\n",
              "    <tr>\n",
              "      <th>4335</th>\n",
              "      <td>2014</td>\n",
              "      <td>-0.162697</td>\n",
              "      <td>0.444345</td>\n",
              "      <td>Diesel</td>\n",
              "      <td>Individual</td>\n",
              "      <td>Manual</td>\n",
              "      <td>Second Owner</td>\n",
              "      <td>Hyundai</td>\n",
              "    </tr>\n",
              "    <tr>\n",
              "      <th>4336</th>\n",
              "      <td>2014</td>\n",
              "      <td>-0.162697</td>\n",
              "      <td>0.444345</td>\n",
              "      <td>Diesel</td>\n",
              "      <td>Individual</td>\n",
              "      <td>Manual</td>\n",
              "      <td>Second Owner</td>\n",
              "      <td>Hyundai</td>\n",
              "    </tr>\n",
              "    <tr>\n",
              "      <th>4337</th>\n",
              "      <td>2009</td>\n",
              "      <td>-0.681234</td>\n",
              "      <td>0.525292</td>\n",
              "      <td>Petrol</td>\n",
              "      <td>Individual</td>\n",
              "      <td>Manual</td>\n",
              "      <td>Second Owner</td>\n",
              "      <td>Maruti</td>\n",
              "    </tr>\n",
              "    <tr>\n",
              "      <th>4338</th>\n",
              "      <td>2016</td>\n",
              "      <td>0.623755</td>\n",
              "      <td>0.714169</td>\n",
              "      <td>Diesel</td>\n",
              "      <td>Individual</td>\n",
              "      <td>Manual</td>\n",
              "      <td>First Owner</td>\n",
              "      <td>Hyundai</td>\n",
              "    </tr>\n",
              "    <tr>\n",
              "      <th>4339</th>\n",
              "      <td>2016</td>\n",
              "      <td>-0.482461</td>\n",
              "      <td>-0.634948</td>\n",
              "      <td>Petrol</td>\n",
              "      <td>Individual</td>\n",
              "      <td>Manual</td>\n",
              "      <td>First Owner</td>\n",
              "      <td>Renault</td>\n",
              "    </tr>\n",
              "  </tbody>\n",
              "</table>\n",
              "<p>4340 rows × 8 columns</p>\n",
              "</div>\n",
              "      <button class=\"colab-df-convert\" onclick=\"convertToInteractive('df-053576d9-5f91-4849-a4ce-6c15926985b9')\"\n",
              "              title=\"Convert this dataframe to an interactive table.\"\n",
              "              style=\"display:none;\">\n",
              "        \n",
              "  <svg xmlns=\"http://www.w3.org/2000/svg\" height=\"24px\"viewBox=\"0 0 24 24\"\n",
              "       width=\"24px\">\n",
              "    <path d=\"M0 0h24v24H0V0z\" fill=\"none\"/>\n",
              "    <path d=\"M18.56 5.44l.94 2.06.94-2.06 2.06-.94-2.06-.94-.94-2.06-.94 2.06-2.06.94zm-11 1L8.5 8.5l.94-2.06 2.06-.94-2.06-.94L8.5 2.5l-.94 2.06-2.06.94zm10 10l.94 2.06.94-2.06 2.06-.94-2.06-.94-.94-2.06-.94 2.06-2.06.94z\"/><path d=\"M17.41 7.96l-1.37-1.37c-.4-.4-.92-.59-1.43-.59-.52 0-1.04.2-1.43.59L10.3 9.45l-7.72 7.72c-.78.78-.78 2.05 0 2.83L4 21.41c.39.39.9.59 1.41.59.51 0 1.02-.2 1.41-.59l7.78-7.78 2.81-2.81c.8-.78.8-2.07 0-2.86zM5.41 20L4 18.59l7.72-7.72 1.47 1.35L5.41 20z\"/>\n",
              "  </svg>\n",
              "      </button>\n",
              "      \n",
              "  <style>\n",
              "    .colab-df-container {\n",
              "      display:flex;\n",
              "      flex-wrap:wrap;\n",
              "      gap: 12px;\n",
              "    }\n",
              "\n",
              "    .colab-df-convert {\n",
              "      background-color: #E8F0FE;\n",
              "      border: none;\n",
              "      border-radius: 50%;\n",
              "      cursor: pointer;\n",
              "      display: none;\n",
              "      fill: #1967D2;\n",
              "      height: 32px;\n",
              "      padding: 0 0 0 0;\n",
              "      width: 32px;\n",
              "    }\n",
              "\n",
              "    .colab-df-convert:hover {\n",
              "      background-color: #E2EBFA;\n",
              "      box-shadow: 0px 1px 2px rgba(60, 64, 67, 0.3), 0px 1px 3px 1px rgba(60, 64, 67, 0.15);\n",
              "      fill: #174EA6;\n",
              "    }\n",
              "\n",
              "    [theme=dark] .colab-df-convert {\n",
              "      background-color: #3B4455;\n",
              "      fill: #D2E3FC;\n",
              "    }\n",
              "\n",
              "    [theme=dark] .colab-df-convert:hover {\n",
              "      background-color: #434B5C;\n",
              "      box-shadow: 0px 1px 3px 1px rgba(0, 0, 0, 0.15);\n",
              "      filter: drop-shadow(0px 1px 2px rgba(0, 0, 0, 0.3));\n",
              "      fill: #FFFFFF;\n",
              "    }\n",
              "  </style>\n",
              "\n",
              "      <script>\n",
              "        const buttonEl =\n",
              "          document.querySelector('#df-053576d9-5f91-4849-a4ce-6c15926985b9 button.colab-df-convert');\n",
              "        buttonEl.style.display =\n",
              "          google.colab.kernel.accessAllowed ? 'block' : 'none';\n",
              "\n",
              "        async function convertToInteractive(key) {\n",
              "          const element = document.querySelector('#df-053576d9-5f91-4849-a4ce-6c15926985b9');\n",
              "          const dataTable =\n",
              "            await google.colab.kernel.invokeFunction('convertToInteractive',\n",
              "                                                     [key], {});\n",
              "          if (!dataTable) return;\n",
              "\n",
              "          const docLinkHtml = 'Like what you see? Visit the ' +\n",
              "            '<a target=\"_blank\" href=https://colab.research.google.com/notebooks/data_table.ipynb>data table notebook</a>'\n",
              "            + ' to learn more about interactive tables.';\n",
              "          element.innerHTML = '';\n",
              "          dataTable['output_type'] = 'display_data';\n",
              "          await google.colab.output.renderOutput(dataTable, element);\n",
              "          const docLink = document.createElement('div');\n",
              "          docLink.innerHTML = docLinkHtml;\n",
              "          element.appendChild(docLink);\n",
              "        }\n",
              "      </script>\n",
              "    </div>\n",
              "  </div>\n",
              "  "
            ]
          },
          "metadata": {},
          "execution_count": 38
        }
      ]
    },
    {
      "cell_type": "markdown",
      "source": [
        "# **3. Model Building [5M]** "
      ],
      "metadata": {
        "id": "IAyiI4YwN3Dg"
      }
    },
    {
      "cell_type": "markdown",
      "source": [
        "\n",
        "**Task 3.1.** Split the dataset into training and test sets.\n",
        "\n",
        "Case 1 : Train = 80 % Test = 20% [ x_train1,y_train1] = 80% ; [ x_test1,y_test1] = 20% ; \n",
        "\n",
        "\n",
        "Case 2 : Train = 10 % Test = 90% [ x_train2,y_train2] = 10% ; [ x_test2,y_test2] = 90% \n",
        "\n"
      ],
      "metadata": {
        "id": "jRx1OH53FxaV"
      }
    },
    {
      "cell_type": "code",
      "source": [
        "from sklearn.model_selection import train_test_split\n",
        "\n",
        "# Load the dataset\n",
        "X = cardataset.iloc[:, :-1] # select all rows and all columns except the last one\n",
        "y = cardataset.iloc[:, -1] # select all rows and the last column\n",
        "\n",
        "# Split the data into training and test sets\n",
        "X_train, X_test, y_train, y_test = train_test_split(X, y, test_size=0.2, random_state=42)\n",
        "\n",
        "# Split the data into training and test sets\n",
        "X_train, X_test, y_train, y_test = train_test_split(X, y, test_size=0.9, random_state=42)\n"
      ],
      "metadata": {
        "id": "fuxDXSfaFzIl"
      },
      "execution_count": 39,
      "outputs": []
    },
    {
      "cell_type": "markdown",
      "source": [
        "**Task 3.2** Explore k-fold cross-validation. \n",
        "\n",
        "K-fold cross-validation is a resampling procedure used to evaluate the performance of machine learning models. It involves randomly dividing the dataset into k folds or subsets, training the model on k-1 folds and evaluating it on the remaining one. This procedure is then repeated k times with a different fold being used as the evaluation set each time. The average performance across all k iterations is used as the overall performance of the model."
      ],
      "metadata": {
        "id": "Z9JFTPUzOQKa"
      }
    },
    {
      "cell_type": "code",
      "source": [
        "import pandas as pd\n",
        "import numpy as np\n",
        "from sklearn.model_selection import KFold, StratifiedKFold, cross_val_score\n",
        "from sklearn import linear_model, tree, ensemble\n",
        "\n",
        "# Remove rows with missing target values\n",
        "cardatasetforkfold.dropna(axis=0, subset=['selling_price'], inplace=True)\n",
        "y = cardatasetforkfold.selling_price # Target variable             \n",
        "cardatasetforkfold.drop(['selling_price'], axis=1, inplace=True) # Removing target variable from training data\n",
        "\n",
        "#train_data.drop(['LotFrontage', 'GarageYrBlt', 'MasVnrArea'], axis=1, inplace=True) # Remove columns with null values\n",
        "\n",
        "# Select numeric columns only\n",
        "numeric_cols = [cname for cname in cardatasetforkfold.columns if cardatasetforkfold[cname].dtype in ['int64', 'float64']]\n",
        "X = cardatasetforkfold[numeric_cols].copy()\n",
        "\n",
        "print(\"Shape of input data: {} and shape of target variable: {}\".format(X.shape, y.shape))\n",
        "\n",
        "X.head() # Show first 5 training examples\n"
      ],
      "metadata": {
        "id": "poFNSqonOw2F",
        "colab": {
          "base_uri": "https://localhost:8080/",
          "height": 224
        },
        "outputId": "c0563366-cc7a-4db9-e062-25c689d946f5"
      },
      "execution_count": 40,
      "outputs": [
        {
          "output_type": "stream",
          "name": "stdout",
          "text": [
            "Shape of input data: (4340, 2) and shape of target variable: (4340,)\n"
          ]
        },
        {
          "output_type": "execute_result",
          "data": {
            "text/plain": [
              "   year  km_driven\n",
              "0  2007   0.174522\n",
              "1  2007  -0.365125\n",
              "2  2012   0.983992\n",
              "3  2017  -0.473054\n",
              "4  2014   2.063286"
            ],
            "text/html": [
              "\n",
              "  <div id=\"df-65c22db3-b305-4ff0-912e-ebc4b3beb18a\">\n",
              "    <div class=\"colab-df-container\">\n",
              "      <div>\n",
              "<style scoped>\n",
              "    .dataframe tbody tr th:only-of-type {\n",
              "        vertical-align: middle;\n",
              "    }\n",
              "\n",
              "    .dataframe tbody tr th {\n",
              "        vertical-align: top;\n",
              "    }\n",
              "\n",
              "    .dataframe thead th {\n",
              "        text-align: right;\n",
              "    }\n",
              "</style>\n",
              "<table border=\"1\" class=\"dataframe\">\n",
              "  <thead>\n",
              "    <tr style=\"text-align: right;\">\n",
              "      <th></th>\n",
              "      <th>year</th>\n",
              "      <th>km_driven</th>\n",
              "    </tr>\n",
              "  </thead>\n",
              "  <tbody>\n",
              "    <tr>\n",
              "      <th>0</th>\n",
              "      <td>2007</td>\n",
              "      <td>0.174522</td>\n",
              "    </tr>\n",
              "    <tr>\n",
              "      <th>1</th>\n",
              "      <td>2007</td>\n",
              "      <td>-0.365125</td>\n",
              "    </tr>\n",
              "    <tr>\n",
              "      <th>2</th>\n",
              "      <td>2012</td>\n",
              "      <td>0.983992</td>\n",
              "    </tr>\n",
              "    <tr>\n",
              "      <th>3</th>\n",
              "      <td>2017</td>\n",
              "      <td>-0.473054</td>\n",
              "    </tr>\n",
              "    <tr>\n",
              "      <th>4</th>\n",
              "      <td>2014</td>\n",
              "      <td>2.063286</td>\n",
              "    </tr>\n",
              "  </tbody>\n",
              "</table>\n",
              "</div>\n",
              "      <button class=\"colab-df-convert\" onclick=\"convertToInteractive('df-65c22db3-b305-4ff0-912e-ebc4b3beb18a')\"\n",
              "              title=\"Convert this dataframe to an interactive table.\"\n",
              "              style=\"display:none;\">\n",
              "        \n",
              "  <svg xmlns=\"http://www.w3.org/2000/svg\" height=\"24px\"viewBox=\"0 0 24 24\"\n",
              "       width=\"24px\">\n",
              "    <path d=\"M0 0h24v24H0V0z\" fill=\"none\"/>\n",
              "    <path d=\"M18.56 5.44l.94 2.06.94-2.06 2.06-.94-2.06-.94-.94-2.06-.94 2.06-2.06.94zm-11 1L8.5 8.5l.94-2.06 2.06-.94-2.06-.94L8.5 2.5l-.94 2.06-2.06.94zm10 10l.94 2.06.94-2.06 2.06-.94-2.06-.94-.94-2.06-.94 2.06-2.06.94z\"/><path d=\"M17.41 7.96l-1.37-1.37c-.4-.4-.92-.59-1.43-.59-.52 0-1.04.2-1.43.59L10.3 9.45l-7.72 7.72c-.78.78-.78 2.05 0 2.83L4 21.41c.39.39.9.59 1.41.59.51 0 1.02-.2 1.41-.59l7.78-7.78 2.81-2.81c.8-.78.8-2.07 0-2.86zM5.41 20L4 18.59l7.72-7.72 1.47 1.35L5.41 20z\"/>\n",
              "  </svg>\n",
              "      </button>\n",
              "      \n",
              "  <style>\n",
              "    .colab-df-container {\n",
              "      display:flex;\n",
              "      flex-wrap:wrap;\n",
              "      gap: 12px;\n",
              "    }\n",
              "\n",
              "    .colab-df-convert {\n",
              "      background-color: #E8F0FE;\n",
              "      border: none;\n",
              "      border-radius: 50%;\n",
              "      cursor: pointer;\n",
              "      display: none;\n",
              "      fill: #1967D2;\n",
              "      height: 32px;\n",
              "      padding: 0 0 0 0;\n",
              "      width: 32px;\n",
              "    }\n",
              "\n",
              "    .colab-df-convert:hover {\n",
              "      background-color: #E2EBFA;\n",
              "      box-shadow: 0px 1px 2px rgba(60, 64, 67, 0.3), 0px 1px 3px 1px rgba(60, 64, 67, 0.15);\n",
              "      fill: #174EA6;\n",
              "    }\n",
              "\n",
              "    [theme=dark] .colab-df-convert {\n",
              "      background-color: #3B4455;\n",
              "      fill: #D2E3FC;\n",
              "    }\n",
              "\n",
              "    [theme=dark] .colab-df-convert:hover {\n",
              "      background-color: #434B5C;\n",
              "      box-shadow: 0px 1px 3px 1px rgba(0, 0, 0, 0.15);\n",
              "      filter: drop-shadow(0px 1px 2px rgba(0, 0, 0, 0.3));\n",
              "      fill: #FFFFFF;\n",
              "    }\n",
              "  </style>\n",
              "\n",
              "      <script>\n",
              "        const buttonEl =\n",
              "          document.querySelector('#df-65c22db3-b305-4ff0-912e-ebc4b3beb18a button.colab-df-convert');\n",
              "        buttonEl.style.display =\n",
              "          google.colab.kernel.accessAllowed ? 'block' : 'none';\n",
              "\n",
              "        async function convertToInteractive(key) {\n",
              "          const element = document.querySelector('#df-65c22db3-b305-4ff0-912e-ebc4b3beb18a');\n",
              "          const dataTable =\n",
              "            await google.colab.kernel.invokeFunction('convertToInteractive',\n",
              "                                                     [key], {});\n",
              "          if (!dataTable) return;\n",
              "\n",
              "          const docLinkHtml = 'Like what you see? Visit the ' +\n",
              "            '<a target=\"_blank\" href=https://colab.research.google.com/notebooks/data_table.ipynb>data table notebook</a>'\n",
              "            + ' to learn more about interactive tables.';\n",
              "          element.innerHTML = '';\n",
              "          dataTable['output_type'] = 'display_data';\n",
              "          await google.colab.output.renderOutput(dataTable, element);\n",
              "          const docLink = document.createElement('div');\n",
              "          docLink.innerHTML = docLinkHtml;\n",
              "          element.appendChild(docLink);\n",
              "        }\n",
              "      </script>\n",
              "    </div>\n",
              "  </div>\n",
              "  "
            ]
          },
          "metadata": {},
          "execution_count": 40
        }
      ]
    },
    {
      "cell_type": "code",
      "source": [
        "# Lets split the data into 5 folds.  \n",
        "# We will use this 'kf'(KFold splitting stratergy) object as input to cross_val_score() method\n",
        "kf =KFold(n_splits=5, shuffle=True, random_state=42)\n",
        "\n",
        "cnt = 1\n",
        "# split()  method generate indices to split data into training and test set.\n",
        "for train_index, test_index in kf.split(X, y):\n",
        "    print(f'Fold:{cnt}, Train set: {len(train_index)}, Test set:{len(test_index)}')\n",
        "    cnt += 1"
      ],
      "metadata": {
        "colab": {
          "base_uri": "https://localhost:8080/"
        },
        "id": "St_IOg7HNbUs",
        "outputId": "da1776b8-26de-40dd-d0d9-3216ac1ca21d"
      },
      "execution_count": 41,
      "outputs": [
        {
          "output_type": "stream",
          "name": "stdout",
          "text": [
            "Fold:1, Train set: 3472, Test set:868\n",
            "Fold:2, Train set: 3472, Test set:868\n",
            "Fold:3, Train set: 3472, Test set:868\n",
            "Fold:4, Train set: 3472, Test set:868\n",
            "Fold:5, Train set: 3472, Test set:868\n"
          ]
        }
      ]
    },
    {
      "cell_type": "code",
      "source": [
        "def rmse(score):\n",
        "    rmse = np.sqrt(-score)\n",
        "    print(f'rmse= {\"{:.2f}\".format(rmse)}')\n",
        "\n",
        "score = cross_val_score(linear_model.LinearRegression(), X, y, cv= kf, scoring=\"neg_mean_squared_error\")\n",
        "print(f'Scores for each fold: {score}')\n",
        "rmse(score.mean())\n"
      ],
      "metadata": {
        "colab": {
          "base_uri": "https://localhost:8080/"
        },
        "id": "a_0WeTzuN6to",
        "outputId": "7b6a6287-738a-499b-fe7c-e2f94ae0cd55"
      },
      "execution_count": 42,
      "outputs": [
        {
          "output_type": "stream",
          "name": "stdout",
          "text": [
            "Scores for each fold: [-0.76370545 -0.77338796 -0.84301836 -0.82906718 -0.93222463]\n",
            "rmse= 0.91\n"
          ]
        }
      ]
    },
    {
      "cell_type": "markdown",
      "source": [
        "**Task 3.3 and Task 4.1 & 4.2** Build Model/s using 1) Linear Regression , (SK learn or other libraries can be used)  “Target variable : Selling Price “"
      ],
      "metadata": {
        "id": "y9zpg4ZeOeuH"
      }
    },
    {
      "cell_type": "code",
      "source": [
        "data = pd.read_csv('/content/CAR DETAILS.csv')\n",
        "data.shape"
      ],
      "metadata": {
        "colab": {
          "base_uri": "https://localhost:8080/"
        },
        "id": "g2fP7waYKkiI",
        "outputId": "904a2c98-d46e-4d12-aeee-2bb700984a6e"
      },
      "execution_count": 43,
      "outputs": [
        {
          "output_type": "execute_result",
          "data": {
            "text/plain": [
              "(4340, 8)"
            ]
          },
          "metadata": {},
          "execution_count": 43
        }
      ]
    },
    {
      "cell_type": "code",
      "source": [
        "data.head().style.background_gradient()"
      ],
      "metadata": {
        "colab": {
          "base_uri": "https://localhost:8080/",
          "height": 206
        },
        "id": "VTQlfUwkK19_",
        "outputId": "f6bda901-52ee-4bcf-c4f3-dc7c30167f00"
      },
      "execution_count": 44,
      "outputs": [
        {
          "output_type": "execute_result",
          "data": {
            "text/plain": [
              "<pandas.io.formats.style.Styler at 0x7fcc6ea6f340>"
            ],
            "text/html": [
              "<style type=\"text/css\">\n",
              "#T_ea207_row0_col1, #T_ea207_row0_col2, #T_ea207_row1_col1, #T_ea207_row3_col3 {\n",
              "  background-color: #fff7fb;\n",
              "  color: #000000;\n",
              "}\n",
              "#T_ea207_row0_col3 {\n",
              "  background-color: #d0d1e6;\n",
              "  color: #000000;\n",
              "}\n",
              "#T_ea207_row1_col2 {\n",
              "  background-color: #e9e5f1;\n",
              "  color: #000000;\n",
              "}\n",
              "#T_ea207_row1_col3 {\n",
              "  background-color: #f9f2f8;\n",
              "  color: #000000;\n",
              "}\n",
              "#T_ea207_row2_col1 {\n",
              "  background-color: #73a9cf;\n",
              "  color: #f1f1f1;\n",
              "}\n",
              "#T_ea207_row2_col2, #T_ea207_row3_col1, #T_ea207_row4_col3 {\n",
              "  background-color: #023858;\n",
              "  color: #f1f1f1;\n",
              "}\n",
              "#T_ea207_row2_col3 {\n",
              "  background-color: #529bc7;\n",
              "  color: #f1f1f1;\n",
              "}\n",
              "#T_ea207_row3_col2 {\n",
              "  background-color: #adc1dd;\n",
              "  color: #000000;\n",
              "}\n",
              "#T_ea207_row4_col1 {\n",
              "  background-color: #187cb6;\n",
              "  color: #f1f1f1;\n",
              "}\n",
              "#T_ea207_row4_col2 {\n",
              "  background-color: #1077b4;\n",
              "  color: #f1f1f1;\n",
              "}\n",
              "</style>\n",
              "<table id=\"T_ea207_\" class=\"dataframe\">\n",
              "  <thead>\n",
              "    <tr>\n",
              "      <th class=\"blank level0\" >&nbsp;</th>\n",
              "      <th class=\"col_heading level0 col0\" >name</th>\n",
              "      <th class=\"col_heading level0 col1\" >year</th>\n",
              "      <th class=\"col_heading level0 col2\" >selling_price</th>\n",
              "      <th class=\"col_heading level0 col3\" >km_driven</th>\n",
              "      <th class=\"col_heading level0 col4\" >fuel</th>\n",
              "      <th class=\"col_heading level0 col5\" >seller_type</th>\n",
              "      <th class=\"col_heading level0 col6\" >transmission</th>\n",
              "      <th class=\"col_heading level0 col7\" >owner</th>\n",
              "    </tr>\n",
              "  </thead>\n",
              "  <tbody>\n",
              "    <tr>\n",
              "      <th id=\"T_ea207_level0_row0\" class=\"row_heading level0 row0\" >0</th>\n",
              "      <td id=\"T_ea207_row0_col0\" class=\"data row0 col0\" >Maruti 800 AC</td>\n",
              "      <td id=\"T_ea207_row0_col1\" class=\"data row0 col1\" >2007</td>\n",
              "      <td id=\"T_ea207_row0_col2\" class=\"data row0 col2\" >60000</td>\n",
              "      <td id=\"T_ea207_row0_col3\" class=\"data row0 col3\" >70000</td>\n",
              "      <td id=\"T_ea207_row0_col4\" class=\"data row0 col4\" >Petrol</td>\n",
              "      <td id=\"T_ea207_row0_col5\" class=\"data row0 col5\" >Individual</td>\n",
              "      <td id=\"T_ea207_row0_col6\" class=\"data row0 col6\" >Manual</td>\n",
              "      <td id=\"T_ea207_row0_col7\" class=\"data row0 col7\" >First Owner</td>\n",
              "    </tr>\n",
              "    <tr>\n",
              "      <th id=\"T_ea207_level0_row1\" class=\"row_heading level0 row1\" >1</th>\n",
              "      <td id=\"T_ea207_row1_col0\" class=\"data row1 col0\" >Maruti Wagon R LXI Minor</td>\n",
              "      <td id=\"T_ea207_row1_col1\" class=\"data row1 col1\" >2007</td>\n",
              "      <td id=\"T_ea207_row1_col2\" class=\"data row1 col2\" >135000</td>\n",
              "      <td id=\"T_ea207_row1_col3\" class=\"data row1 col3\" >50000</td>\n",
              "      <td id=\"T_ea207_row1_col4\" class=\"data row1 col4\" >Petrol</td>\n",
              "      <td id=\"T_ea207_row1_col5\" class=\"data row1 col5\" >Individual</td>\n",
              "      <td id=\"T_ea207_row1_col6\" class=\"data row1 col6\" >Manual</td>\n",
              "      <td id=\"T_ea207_row1_col7\" class=\"data row1 col7\" >First Owner</td>\n",
              "    </tr>\n",
              "    <tr>\n",
              "      <th id=\"T_ea207_level0_row2\" class=\"row_heading level0 row2\" >2</th>\n",
              "      <td id=\"T_ea207_row2_col0\" class=\"data row2 col0\" >Hyundai Verna 1.6 SX</td>\n",
              "      <td id=\"T_ea207_row2_col1\" class=\"data row2 col1\" >2012</td>\n",
              "      <td id=\"T_ea207_row2_col2\" class=\"data row2 col2\" >600000</td>\n",
              "      <td id=\"T_ea207_row2_col3\" class=\"data row2 col3\" >100000</td>\n",
              "      <td id=\"T_ea207_row2_col4\" class=\"data row2 col4\" >Diesel</td>\n",
              "      <td id=\"T_ea207_row2_col5\" class=\"data row2 col5\" >Individual</td>\n",
              "      <td id=\"T_ea207_row2_col6\" class=\"data row2 col6\" >Manual</td>\n",
              "      <td id=\"T_ea207_row2_col7\" class=\"data row2 col7\" >First Owner</td>\n",
              "    </tr>\n",
              "    <tr>\n",
              "      <th id=\"T_ea207_level0_row3\" class=\"row_heading level0 row3\" >3</th>\n",
              "      <td id=\"T_ea207_row3_col0\" class=\"data row3 col0\" >Datsun RediGO T Option</td>\n",
              "      <td id=\"T_ea207_row3_col1\" class=\"data row3 col1\" >2017</td>\n",
              "      <td id=\"T_ea207_row3_col2\" class=\"data row3 col2\" >250000</td>\n",
              "      <td id=\"T_ea207_row3_col3\" class=\"data row3 col3\" >46000</td>\n",
              "      <td id=\"T_ea207_row3_col4\" class=\"data row3 col4\" >Petrol</td>\n",
              "      <td id=\"T_ea207_row3_col5\" class=\"data row3 col5\" >Individual</td>\n",
              "      <td id=\"T_ea207_row3_col6\" class=\"data row3 col6\" >Manual</td>\n",
              "      <td id=\"T_ea207_row3_col7\" class=\"data row3 col7\" >First Owner</td>\n",
              "    </tr>\n",
              "    <tr>\n",
              "      <th id=\"T_ea207_level0_row4\" class=\"row_heading level0 row4\" >4</th>\n",
              "      <td id=\"T_ea207_row4_col0\" class=\"data row4 col0\" >Honda Amaze VX i-DTEC</td>\n",
              "      <td id=\"T_ea207_row4_col1\" class=\"data row4 col1\" >2014</td>\n",
              "      <td id=\"T_ea207_row4_col2\" class=\"data row4 col2\" >450000</td>\n",
              "      <td id=\"T_ea207_row4_col3\" class=\"data row4 col3\" >141000</td>\n",
              "      <td id=\"T_ea207_row4_col4\" class=\"data row4 col4\" >Diesel</td>\n",
              "      <td id=\"T_ea207_row4_col5\" class=\"data row4 col5\" >Individual</td>\n",
              "      <td id=\"T_ea207_row4_col6\" class=\"data row4 col6\" >Manual</td>\n",
              "      <td id=\"T_ea207_row4_col7\" class=\"data row4 col7\" >Second Owner</td>\n",
              "    </tr>\n",
              "  </tbody>\n",
              "</table>\n"
            ]
          },
          "metadata": {},
          "execution_count": 44
        }
      ]
    },
    {
      "cell_type": "code",
      "source": [
        "data.info()"
      ],
      "metadata": {
        "colab": {
          "base_uri": "https://localhost:8080/"
        },
        "id": "ceBAIyJrK6C-",
        "outputId": "d55f50e8-3398-4cf6-9f82-406d40403100"
      },
      "execution_count": 45,
      "outputs": [
        {
          "output_type": "stream",
          "name": "stdout",
          "text": [
            "<class 'pandas.core.frame.DataFrame'>\n",
            "RangeIndex: 4340 entries, 0 to 4339\n",
            "Data columns (total 8 columns):\n",
            " #   Column         Non-Null Count  Dtype \n",
            "---  ------         --------------  ----- \n",
            " 0   name           4340 non-null   object\n",
            " 1   year           4340 non-null   int64 \n",
            " 2   selling_price  4340 non-null   int64 \n",
            " 3   km_driven      4340 non-null   int64 \n",
            " 4   fuel           4340 non-null   object\n",
            " 5   seller_type    4340 non-null   object\n",
            " 6   transmission   4340 non-null   object\n",
            " 7   owner          4340 non-null   object\n",
            "dtypes: int64(3), object(5)\n",
            "memory usage: 271.4+ KB\n"
          ]
        }
      ]
    },
    {
      "cell_type": "code",
      "source": [
        "data.isna().sum()"
      ],
      "metadata": {
        "colab": {
          "base_uri": "https://localhost:8080/"
        },
        "id": "IO3ACG7iK_UE",
        "outputId": "1f19076b-ac25-4dac-a5ed-f4b34ab0b0f2"
      },
      "execution_count": 46,
      "outputs": [
        {
          "output_type": "execute_result",
          "data": {
            "text/plain": [
              "name             0\n",
              "year             0\n",
              "selling_price    0\n",
              "km_driven        0\n",
              "fuel             0\n",
              "seller_type      0\n",
              "transmission     0\n",
              "owner            0\n",
              "dtype: int64"
            ]
          },
          "metadata": {},
          "execution_count": 46
        }
      ]
    },
    {
      "cell_type": "code",
      "source": [
        "data.describe().T"
      ],
      "metadata": {
        "colab": {
          "base_uri": "https://localhost:8080/",
          "height": 143
        },
        "id": "xOPibtSiLBPg",
        "outputId": "b2a8a5cd-962f-4f97-e8bd-a5753aa9d67f"
      },
      "execution_count": 47,
      "outputs": [
        {
          "output_type": "execute_result",
          "data": {
            "text/plain": [
              "                count           mean            std      min        25%  \\\n",
              "year           4340.0    2013.090783       4.215344   1992.0    2011.00   \n",
              "selling_price  4340.0  504127.311751  578548.736139  20000.0  208749.75   \n",
              "km_driven      4340.0   66215.777419   46644.102194      1.0   35000.00   \n",
              "\n",
              "                    50%       75%        max  \n",
              "year             2014.0    2016.0     2020.0  \n",
              "selling_price  350000.0  600000.0  8900000.0  \n",
              "km_driven       60000.0   90000.0   806599.0  "
            ],
            "text/html": [
              "\n",
              "  <div id=\"df-faba7854-faf8-44b3-982a-750aef384851\">\n",
              "    <div class=\"colab-df-container\">\n",
              "      <div>\n",
              "<style scoped>\n",
              "    .dataframe tbody tr th:only-of-type {\n",
              "        vertical-align: middle;\n",
              "    }\n",
              "\n",
              "    .dataframe tbody tr th {\n",
              "        vertical-align: top;\n",
              "    }\n",
              "\n",
              "    .dataframe thead th {\n",
              "        text-align: right;\n",
              "    }\n",
              "</style>\n",
              "<table border=\"1\" class=\"dataframe\">\n",
              "  <thead>\n",
              "    <tr style=\"text-align: right;\">\n",
              "      <th></th>\n",
              "      <th>count</th>\n",
              "      <th>mean</th>\n",
              "      <th>std</th>\n",
              "      <th>min</th>\n",
              "      <th>25%</th>\n",
              "      <th>50%</th>\n",
              "      <th>75%</th>\n",
              "      <th>max</th>\n",
              "    </tr>\n",
              "  </thead>\n",
              "  <tbody>\n",
              "    <tr>\n",
              "      <th>year</th>\n",
              "      <td>4340.0</td>\n",
              "      <td>2013.090783</td>\n",
              "      <td>4.215344</td>\n",
              "      <td>1992.0</td>\n",
              "      <td>2011.00</td>\n",
              "      <td>2014.0</td>\n",
              "      <td>2016.0</td>\n",
              "      <td>2020.0</td>\n",
              "    </tr>\n",
              "    <tr>\n",
              "      <th>selling_price</th>\n",
              "      <td>4340.0</td>\n",
              "      <td>504127.311751</td>\n",
              "      <td>578548.736139</td>\n",
              "      <td>20000.0</td>\n",
              "      <td>208749.75</td>\n",
              "      <td>350000.0</td>\n",
              "      <td>600000.0</td>\n",
              "      <td>8900000.0</td>\n",
              "    </tr>\n",
              "    <tr>\n",
              "      <th>km_driven</th>\n",
              "      <td>4340.0</td>\n",
              "      <td>66215.777419</td>\n",
              "      <td>46644.102194</td>\n",
              "      <td>1.0</td>\n",
              "      <td>35000.00</td>\n",
              "      <td>60000.0</td>\n",
              "      <td>90000.0</td>\n",
              "      <td>806599.0</td>\n",
              "    </tr>\n",
              "  </tbody>\n",
              "</table>\n",
              "</div>\n",
              "      <button class=\"colab-df-convert\" onclick=\"convertToInteractive('df-faba7854-faf8-44b3-982a-750aef384851')\"\n",
              "              title=\"Convert this dataframe to an interactive table.\"\n",
              "              style=\"display:none;\">\n",
              "        \n",
              "  <svg xmlns=\"http://www.w3.org/2000/svg\" height=\"24px\"viewBox=\"0 0 24 24\"\n",
              "       width=\"24px\">\n",
              "    <path d=\"M0 0h24v24H0V0z\" fill=\"none\"/>\n",
              "    <path d=\"M18.56 5.44l.94 2.06.94-2.06 2.06-.94-2.06-.94-.94-2.06-.94 2.06-2.06.94zm-11 1L8.5 8.5l.94-2.06 2.06-.94-2.06-.94L8.5 2.5l-.94 2.06-2.06.94zm10 10l.94 2.06.94-2.06 2.06-.94-2.06-.94-.94-2.06-.94 2.06-2.06.94z\"/><path d=\"M17.41 7.96l-1.37-1.37c-.4-.4-.92-.59-1.43-.59-.52 0-1.04.2-1.43.59L10.3 9.45l-7.72 7.72c-.78.78-.78 2.05 0 2.83L4 21.41c.39.39.9.59 1.41.59.51 0 1.02-.2 1.41-.59l7.78-7.78 2.81-2.81c.8-.78.8-2.07 0-2.86zM5.41 20L4 18.59l7.72-7.72 1.47 1.35L5.41 20z\"/>\n",
              "  </svg>\n",
              "      </button>\n",
              "      \n",
              "  <style>\n",
              "    .colab-df-container {\n",
              "      display:flex;\n",
              "      flex-wrap:wrap;\n",
              "      gap: 12px;\n",
              "    }\n",
              "\n",
              "    .colab-df-convert {\n",
              "      background-color: #E8F0FE;\n",
              "      border: none;\n",
              "      border-radius: 50%;\n",
              "      cursor: pointer;\n",
              "      display: none;\n",
              "      fill: #1967D2;\n",
              "      height: 32px;\n",
              "      padding: 0 0 0 0;\n",
              "      width: 32px;\n",
              "    }\n",
              "\n",
              "    .colab-df-convert:hover {\n",
              "      background-color: #E2EBFA;\n",
              "      box-shadow: 0px 1px 2px rgba(60, 64, 67, 0.3), 0px 1px 3px 1px rgba(60, 64, 67, 0.15);\n",
              "      fill: #174EA6;\n",
              "    }\n",
              "\n",
              "    [theme=dark] .colab-df-convert {\n",
              "      background-color: #3B4455;\n",
              "      fill: #D2E3FC;\n",
              "    }\n",
              "\n",
              "    [theme=dark] .colab-df-convert:hover {\n",
              "      background-color: #434B5C;\n",
              "      box-shadow: 0px 1px 3px 1px rgba(0, 0, 0, 0.15);\n",
              "      filter: drop-shadow(0px 1px 2px rgba(0, 0, 0, 0.3));\n",
              "      fill: #FFFFFF;\n",
              "    }\n",
              "  </style>\n",
              "\n",
              "      <script>\n",
              "        const buttonEl =\n",
              "          document.querySelector('#df-faba7854-faf8-44b3-982a-750aef384851 button.colab-df-convert');\n",
              "        buttonEl.style.display =\n",
              "          google.colab.kernel.accessAllowed ? 'block' : 'none';\n",
              "\n",
              "        async function convertToInteractive(key) {\n",
              "          const element = document.querySelector('#df-faba7854-faf8-44b3-982a-750aef384851');\n",
              "          const dataTable =\n",
              "            await google.colab.kernel.invokeFunction('convertToInteractive',\n",
              "                                                     [key], {});\n",
              "          if (!dataTable) return;\n",
              "\n",
              "          const docLinkHtml = 'Like what you see? Visit the ' +\n",
              "            '<a target=\"_blank\" href=https://colab.research.google.com/notebooks/data_table.ipynb>data table notebook</a>'\n",
              "            + ' to learn more about interactive tables.';\n",
              "          element.innerHTML = '';\n",
              "          dataTable['output_type'] = 'display_data';\n",
              "          await google.colab.output.renderOutput(dataTable, element);\n",
              "          const docLink = document.createElement('div');\n",
              "          docLink.innerHTML = docLinkHtml;\n",
              "          element.appendChild(docLink);\n",
              "        }\n",
              "      </script>\n",
              "    </div>\n",
              "  </div>\n",
              "  "
            ]
          },
          "metadata": {},
          "execution_count": 47
        }
      ]
    },
    {
      "cell_type": "code",
      "source": [
        "data.describe(include = \"object\").T"
      ],
      "metadata": {
        "colab": {
          "base_uri": "https://localhost:8080/",
          "height": 206
        },
        "id": "h-xAU1f0LIcq",
        "outputId": "576f7814-72a4-4cdc-ec21-0ad96f7fac91"
      },
      "execution_count": 48,
      "outputs": [
        {
          "output_type": "execute_result",
          "data": {
            "text/plain": [
              "             count unique                     top  freq\n",
              "name          4340   1491  Maruti Swift Dzire VDI    69\n",
              "fuel          4340      5                  Diesel  2153\n",
              "seller_type   4340      3              Individual  3244\n",
              "transmission  4340      2                  Manual  3892\n",
              "owner         4340      5             First Owner  2832"
            ],
            "text/html": [
              "\n",
              "  <div id=\"df-1b4ddeac-38ca-440b-81c0-6a51f6efc61f\">\n",
              "    <div class=\"colab-df-container\">\n",
              "      <div>\n",
              "<style scoped>\n",
              "    .dataframe tbody tr th:only-of-type {\n",
              "        vertical-align: middle;\n",
              "    }\n",
              "\n",
              "    .dataframe tbody tr th {\n",
              "        vertical-align: top;\n",
              "    }\n",
              "\n",
              "    .dataframe thead th {\n",
              "        text-align: right;\n",
              "    }\n",
              "</style>\n",
              "<table border=\"1\" class=\"dataframe\">\n",
              "  <thead>\n",
              "    <tr style=\"text-align: right;\">\n",
              "      <th></th>\n",
              "      <th>count</th>\n",
              "      <th>unique</th>\n",
              "      <th>top</th>\n",
              "      <th>freq</th>\n",
              "    </tr>\n",
              "  </thead>\n",
              "  <tbody>\n",
              "    <tr>\n",
              "      <th>name</th>\n",
              "      <td>4340</td>\n",
              "      <td>1491</td>\n",
              "      <td>Maruti Swift Dzire VDI</td>\n",
              "      <td>69</td>\n",
              "    </tr>\n",
              "    <tr>\n",
              "      <th>fuel</th>\n",
              "      <td>4340</td>\n",
              "      <td>5</td>\n",
              "      <td>Diesel</td>\n",
              "      <td>2153</td>\n",
              "    </tr>\n",
              "    <tr>\n",
              "      <th>seller_type</th>\n",
              "      <td>4340</td>\n",
              "      <td>3</td>\n",
              "      <td>Individual</td>\n",
              "      <td>3244</td>\n",
              "    </tr>\n",
              "    <tr>\n",
              "      <th>transmission</th>\n",
              "      <td>4340</td>\n",
              "      <td>2</td>\n",
              "      <td>Manual</td>\n",
              "      <td>3892</td>\n",
              "    </tr>\n",
              "    <tr>\n",
              "      <th>owner</th>\n",
              "      <td>4340</td>\n",
              "      <td>5</td>\n",
              "      <td>First Owner</td>\n",
              "      <td>2832</td>\n",
              "    </tr>\n",
              "  </tbody>\n",
              "</table>\n",
              "</div>\n",
              "      <button class=\"colab-df-convert\" onclick=\"convertToInteractive('df-1b4ddeac-38ca-440b-81c0-6a51f6efc61f')\"\n",
              "              title=\"Convert this dataframe to an interactive table.\"\n",
              "              style=\"display:none;\">\n",
              "        \n",
              "  <svg xmlns=\"http://www.w3.org/2000/svg\" height=\"24px\"viewBox=\"0 0 24 24\"\n",
              "       width=\"24px\">\n",
              "    <path d=\"M0 0h24v24H0V0z\" fill=\"none\"/>\n",
              "    <path d=\"M18.56 5.44l.94 2.06.94-2.06 2.06-.94-2.06-.94-.94-2.06-.94 2.06-2.06.94zm-11 1L8.5 8.5l.94-2.06 2.06-.94-2.06-.94L8.5 2.5l-.94 2.06-2.06.94zm10 10l.94 2.06.94-2.06 2.06-.94-2.06-.94-.94-2.06-.94 2.06-2.06.94z\"/><path d=\"M17.41 7.96l-1.37-1.37c-.4-.4-.92-.59-1.43-.59-.52 0-1.04.2-1.43.59L10.3 9.45l-7.72 7.72c-.78.78-.78 2.05 0 2.83L4 21.41c.39.39.9.59 1.41.59.51 0 1.02-.2 1.41-.59l7.78-7.78 2.81-2.81c.8-.78.8-2.07 0-2.86zM5.41 20L4 18.59l7.72-7.72 1.47 1.35L5.41 20z\"/>\n",
              "  </svg>\n",
              "      </button>\n",
              "      \n",
              "  <style>\n",
              "    .colab-df-container {\n",
              "      display:flex;\n",
              "      flex-wrap:wrap;\n",
              "      gap: 12px;\n",
              "    }\n",
              "\n",
              "    .colab-df-convert {\n",
              "      background-color: #E8F0FE;\n",
              "      border: none;\n",
              "      border-radius: 50%;\n",
              "      cursor: pointer;\n",
              "      display: none;\n",
              "      fill: #1967D2;\n",
              "      height: 32px;\n",
              "      padding: 0 0 0 0;\n",
              "      width: 32px;\n",
              "    }\n",
              "\n",
              "    .colab-df-convert:hover {\n",
              "      background-color: #E2EBFA;\n",
              "      box-shadow: 0px 1px 2px rgba(60, 64, 67, 0.3), 0px 1px 3px 1px rgba(60, 64, 67, 0.15);\n",
              "      fill: #174EA6;\n",
              "    }\n",
              "\n",
              "    [theme=dark] .colab-df-convert {\n",
              "      background-color: #3B4455;\n",
              "      fill: #D2E3FC;\n",
              "    }\n",
              "\n",
              "    [theme=dark] .colab-df-convert:hover {\n",
              "      background-color: #434B5C;\n",
              "      box-shadow: 0px 1px 3px 1px rgba(0, 0, 0, 0.15);\n",
              "      filter: drop-shadow(0px 1px 2px rgba(0, 0, 0, 0.3));\n",
              "      fill: #FFFFFF;\n",
              "    }\n",
              "  </style>\n",
              "\n",
              "      <script>\n",
              "        const buttonEl =\n",
              "          document.querySelector('#df-1b4ddeac-38ca-440b-81c0-6a51f6efc61f button.colab-df-convert');\n",
              "        buttonEl.style.display =\n",
              "          google.colab.kernel.accessAllowed ? 'block' : 'none';\n",
              "\n",
              "        async function convertToInteractive(key) {\n",
              "          const element = document.querySelector('#df-1b4ddeac-38ca-440b-81c0-6a51f6efc61f');\n",
              "          const dataTable =\n",
              "            await google.colab.kernel.invokeFunction('convertToInteractive',\n",
              "                                                     [key], {});\n",
              "          if (!dataTable) return;\n",
              "\n",
              "          const docLinkHtml = 'Like what you see? Visit the ' +\n",
              "            '<a target=\"_blank\" href=https://colab.research.google.com/notebooks/data_table.ipynb>data table notebook</a>'\n",
              "            + ' to learn more about interactive tables.';\n",
              "          element.innerHTML = '';\n",
              "          dataTable['output_type'] = 'display_data';\n",
              "          await google.colab.output.renderOutput(dataTable, element);\n",
              "          const docLink = document.createElement('div');\n",
              "          docLink.innerHTML = docLinkHtml;\n",
              "          element.appendChild(docLink);\n",
              "        }\n",
              "      </script>\n",
              "    </div>\n",
              "  </div>\n",
              "  "
            ]
          },
          "metadata": {},
          "execution_count": 48
        }
      ]
    },
    {
      "cell_type": "code",
      "source": [
        "data.corr().style.background_gradient()"
      ],
      "metadata": {
        "colab": {
          "base_uri": "https://localhost:8080/",
          "height": 143
        },
        "id": "6iRZ481gLL8Y",
        "outputId": "5e786e05-5843-4ba0-c738-a13689c5c916"
      },
      "execution_count": 49,
      "outputs": [
        {
          "output_type": "execute_result",
          "data": {
            "text/plain": [
              "<pandas.io.formats.style.Styler at 0x7fcc6f017c40>"
            ],
            "text/html": [
              "<style type=\"text/css\">\n",
              "#T_8be9d_row0_col0, #T_8be9d_row1_col1, #T_8be9d_row2_col2 {\n",
              "  background-color: #023858;\n",
              "  color: #f1f1f1;\n",
              "}\n",
              "#T_8be9d_row0_col1 {\n",
              "  background-color: #6fa7ce;\n",
              "  color: #f1f1f1;\n",
              "}\n",
              "#T_8be9d_row0_col2, #T_8be9d_row2_col0, #T_8be9d_row2_col1 {\n",
              "  background-color: #fff7fb;\n",
              "  color: #000000;\n",
              "}\n",
              "#T_8be9d_row1_col0 {\n",
              "  background-color: #4897c4;\n",
              "  color: #f1f1f1;\n",
              "}\n",
              "#T_8be9d_row1_col2 {\n",
              "  background-color: #e4e1ef;\n",
              "  color: #000000;\n",
              "}\n",
              "</style>\n",
              "<table id=\"T_8be9d_\" class=\"dataframe\">\n",
              "  <thead>\n",
              "    <tr>\n",
              "      <th class=\"blank level0\" >&nbsp;</th>\n",
              "      <th class=\"col_heading level0 col0\" >year</th>\n",
              "      <th class=\"col_heading level0 col1\" >selling_price</th>\n",
              "      <th class=\"col_heading level0 col2\" >km_driven</th>\n",
              "    </tr>\n",
              "  </thead>\n",
              "  <tbody>\n",
              "    <tr>\n",
              "      <th id=\"T_8be9d_level0_row0\" class=\"row_heading level0 row0\" >year</th>\n",
              "      <td id=\"T_8be9d_row0_col0\" class=\"data row0 col0\" >1.000000</td>\n",
              "      <td id=\"T_8be9d_row0_col1\" class=\"data row0 col1\" >0.413922</td>\n",
              "      <td id=\"T_8be9d_row0_col2\" class=\"data row0 col2\" >-0.419688</td>\n",
              "    </tr>\n",
              "    <tr>\n",
              "      <th id=\"T_8be9d_level0_row1\" class=\"row_heading level0 row1\" >selling_price</th>\n",
              "      <td id=\"T_8be9d_row1_col0\" class=\"data row1 col0\" >0.413922</td>\n",
              "      <td id=\"T_8be9d_row1_col1\" class=\"data row1 col1\" >1.000000</td>\n",
              "      <td id=\"T_8be9d_row1_col2\" class=\"data row1 col2\" >-0.192289</td>\n",
              "    </tr>\n",
              "    <tr>\n",
              "      <th id=\"T_8be9d_level0_row2\" class=\"row_heading level0 row2\" >km_driven</th>\n",
              "      <td id=\"T_8be9d_row2_col0\" class=\"data row2 col0\" >-0.419688</td>\n",
              "      <td id=\"T_8be9d_row2_col1\" class=\"data row2 col1\" >-0.192289</td>\n",
              "      <td id=\"T_8be9d_row2_col2\" class=\"data row2 col2\" >1.000000</td>\n",
              "    </tr>\n",
              "  </tbody>\n",
              "</table>\n"
            ]
          },
          "metadata": {},
          "execution_count": 49
        }
      ]
    },
    {
      "cell_type": "code",
      "source": [
        "data.hist(figsize = (30, 25), bins = 30, legend = False)\n",
        "plt.show()"
      ],
      "metadata": {
        "colab": {
          "base_uri": "https://localhost:8080/",
          "height": 1000
        },
        "id": "GmbrUj1iLQeP",
        "outputId": "b3a502d9-2cf0-4b43-eb5e-f93339281c0f"
      },
      "execution_count": 50,
      "outputs": [
        {
          "output_type": "display_data",
          "data": {
            "text/plain": [
              "<Figure size 2160x1800 with 4 Axes>"
            ],
            "image/png": "[encoded data removed]"
          },
          "metadata": {
            "needs_background": "light"
          }
        }
      ]
    },
    {
      "cell_type": "code",
      "source": [
        "sns.histplot(data['fuel'])"
      ],
      "metadata": {
        "colab": {
          "base_uri": "https://localhost:8080/",
          "height": 297
        },
        "id": "0pyFkl8mLWuY",
        "outputId": "67119869-871e-4b76-cd6d-e7e47ad08a9a"
      },
      "execution_count": 51,
      "outputs": [
        {
          "output_type": "execute_result",
          "data": {
            "text/plain": [
              "<matplotlib.axes._subplots.AxesSubplot at 0x7fcc6f0504f0>"
            ]
          },
          "metadata": {},
          "execution_count": 51
        },
        {
          "output_type": "display_data",
          "data": {
            "text/plain": [
              "<Figure size 432x288 with 1 Axes>"
            ],
            "image/png": "[encoded data removed]"
          },
          "metadata": {
            "needs_background": "light"
          }
        }
      ]
    },
    {
      "cell_type": "code",
      "source": [
        "plt.figure(figsize = (10, 5))\n",
        "sns.barplot(x = \"fuel\", y = \"selling_price\", data = data, saturation = 1);"
      ],
      "metadata": {
        "colab": {
          "base_uri": "https://localhost:8080/",
          "height": 334
        },
        "id": "yB5u23Q_Lakb",
        "outputId": "9540ed7a-78df-4435-8b06-502e2da99e5e"
      },
      "execution_count": 52,
      "outputs": [
        {
          "output_type": "display_data",
          "data": {
            "text/plain": [
              "<Figure size 720x360 with 1 Axes>"
            ],
            "image/png": "[encoded data removed]"
          },
          "metadata": {
            "needs_background": "light"
          }
        }
      ]
    },
    {
      "cell_type": "code",
      "source": [
        "sns.histplot(data['seller_type'])"
      ],
      "metadata": {
        "colab": {
          "base_uri": "https://localhost:8080/",
          "height": 298
        },
        "id": "ckdR59LrLmS-",
        "outputId": "d77afd68-ce4d-4e10-c35b-309db74a2735"
      },
      "execution_count": 53,
      "outputs": [
        {
          "output_type": "execute_result",
          "data": {
            "text/plain": [
              "<matplotlib.axes._subplots.AxesSubplot at 0x7fcc7399f970>"
            ]
          },
          "metadata": {},
          "execution_count": 53
        },
        {
          "output_type": "display_data",
          "data": {
            "text/plain": [
              "<Figure size 432x288 with 1 Axes>"
            ],
            "image/png": "[encoded data removed]"
          },
          "metadata": {
            "needs_background": "light"
          }
        }
      ]
    },
    {
      "cell_type": "code",
      "source": [
        "plt.figure(figsize = (10, 5))\n",
        "sns.barplot(x = \"seller_type\", y = \"selling_price\", data = data, saturation = 1);"
      ],
      "metadata": {
        "colab": {
          "base_uri": "https://localhost:8080/",
          "height": 346
        },
        "id": "cfQ8QTa1Lscr",
        "outputId": "18e2e194-220d-46f3-83dd-85574ee104ed"
      },
      "execution_count": 54,
      "outputs": [
        {
          "output_type": "display_data",
          "data": {
            "text/plain": [
              "<Figure size 720x360 with 1 Axes>"
            ],
            "image/png": "[encoded data removed]"
          },
          "metadata": {
            "needs_background": "light"
          }
        }
      ]
    },
    {
      "cell_type": "code",
      "source": [
        "sns.histplot(data['transmission'])"
      ],
      "metadata": {
        "colab": {
          "base_uri": "https://localhost:8080/",
          "height": 297
        },
        "id": "0fa7kvZGLwHf",
        "outputId": "612c3a0b-69cf-4c3d-acf5-4ebc0479cc7a"
      },
      "execution_count": 55,
      "outputs": [
        {
          "output_type": "execute_result",
          "data": {
            "text/plain": [
              "<matplotlib.axes._subplots.AxesSubplot at 0x7fcc7390c9d0>"
            ]
          },
          "metadata": {},
          "execution_count": 55
        },
        {
          "output_type": "display_data",
          "data": {
            "text/plain": [
              "<Figure size 432x288 with 1 Axes>"
            ],
            "image/png": "[encoded data removed]"
          },
          "metadata": {
            "needs_background": "light"
          }
        }
      ]
    },
    {
      "cell_type": "code",
      "source": [
        "plt.figure(figsize = (10, 5))\n",
        "sns.barplot(x = \"transmission\", y = \"selling_price\", data = data, saturation = 1);"
      ],
      "metadata": {
        "colab": {
          "base_uri": "https://localhost:8080/",
          "height": 345
        },
        "id": "5rxVN6CGLy9K",
        "outputId": "67cb4e1d-c89f-4553-d7a0-5aba6dbf3c0c"
      },
      "execution_count": 56,
      "outputs": [
        {
          "output_type": "display_data",
          "data": {
            "text/plain": [
              "<Figure size 720x360 with 1 Axes>"
            ],
            "image/png": "[encoded data removed]"
          },
          "metadata": {
            "needs_background": "light"
          }
        }
      ]
    },
    {
      "cell_type": "code",
      "source": [
        "plt.figure(figsize=(10,5))\n",
        "sns.histplot(data['owner'])"
      ],
      "metadata": {
        "colab": {
          "base_uri": "https://localhost:8080/",
          "height": 352
        },
        "id": "nmKS7qwnL2Ue",
        "outputId": "37e9fa71-c3f5-4dc7-d9f6-295cbba545e3"
      },
      "execution_count": 57,
      "outputs": [
        {
          "output_type": "execute_result",
          "data": {
            "text/plain": [
              "<matplotlib.axes._subplots.AxesSubplot at 0x7fcc73ad0f40>"
            ]
          },
          "metadata": {},
          "execution_count": 57
        },
        {
          "output_type": "display_data",
          "data": {
            "text/plain": [
              "<Figure size 720x360 with 1 Axes>"
            ],
            "image/png": "[encoded data removed]"
          },
          "metadata": {
            "needs_background": "light"
          }
        }
      ]
    },
    {
      "cell_type": "code",
      "source": [
        "plt.figure(figsize = (10, 5))\n",
        "sns.barplot(x = \"owner\", y = \"selling_price\", data = data, saturation = 1);"
      ],
      "metadata": {
        "colab": {
          "base_uri": "https://localhost:8080/",
          "height": 345
        },
        "id": "f4u6FQtBL5UF",
        "outputId": "ab059d87-23a9-4a4a-984b-4ab5f9bd406b"
      },
      "execution_count": 58,
      "outputs": [
        {
          "output_type": "display_data",
          "data": {
            "text/plain": [
              "<Figure size 720x360 with 1 Axes>"
            ],
            "image/png": "[encoded data removed]"
          },
          "metadata": {
            "needs_background": "light"
          }
        }
      ]
    },
    {
      "cell_type": "code",
      "source": [
        "for i in range(data.shape[0]):\n",
        "    data['name'][i] = data['name'][i].split()[0]\n",
        "    "
      ],
      "metadata": {
        "id": "iegk25S8L9uB",
        "colab": {
          "base_uri": "https://localhost:8080/"
        },
        "outputId": "50d40dd7-5fce-4ba0-8b92-4b7cd4c8c390"
      },
      "execution_count": 59,
      "outputs": [
        {
          "output_type": "stream",
          "name": "stderr",
          "text": [
            "<ipython-input-59-851a63321d25>:2: SettingWithCopyWarning: \n",
            "A value is trying to be set on a copy of a slice from a DataFrame\n",
            "\n",
            "See the caveats in the documentation: https://pandas.pydata.org/pandas-docs/stable/user_guide/indexing.html#returning-a-view-versus-a-copy\n",
            "  data['name'][i] = data['name'][i].split()[0]\n"
          ]
        }
      ]
    },
    {
      "cell_type": "code",
      "source": [
        "data.head().style.background_gradient()"
      ],
      "metadata": {
        "colab": {
          "base_uri": "https://localhost:8080/",
          "height": 206
        },
        "id": "eQEKmxjOMHZZ",
        "outputId": "f3bd7ccb-422a-4d70-c0e8-320c307657db"
      },
      "execution_count": 60,
      "outputs": [
        {
          "output_type": "execute_result",
          "data": {
            "text/plain": [
              "<pandas.io.formats.style.Styler at 0x7fcc70c9e4f0>"
            ],
            "text/html": [
              "<style type=\"text/css\">\n",
              "#T_c680e_row0_col1, #T_c680e_row0_col2, #T_c680e_row1_col1, #T_c680e_row3_col3 {\n",
              "  background-color: #fff7fb;\n",
              "  color: #000000;\n",
              "}\n",
              "#T_c680e_row0_col3 {\n",
              "  background-color: #d0d1e6;\n",
              "  color: #000000;\n",
              "}\n",
              "#T_c680e_row1_col2 {\n",
              "  background-color: #e9e5f1;\n",
              "  color: #000000;\n",
              "}\n",
              "#T_c680e_row1_col3 {\n",
              "  background-color: #f9f2f8;\n",
              "  color: #000000;\n",
              "}\n",
              "#T_c680e_row2_col1 {\n",
              "  background-color: #73a9cf;\n",
              "  color: #f1f1f1;\n",
              "}\n",
              "#T_c680e_row2_col2, #T_c680e_row3_col1, #T_c680e_row4_col3 {\n",
              "  background-color: #023858;\n",
              "  color: #f1f1f1;\n",
              "}\n",
              "#T_c680e_row2_col3 {\n",
              "  background-color: #529bc7;\n",
              "  color: #f1f1f1;\n",
              "}\n",
              "#T_c680e_row3_col2 {\n",
              "  background-color: #adc1dd;\n",
              "  color: #000000;\n",
              "}\n",
              "#T_c680e_row4_col1 {\n",
              "  background-color: #187cb6;\n",
              "  color: #f1f1f1;\n",
              "}\n",
              "#T_c680e_row4_col2 {\n",
              "  background-color: #1077b4;\n",
              "  color: #f1f1f1;\n",
              "}\n",
              "</style>\n",
              "<table id=\"T_c680e_\" class=\"dataframe\">\n",
              "  <thead>\n",
              "    <tr>\n",
              "      <th class=\"blank level0\" >&nbsp;</th>\n",
              "      <th class=\"col_heading level0 col0\" >name</th>\n",
              "      <th class=\"col_heading level0 col1\" >year</th>\n",
              "      <th class=\"col_heading level0 col2\" >selling_price</th>\n",
              "      <th class=\"col_heading level0 col3\" >km_driven</th>\n",
              "      <th class=\"col_heading level0 col4\" >fuel</th>\n",
              "      <th class=\"col_heading level0 col5\" >seller_type</th>\n",
              "      <th class=\"col_heading level0 col6\" >transmission</th>\n",
              "      <th class=\"col_heading level0 col7\" >owner</th>\n",
              "    </tr>\n",
              "  </thead>\n",
              "  <tbody>\n",
              "    <tr>\n",
              "      <th id=\"T_c680e_level0_row0\" class=\"row_heading level0 row0\" >0</th>\n",
              "      <td id=\"T_c680e_row0_col0\" class=\"data row0 col0\" >Maruti</td>\n",
              "      <td id=\"T_c680e_row0_col1\" class=\"data row0 col1\" >2007</td>\n",
              "      <td id=\"T_c680e_row0_col2\" class=\"data row0 col2\" >60000</td>\n",
              "      <td id=\"T_c680e_row0_col3\" class=\"data row0 col3\" >70000</td>\n",
              "      <td id=\"T_c680e_row0_col4\" class=\"data row0 col4\" >Petrol</td>\n",
              "      <td id=\"T_c680e_row0_col5\" class=\"data row0 col5\" >Individual</td>\n",
              "      <td id=\"T_c680e_row0_col6\" class=\"data row0 col6\" >Manual</td>\n",
              "      <td id=\"T_c680e_row0_col7\" class=\"data row0 col7\" >First Owner</td>\n",
              "    </tr>\n",
              "    <tr>\n",
              "      <th id=\"T_c680e_level0_row1\" class=\"row_heading level0 row1\" >1</th>\n",
              "      <td id=\"T_c680e_row1_col0\" class=\"data row1 col0\" >Maruti</td>\n",
              "      <td id=\"T_c680e_row1_col1\" class=\"data row1 col1\" >2007</td>\n",
              "      <td id=\"T_c680e_row1_col2\" class=\"data row1 col2\" >135000</td>\n",
              "      <td id=\"T_c680e_row1_col3\" class=\"data row1 col3\" >50000</td>\n",
              "      <td id=\"T_c680e_row1_col4\" class=\"data row1 col4\" >Petrol</td>\n",
              "      <td id=\"T_c680e_row1_col5\" class=\"data row1 col5\" >Individual</td>\n",
              "      <td id=\"T_c680e_row1_col6\" class=\"data row1 col6\" >Manual</td>\n",
              "      <td id=\"T_c680e_row1_col7\" class=\"data row1 col7\" >First Owner</td>\n",
              "    </tr>\n",
              "    <tr>\n",
              "      <th id=\"T_c680e_level0_row2\" class=\"row_heading level0 row2\" >2</th>\n",
              "      <td id=\"T_c680e_row2_col0\" class=\"data row2 col0\" >Hyundai</td>\n",
              "      <td id=\"T_c680e_row2_col1\" class=\"data row2 col1\" >2012</td>\n",
              "      <td id=\"T_c680e_row2_col2\" class=\"data row2 col2\" >600000</td>\n",
              "      <td id=\"T_c680e_row2_col3\" class=\"data row2 col3\" >100000</td>\n",
              "      <td id=\"T_c680e_row2_col4\" class=\"data row2 col4\" >Diesel</td>\n",
              "      <td id=\"T_c680e_row2_col5\" class=\"data row2 col5\" >Individual</td>\n",
              "      <td id=\"T_c680e_row2_col6\" class=\"data row2 col6\" >Manual</td>\n",
              "      <td id=\"T_c680e_row2_col7\" class=\"data row2 col7\" >First Owner</td>\n",
              "    </tr>\n",
              "    <tr>\n",
              "      <th id=\"T_c680e_level0_row3\" class=\"row_heading level0 row3\" >3</th>\n",
              "      <td id=\"T_c680e_row3_col0\" class=\"data row3 col0\" >Datsun</td>\n",
              "      <td id=\"T_c680e_row3_col1\" class=\"data row3 col1\" >2017</td>\n",
              "      <td id=\"T_c680e_row3_col2\" class=\"data row3 col2\" >250000</td>\n",
              "      <td id=\"T_c680e_row3_col3\" class=\"data row3 col3\" >46000</td>\n",
              "      <td id=\"T_c680e_row3_col4\" class=\"data row3 col4\" >Petrol</td>\n",
              "      <td id=\"T_c680e_row3_col5\" class=\"data row3 col5\" >Individual</td>\n",
              "      <td id=\"T_c680e_row3_col6\" class=\"data row3 col6\" >Manual</td>\n",
              "      <td id=\"T_c680e_row3_col7\" class=\"data row3 col7\" >First Owner</td>\n",
              "    </tr>\n",
              "    <tr>\n",
              "      <th id=\"T_c680e_level0_row4\" class=\"row_heading level0 row4\" >4</th>\n",
              "      <td id=\"T_c680e_row4_col0\" class=\"data row4 col0\" >Honda</td>\n",
              "      <td id=\"T_c680e_row4_col1\" class=\"data row4 col1\" >2014</td>\n",
              "      <td id=\"T_c680e_row4_col2\" class=\"data row4 col2\" >450000</td>\n",
              "      <td id=\"T_c680e_row4_col3\" class=\"data row4 col3\" >141000</td>\n",
              "      <td id=\"T_c680e_row4_col4\" class=\"data row4 col4\" >Diesel</td>\n",
              "      <td id=\"T_c680e_row4_col5\" class=\"data row4 col5\" >Individual</td>\n",
              "      <td id=\"T_c680e_row4_col6\" class=\"data row4 col6\" >Manual</td>\n",
              "      <td id=\"T_c680e_row4_col7\" class=\"data row4 col7\" >Second Owner</td>\n",
              "    </tr>\n",
              "  </tbody>\n",
              "</table>\n"
            ]
          },
          "metadata": {},
          "execution_count": 60
        }
      ]
    },
    {
      "cell_type": "code",
      "source": [
        "data.tail().style.background_gradient()"
      ],
      "metadata": {
        "colab": {
          "base_uri": "https://localhost:8080/",
          "height": 206
        },
        "id": "bIk0wmGWNGU6",
        "outputId": "2fef71d9-fdfd-46d5-bb9a-d730bb98c065"
      },
      "execution_count": 61,
      "outputs": [
        {
          "output_type": "execute_result",
          "data": {
            "text/plain": [
              "<pandas.io.formats.style.Styler at 0x7fcc70fdd190>"
            ],
            "text/html": [
              "<style type=\"text/css\">\n",
              "#T_bd35c_row0_col1, #T_bd35c_row1_col1 {\n",
              "  background-color: #1379b5;\n",
              "  color: #f1f1f1;\n",
              "}\n",
              "#T_bd35c_row0_col2, #T_bd35c_row1_col2 {\n",
              "  background-color: #9ebad9;\n",
              "  color: #000000;\n",
              "}\n",
              "#T_bd35c_row0_col3, #T_bd35c_row1_col3 {\n",
              "  background-color: #0567a2;\n",
              "  color: #f1f1f1;\n",
              "}\n",
              "#T_bd35c_row2_col1, #T_bd35c_row2_col2, #T_bd35c_row4_col3 {\n",
              "  background-color: #fff7fb;\n",
              "  color: #000000;\n",
              "}\n",
              "#T_bd35c_row2_col3 {\n",
              "  background-color: #045c90;\n",
              "  color: #f1f1f1;\n",
              "}\n",
              "#T_bd35c_row3_col1, #T_bd35c_row3_col2, #T_bd35c_row3_col3, #T_bd35c_row4_col1 {\n",
              "  background-color: #023858;\n",
              "  color: #f1f1f1;\n",
              "}\n",
              "#T_bd35c_row4_col2 {\n",
              "  background-color: #e7e3f0;\n",
              "  color: #000000;\n",
              "}\n",
              "</style>\n",
              "<table id=\"T_bd35c_\" class=\"dataframe\">\n",
              "  <thead>\n",
              "    <tr>\n",
              "      <th class=\"blank level0\" >&nbsp;</th>\n",
              "      <th class=\"col_heading level0 col0\" >name</th>\n",
              "      <th class=\"col_heading level0 col1\" >year</th>\n",
              "      <th class=\"col_heading level0 col2\" >selling_price</th>\n",
              "      <th class=\"col_heading level0 col3\" >km_driven</th>\n",
              "      <th class=\"col_heading level0 col4\" >fuel</th>\n",
              "      <th class=\"col_heading level0 col5\" >seller_type</th>\n",
              "      <th class=\"col_heading level0 col6\" >transmission</th>\n",
              "      <th class=\"col_heading level0 col7\" >owner</th>\n",
              "    </tr>\n",
              "  </thead>\n",
              "  <tbody>\n",
              "    <tr>\n",
              "      <th id=\"T_bd35c_level0_row0\" class=\"row_heading level0 row0\" >4335</th>\n",
              "      <td id=\"T_bd35c_row0_col0\" class=\"data row0 col0\" >Hyundai</td>\n",
              "      <td id=\"T_bd35c_row0_col1\" class=\"data row0 col1\" >2014</td>\n",
              "      <td id=\"T_bd35c_row0_col2\" class=\"data row0 col2\" >409999</td>\n",
              "      <td id=\"T_bd35c_row0_col3\" class=\"data row0 col3\" >80000</td>\n",
              "      <td id=\"T_bd35c_row0_col4\" class=\"data row0 col4\" >Diesel</td>\n",
              "      <td id=\"T_bd35c_row0_col5\" class=\"data row0 col5\" >Individual</td>\n",
              "      <td id=\"T_bd35c_row0_col6\" class=\"data row0 col6\" >Manual</td>\n",
              "      <td id=\"T_bd35c_row0_col7\" class=\"data row0 col7\" >Second Owner</td>\n",
              "    </tr>\n",
              "    <tr>\n",
              "      <th id=\"T_bd35c_level0_row1\" class=\"row_heading level0 row1\" >4336</th>\n",
              "      <td id=\"T_bd35c_row1_col0\" class=\"data row1 col0\" >Hyundai</td>\n",
              "      <td id=\"T_bd35c_row1_col1\" class=\"data row1 col1\" >2014</td>\n",
              "      <td id=\"T_bd35c_row1_col2\" class=\"data row1 col2\" >409999</td>\n",
              "      <td id=\"T_bd35c_row1_col3\" class=\"data row1 col3\" >80000</td>\n",
              "      <td id=\"T_bd35c_row1_col4\" class=\"data row1 col4\" >Diesel</td>\n",
              "      <td id=\"T_bd35c_row1_col5\" class=\"data row1 col5\" >Individual</td>\n",
              "      <td id=\"T_bd35c_row1_col6\" class=\"data row1 col6\" >Manual</td>\n",
              "      <td id=\"T_bd35c_row1_col7\" class=\"data row1 col7\" >Second Owner</td>\n",
              "    </tr>\n",
              "    <tr>\n",
              "      <th id=\"T_bd35c_level0_row2\" class=\"row_heading level0 row2\" >4337</th>\n",
              "      <td id=\"T_bd35c_row2_col0\" class=\"data row2 col0\" >Maruti</td>\n",
              "      <td id=\"T_bd35c_row2_col1\" class=\"data row2 col1\" >2009</td>\n",
              "      <td id=\"T_bd35c_row2_col2\" class=\"data row2 col2\" >110000</td>\n",
              "      <td id=\"T_bd35c_row2_col3\" class=\"data row2 col3\" >83000</td>\n",
              "      <td id=\"T_bd35c_row2_col4\" class=\"data row2 col4\" >Petrol</td>\n",
              "      <td id=\"T_bd35c_row2_col5\" class=\"data row2 col5\" >Individual</td>\n",
              "      <td id=\"T_bd35c_row2_col6\" class=\"data row2 col6\" >Manual</td>\n",
              "      <td id=\"T_bd35c_row2_col7\" class=\"data row2 col7\" >Second Owner</td>\n",
              "    </tr>\n",
              "    <tr>\n",
              "      <th id=\"T_bd35c_level0_row3\" class=\"row_heading level0 row3\" >4338</th>\n",
              "      <td id=\"T_bd35c_row3_col0\" class=\"data row3 col0\" >Hyundai</td>\n",
              "      <td id=\"T_bd35c_row3_col1\" class=\"data row3 col1\" >2016</td>\n",
              "      <td id=\"T_bd35c_row3_col2\" class=\"data row3 col2\" >865000</td>\n",
              "      <td id=\"T_bd35c_row3_col3\" class=\"data row3 col3\" >90000</td>\n",
              "      <td id=\"T_bd35c_row3_col4\" class=\"data row3 col4\" >Diesel</td>\n",
              "      <td id=\"T_bd35c_row3_col5\" class=\"data row3 col5\" >Individual</td>\n",
              "      <td id=\"T_bd35c_row3_col6\" class=\"data row3 col6\" >Manual</td>\n",
              "      <td id=\"T_bd35c_row3_col7\" class=\"data row3 col7\" >First Owner</td>\n",
              "    </tr>\n",
              "    <tr>\n",
              "      <th id=\"T_bd35c_level0_row4\" class=\"row_heading level0 row4\" >4339</th>\n",
              "      <td id=\"T_bd35c_row4_col0\" class=\"data row4 col0\" >Renault</td>\n",
              "      <td id=\"T_bd35c_row4_col1\" class=\"data row4 col1\" >2016</td>\n",
              "      <td id=\"T_bd35c_row4_col2\" class=\"data row4 col2\" >225000</td>\n",
              "      <td id=\"T_bd35c_row4_col3\" class=\"data row4 col3\" >40000</td>\n",
              "      <td id=\"T_bd35c_row4_col4\" class=\"data row4 col4\" >Petrol</td>\n",
              "      <td id=\"T_bd35c_row4_col5\" class=\"data row4 col5\" >Individual</td>\n",
              "      <td id=\"T_bd35c_row4_col6\" class=\"data row4 col6\" >Manual</td>\n",
              "      <td id=\"T_bd35c_row4_col7\" class=\"data row4 col7\" >First Owner</td>\n",
              "    </tr>\n",
              "  </tbody>\n",
              "</table>\n"
            ]
          },
          "metadata": {},
          "execution_count": 61
        }
      ]
    },
    {
      "cell_type": "code",
      "source": [
        "n_data = pd.get_dummies(data, columns = ['name',\"fuel\",\"seller_type\",\"transmission\",\"owner\"])"
      ],
      "metadata": {
        "id": "Gz6edbn-NK2U"
      },
      "execution_count": 62,
      "outputs": []
    },
    {
      "cell_type": "code",
      "source": [
        "from sklearn.impute import SimpleImputer\n",
        "col = n_data.columns\n",
        "imp = SimpleImputer()\n",
        "n_data = pd.DataFrame(imp.fit_transform(n_data), columns = col)"
      ],
      "metadata": {
        "id": "zqZuT8-HNW-i"
      },
      "execution_count": 63,
      "outputs": []
    },
    {
      "cell_type": "code",
      "source": [
        "n_data.head().style.background_gradient()"
      ],
      "metadata": {
        "colab": {
          "base_uri": "https://localhost:8080/",
          "height": 261
        },
        "id": "u0ayUUXGU5CM",
        "outputId": "319cf1df-9c80-41f6-dd95-be8c697592ac"
      },
      "execution_count": 64,
      "outputs": [
        {
          "output_type": "execute_result",
          "data": {
            "text/plain": [
              "<pandas.io.formats.style.Styler at 0x7fcc70fdd100>"
            ],
            "text/html": [
              "<style type=\"text/css\">\n",
              "#T_1da07_row0_col0, #T_1da07_row0_col1, #T_1da07_row0_col3, #T_1da07_row0_col4, #T_1da07_row0_col5, #T_1da07_row0_col6, #T_1da07_row0_col7, #T_1da07_row0_col8, #T_1da07_row0_col9, #T_1da07_row0_col10, #T_1da07_row0_col11, #T_1da07_row0_col12, #T_1da07_row0_col13, #T_1da07_row0_col14, #T_1da07_row0_col15, #T_1da07_row0_col16, #T_1da07_row0_col17, #T_1da07_row0_col18, #T_1da07_row0_col19, #T_1da07_row0_col20, #T_1da07_row0_col22, #T_1da07_row0_col23, #T_1da07_row0_col24, #T_1da07_row0_col25, #T_1da07_row0_col26, #T_1da07_row0_col27, #T_1da07_row0_col28, #T_1da07_row0_col29, #T_1da07_row0_col30, #T_1da07_row0_col31, #T_1da07_row0_col32, #T_1da07_row0_col33, #T_1da07_row0_col34, #T_1da07_row0_col35, #T_1da07_row0_col37, #T_1da07_row0_col38, #T_1da07_row0_col39, #T_1da07_row0_col40, #T_1da07_row0_col41, #T_1da07_row0_col43, #T_1da07_row0_col44, #T_1da07_row0_col45, #T_1da07_row0_col46, #T_1da07_row1_col0, #T_1da07_row1_col3, #T_1da07_row1_col4, #T_1da07_row1_col5, #T_1da07_row1_col6, #T_1da07_row1_col7, #T_1da07_row1_col8, #T_1da07_row1_col9, #T_1da07_row1_col10, #T_1da07_row1_col11, #T_1da07_row1_col12, #T_1da07_row1_col13, #T_1da07_row1_col14, #T_1da07_row1_col15, #T_1da07_row1_col16, #T_1da07_row1_col17, #T_1da07_row1_col18, #T_1da07_row1_col19, #T_1da07_row1_col20, #T_1da07_row1_col22, #T_1da07_row1_col23, #T_1da07_row1_col24, #T_1da07_row1_col25, #T_1da07_row1_col26, #T_1da07_row1_col27, #T_1da07_row1_col28, #T_1da07_row1_col29, #T_1da07_row1_col30, #T_1da07_row1_col31, #T_1da07_row1_col32, #T_1da07_row1_col33, #T_1da07_row1_col34, #T_1da07_row1_col35, #T_1da07_row1_col37, #T_1da07_row1_col38, #T_1da07_row1_col39, #T_1da07_row1_col40, #T_1da07_row1_col41, #T_1da07_row1_col43, #T_1da07_row1_col44, #T_1da07_row1_col45, #T_1da07_row1_col46, #T_1da07_row2_col3, #T_1da07_row2_col4, #T_1da07_row2_col5, #T_1da07_row2_col6, #T_1da07_row2_col7, #T_1da07_row2_col8, #T_1da07_row2_col9, #T_1da07_row2_col10, #T_1da07_row2_col11, #T_1da07_row2_col12, #T_1da07_row2_col14, #T_1da07_row2_col15, #T_1da07_row2_col16, #T_1da07_row2_col17, #T_1da07_row2_col18, #T_1da07_row2_col19, #T_1da07_row2_col20, #T_1da07_row2_col21, #T_1da07_row2_col22, #T_1da07_row2_col23, #T_1da07_row2_col24, #T_1da07_row2_col25, #T_1da07_row2_col26, #T_1da07_row2_col27, #T_1da07_row2_col28, #T_1da07_row2_col29, #T_1da07_row2_col30, #T_1da07_row2_col31, #T_1da07_row2_col32, #T_1da07_row2_col34, #T_1da07_row2_col35, #T_1da07_row2_col36, #T_1da07_row2_col37, #T_1da07_row2_col38, #T_1da07_row2_col39, #T_1da07_row2_col40, #T_1da07_row2_col41, #T_1da07_row2_col43, #T_1da07_row2_col44, #T_1da07_row2_col45, #T_1da07_row2_col46, #T_1da07_row3_col2, #T_1da07_row3_col3, #T_1da07_row3_col4, #T_1da07_row3_col5, #T_1da07_row3_col6, #T_1da07_row3_col7, #T_1da07_row3_col9, #T_1da07_row3_col10, #T_1da07_row3_col11, #T_1da07_row3_col12, #T_1da07_row3_col13, #T_1da07_row3_col14, #T_1da07_row3_col15, #T_1da07_row3_col16, #T_1da07_row3_col17, #T_1da07_row3_col18, #T_1da07_row3_col19, #T_1da07_row3_col20, #T_1da07_row3_col21, #T_1da07_row3_col22, #T_1da07_row3_col23, #T_1da07_row3_col24, #T_1da07_row3_col25, #T_1da07_row3_col26, #T_1da07_row3_col27, #T_1da07_row3_col28, #T_1da07_row3_col29, #T_1da07_row3_col30, #T_1da07_row3_col31, #T_1da07_row3_col32, #T_1da07_row3_col33, #T_1da07_row3_col34, #T_1da07_row3_col35, #T_1da07_row3_col37, #T_1da07_row3_col38, #T_1da07_row3_col39, #T_1da07_row3_col40, #T_1da07_row3_col41, #T_1da07_row3_col43, #T_1da07_row3_col44, #T_1da07_row3_col45, #T_1da07_row3_col46, #T_1da07_row4_col3, #T_1da07_row4_col4, #T_1da07_row4_col5, #T_1da07_row4_col6, #T_1da07_row4_col7, #T_1da07_row4_col8, #T_1da07_row4_col9, #T_1da07_row4_col10, #T_1da07_row4_col11, #T_1da07_row4_col13, #T_1da07_row4_col14, #T_1da07_row4_col15, #T_1da07_row4_col16, #T_1da07_row4_col17, #T_1da07_row4_col18, #T_1da07_row4_col19, #T_1da07_row4_col20, #T_1da07_row4_col21, #T_1da07_row4_col22, #T_1da07_row4_col23, #T_1da07_row4_col24, #T_1da07_row4_col25, #T_1da07_row4_col26, #T_1da07_row4_col27, #T_1da07_row4_col28, #T_1da07_row4_col29, #T_1da07_row4_col30, #T_1da07_row4_col31, #T_1da07_row4_col32, #T_1da07_row4_col34, #T_1da07_row4_col35, #T_1da07_row4_col36, #T_1da07_row4_col37, #T_1da07_row4_col38, #T_1da07_row4_col39, #T_1da07_row4_col40, #T_1da07_row4_col41, #T_1da07_row4_col42, #T_1da07_row4_col43, #T_1da07_row4_col45, #T_1da07_row4_col46 {\n",
              "  background-color: #fff7fb;\n",
              "  color: #000000;\n",
              "}\n",
              "#T_1da07_row0_col2 {\n",
              "  background-color: #d0d1e6;\n",
              "  color: #000000;\n",
              "}\n",
              "#T_1da07_row0_col21, #T_1da07_row0_col36, #T_1da07_row0_col42, #T_1da07_row1_col21, #T_1da07_row1_col36, #T_1da07_row1_col42, #T_1da07_row2_col1, #T_1da07_row2_col13, #T_1da07_row2_col33, #T_1da07_row2_col42, #T_1da07_row3_col0, #T_1da07_row3_col8, #T_1da07_row3_col36, #T_1da07_row3_col42, #T_1da07_row4_col2, #T_1da07_row4_col12, #T_1da07_row4_col33, #T_1da07_row4_col44 {\n",
              "  background-color: #023858;\n",
              "  color: #f1f1f1;\n",
              "}\n",
              "#T_1da07_row1_col1 {\n",
              "  background-color: #e9e5f1;\n",
              "  color: #000000;\n",
              "}\n",
              "#T_1da07_row1_col2 {\n",
              "  background-color: #f9f2f8;\n",
              "  color: #000000;\n",
              "}\n",
              "#T_1da07_row2_col0 {\n",
              "  background-color: #73a9cf;\n",
              "  color: #f1f1f1;\n",
              "}\n",
              "#T_1da07_row2_col2 {\n",
              "  background-color: #529bc7;\n",
              "  color: #f1f1f1;\n",
              "}\n",
              "#T_1da07_row3_col1 {\n",
              "  background-color: #adc1dd;\n",
              "  color: #000000;\n",
              "}\n",
              "#T_1da07_row4_col0 {\n",
              "  background-color: #187cb6;\n",
              "  color: #f1f1f1;\n",
              "}\n",
              "#T_1da07_row4_col1 {\n",
              "  background-color: #1077b4;\n",
              "  color: #f1f1f1;\n",
              "}\n",
              "</style>\n",
              "<table id=\"T_1da07_\" class=\"dataframe\">\n",
              "  <thead>\n",
              "    <tr>\n",
              "      <th class=\"blank level0\" >&nbsp;</th>\n",
              "      <th class=\"col_heading level0 col0\" >year</th>\n",
              "      <th class=\"col_heading level0 col1\" >selling_price</th>\n",
              "      <th class=\"col_heading level0 col2\" >km_driven</th>\n",
              "      <th class=\"col_heading level0 col3\" >name_Ambassador</th>\n",
              "      <th class=\"col_heading level0 col4\" >name_Audi</th>\n",
              "      <th class=\"col_heading level0 col5\" >name_BMW</th>\n",
              "      <th class=\"col_heading level0 col6\" >name_Chevrolet</th>\n",
              "      <th class=\"col_heading level0 col7\" >name_Daewoo</th>\n",
              "      <th class=\"col_heading level0 col8\" >name_Datsun</th>\n",
              "      <th class=\"col_heading level0 col9\" >name_Fiat</th>\n",
              "      <th class=\"col_heading level0 col10\" >name_Force</th>\n",
              "      <th class=\"col_heading level0 col11\" >name_Ford</th>\n",
              "      <th class=\"col_heading level0 col12\" >name_Honda</th>\n",
              "      <th class=\"col_heading level0 col13\" >name_Hyundai</th>\n",
              "      <th class=\"col_heading level0 col14\" >name_Isuzu</th>\n",
              "      <th class=\"col_heading level0 col15\" >name_Jaguar</th>\n",
              "      <th class=\"col_heading level0 col16\" >name_Jeep</th>\n",
              "      <th class=\"col_heading level0 col17\" >name_Kia</th>\n",
              "      <th class=\"col_heading level0 col18\" >name_Land</th>\n",
              "      <th class=\"col_heading level0 col19\" >name_MG</th>\n",
              "      <th class=\"col_heading level0 col20\" >name_Mahindra</th>\n",
              "      <th class=\"col_heading level0 col21\" >name_Maruti</th>\n",
              "      <th class=\"col_heading level0 col22\" >name_Mercedes-Benz</th>\n",
              "      <th class=\"col_heading level0 col23\" >name_Mitsubishi</th>\n",
              "      <th class=\"col_heading level0 col24\" >name_Nissan</th>\n",
              "      <th class=\"col_heading level0 col25\" >name_OpelCorsa</th>\n",
              "      <th class=\"col_heading level0 col26\" >name_Renault</th>\n",
              "      <th class=\"col_heading level0 col27\" >name_Skoda</th>\n",
              "      <th class=\"col_heading level0 col28\" >name_Tata</th>\n",
              "      <th class=\"col_heading level0 col29\" >name_Toyota</th>\n",
              "      <th class=\"col_heading level0 col30\" >name_Volkswagen</th>\n",
              "      <th class=\"col_heading level0 col31\" >name_Volvo</th>\n",
              "      <th class=\"col_heading level0 col32\" >fuel_CNG</th>\n",
              "      <th class=\"col_heading level0 col33\" >fuel_Diesel</th>\n",
              "      <th class=\"col_heading level0 col34\" >fuel_Electric</th>\n",
              "      <th class=\"col_heading level0 col35\" >fuel_LPG</th>\n",
              "      <th class=\"col_heading level0 col36\" >fuel_Petrol</th>\n",
              "      <th class=\"col_heading level0 col37\" >seller_type_Dealer</th>\n",
              "      <th class=\"col_heading level0 col38\" >seller_type_Individual</th>\n",
              "      <th class=\"col_heading level0 col39\" >seller_type_Trustmark Dealer</th>\n",
              "      <th class=\"col_heading level0 col40\" >transmission_Automatic</th>\n",
              "      <th class=\"col_heading level0 col41\" >transmission_Manual</th>\n",
              "      <th class=\"col_heading level0 col42\" >owner_First Owner</th>\n",
              "      <th class=\"col_heading level0 col43\" >owner_Fourth & Above Owner</th>\n",
              "      <th class=\"col_heading level0 col44\" >owner_Second Owner</th>\n",
              "      <th class=\"col_heading level0 col45\" >owner_Test Drive Car</th>\n",
              "      <th class=\"col_heading level0 col46\" >owner_Third Owner</th>\n",
              "    </tr>\n",
              "  </thead>\n",
              "  <tbody>\n",
              "    <tr>\n",
              "      <th id=\"T_1da07_level0_row0\" class=\"row_heading level0 row0\" >0</th>\n",
              "      <td id=\"T_1da07_row0_col0\" class=\"data row0 col0\" >2007.000000</td>\n",
              "      <td id=\"T_1da07_row0_col1\" class=\"data row0 col1\" >60000.000000</td>\n",
              "      <td id=\"T_1da07_row0_col2\" class=\"data row0 col2\" >70000.000000</td>\n",
              "      <td id=\"T_1da07_row0_col3\" class=\"data row0 col3\" >0.000000</td>\n",
              "      <td id=\"T_1da07_row0_col4\" class=\"data row0 col4\" >0.000000</td>\n",
              "      <td id=\"T_1da07_row0_col5\" class=\"data row0 col5\" >0.000000</td>\n",
              "      <td id=\"T_1da07_row0_col6\" class=\"data row0 col6\" >0.000000</td>\n",
              "      <td id=\"T_1da07_row0_col7\" class=\"data row0 col7\" >0.000000</td>\n",
              "      <td id=\"T_1da07_row0_col8\" class=\"data row0 col8\" >0.000000</td>\n",
              "      <td id=\"T_1da07_row0_col9\" class=\"data row0 col9\" >0.000000</td>\n",
              "      <td id=\"T_1da07_row0_col10\" class=\"data row0 col10\" >0.000000</td>\n",
              "      <td id=\"T_1da07_row0_col11\" class=\"data row0 col11\" >0.000000</td>\n",
              "      <td id=\"T_1da07_row0_col12\" class=\"data row0 col12\" >0.000000</td>\n",
              "      <td id=\"T_1da07_row0_col13\" class=\"data row0 col13\" >0.000000</td>\n",
              "      <td id=\"T_1da07_row0_col14\" class=\"data row0 col14\" >0.000000</td>\n",
              "      <td id=\"T_1da07_row0_col15\" class=\"data row0 col15\" >0.000000</td>\n",
              "      <td id=\"T_1da07_row0_col16\" class=\"data row0 col16\" >0.000000</td>\n",
              "      <td id=\"T_1da07_row0_col17\" class=\"data row0 col17\" >0.000000</td>\n",
              "      <td id=\"T_1da07_row0_col18\" class=\"data row0 col18\" >0.000000</td>\n",
              "      <td id=\"T_1da07_row0_col19\" class=\"data row0 col19\" >0.000000</td>\n",
              "      <td id=\"T_1da07_row0_col20\" class=\"data row0 col20\" >0.000000</td>\n",
              "      <td id=\"T_1da07_row0_col21\" class=\"data row0 col21\" >1.000000</td>\n",
              "      <td id=\"T_1da07_row0_col22\" class=\"data row0 col22\" >0.000000</td>\n",
              "      <td id=\"T_1da07_row0_col23\" class=\"data row0 col23\" >0.000000</td>\n",
              "      <td id=\"T_1da07_row0_col24\" class=\"data row0 col24\" >0.000000</td>\n",
              "      <td id=\"T_1da07_row0_col25\" class=\"data row0 col25\" >0.000000</td>\n",
              "      <td id=\"T_1da07_row0_col26\" class=\"data row0 col26\" >0.000000</td>\n",
              "      <td id=\"T_1da07_row0_col27\" class=\"data row0 col27\" >0.000000</td>\n",
              "      <td id=\"T_1da07_row0_col28\" class=\"data row0 col28\" >0.000000</td>\n",
              "      <td id=\"T_1da07_row0_col29\" class=\"data row0 col29\" >0.000000</td>\n",
              "      <td id=\"T_1da07_row0_col30\" class=\"data row0 col30\" >0.000000</td>\n",
              "      <td id=\"T_1da07_row0_col31\" class=\"data row0 col31\" >0.000000</td>\n",
              "      <td id=\"T_1da07_row0_col32\" class=\"data row0 col32\" >0.000000</td>\n",
              "      <td id=\"T_1da07_row0_col33\" class=\"data row0 col33\" >0.000000</td>\n",
              "      <td id=\"T_1da07_row0_col34\" class=\"data row0 col34\" >0.000000</td>\n",
              "      <td id=\"T_1da07_row0_col35\" class=\"data row0 col35\" >0.000000</td>\n",
              "      <td id=\"T_1da07_row0_col36\" class=\"data row0 col36\" >1.000000</td>\n",
              "      <td id=\"T_1da07_row0_col37\" class=\"data row0 col37\" >0.000000</td>\n",
              "      <td id=\"T_1da07_row0_col38\" class=\"data row0 col38\" >1.000000</td>\n",
              "      <td id=\"T_1da07_row0_col39\" class=\"data row0 col39\" >0.000000</td>\n",
              "      <td id=\"T_1da07_row0_col40\" class=\"data row0 col40\" >0.000000</td>\n",
              "      <td id=\"T_1da07_row0_col41\" class=\"data row0 col41\" >1.000000</td>\n",
              "      <td id=\"T_1da07_row0_col42\" class=\"data row0 col42\" >1.000000</td>\n",
              "      <td id=\"T_1da07_row0_col43\" class=\"data row0 col43\" >0.000000</td>\n",
              "      <td id=\"T_1da07_row0_col44\" class=\"data row0 col44\" >0.000000</td>\n",
              "      <td id=\"T_1da07_row0_col45\" class=\"data row0 col45\" >0.000000</td>\n",
              "      <td id=\"T_1da07_row0_col46\" class=\"data row0 col46\" >0.000000</td>\n",
              "    </tr>\n",
              "    <tr>\n",
              "      <th id=\"T_1da07_level0_row1\" class=\"row_heading level0 row1\" >1</th>\n",
              "      <td id=\"T_1da07_row1_col0\" class=\"data row1 col0\" >2007.000000</td>\n",
              "      <td id=\"T_1da07_row1_col1\" class=\"data row1 col1\" >135000.000000</td>\n",
              "      <td id=\"T_1da07_row1_col2\" class=\"data row1 col2\" >50000.000000</td>\n",
              "      <td id=\"T_1da07_row1_col3\" class=\"data row1 col3\" >0.000000</td>\n",
              "      <td id=\"T_1da07_row1_col4\" class=\"data row1 col4\" >0.000000</td>\n",
              "      <td id=\"T_1da07_row1_col5\" class=\"data row1 col5\" >0.000000</td>\n",
              "      <td id=\"T_1da07_row1_col6\" class=\"data row1 col6\" >0.000000</td>\n",
              "      <td id=\"T_1da07_row1_col7\" class=\"data row1 col7\" >0.000000</td>\n",
              "      <td id=\"T_1da07_row1_col8\" class=\"data row1 col8\" >0.000000</td>\n",
              "      <td id=\"T_1da07_row1_col9\" class=\"data row1 col9\" >0.000000</td>\n",
              "      <td id=\"T_1da07_row1_col10\" class=\"data row1 col10\" >0.000000</td>\n",
              "      <td id=\"T_1da07_row1_col11\" class=\"data row1 col11\" >0.000000</td>\n",
              "      <td id=\"T_1da07_row1_col12\" class=\"data row1 col12\" >0.000000</td>\n",
              "      <td id=\"T_1da07_row1_col13\" class=\"data row1 col13\" >0.000000</td>\n",
              "      <td id=\"T_1da07_row1_col14\" class=\"data row1 col14\" >0.000000</td>\n",
              "      <td id=\"T_1da07_row1_col15\" class=\"data row1 col15\" >0.000000</td>\n",
              "      <td id=\"T_1da07_row1_col16\" class=\"data row1 col16\" >0.000000</td>\n",
              "      <td id=\"T_1da07_row1_col17\" class=\"data row1 col17\" >0.000000</td>\n",
              "      <td id=\"T_1da07_row1_col18\" class=\"data row1 col18\" >0.000000</td>\n",
              "      <td id=\"T_1da07_row1_col19\" class=\"data row1 col19\" >0.000000</td>\n",
              "      <td id=\"T_1da07_row1_col20\" class=\"data row1 col20\" >0.000000</td>\n",
              "      <td id=\"T_1da07_row1_col21\" class=\"data row1 col21\" >1.000000</td>\n",
              "      <td id=\"T_1da07_row1_col22\" class=\"data row1 col22\" >0.000000</td>\n",
              "      <td id=\"T_1da07_row1_col23\" class=\"data row1 col23\" >0.000000</td>\n",
              "      <td id=\"T_1da07_row1_col24\" class=\"data row1 col24\" >0.000000</td>\n",
              "      <td id=\"T_1da07_row1_col25\" class=\"data row1 col25\" >0.000000</td>\n",
              "      <td id=\"T_1da07_row1_col26\" class=\"data row1 col26\" >0.000000</td>\n",
              "      <td id=\"T_1da07_row1_col27\" class=\"data row1 col27\" >0.000000</td>\n",
              "      <td id=\"T_1da07_row1_col28\" class=\"data row1 col28\" >0.000000</td>\n",
              "      <td id=\"T_1da07_row1_col29\" class=\"data row1 col29\" >0.000000</td>\n",
              "      <td id=\"T_1da07_row1_col30\" class=\"data row1 col30\" >0.000000</td>\n",
              "      <td id=\"T_1da07_row1_col31\" class=\"data row1 col31\" >0.000000</td>\n",
              "      <td id=\"T_1da07_row1_col32\" class=\"data row1 col32\" >0.000000</td>\n",
              "      <td id=\"T_1da07_row1_col33\" class=\"data row1 col33\" >0.000000</td>\n",
              "      <td id=\"T_1da07_row1_col34\" class=\"data row1 col34\" >0.000000</td>\n",
              "      <td id=\"T_1da07_row1_col35\" class=\"data row1 col35\" >0.000000</td>\n",
              "      <td id=\"T_1da07_row1_col36\" class=\"data row1 col36\" >1.000000</td>\n",
              "      <td id=\"T_1da07_row1_col37\" class=\"data row1 col37\" >0.000000</td>\n",
              "      <td id=\"T_1da07_row1_col38\" class=\"data row1 col38\" >1.000000</td>\n",
              "      <td id=\"T_1da07_row1_col39\" class=\"data row1 col39\" >0.000000</td>\n",
              "      <td id=\"T_1da07_row1_col40\" class=\"data row1 col40\" >0.000000</td>\n",
              "      <td id=\"T_1da07_row1_col41\" class=\"data row1 col41\" >1.000000</td>\n",
              "      <td id=\"T_1da07_row1_col42\" class=\"data row1 col42\" >1.000000</td>\n",
              "      <td id=\"T_1da07_row1_col43\" class=\"data row1 col43\" >0.000000</td>\n",
              "      <td id=\"T_1da07_row1_col44\" class=\"data row1 col44\" >0.000000</td>\n",
              "      <td id=\"T_1da07_row1_col45\" class=\"data row1 col45\" >0.000000</td>\n",
              "      <td id=\"T_1da07_row1_col46\" class=\"data row1 col46\" >0.000000</td>\n",
              "    </tr>\n",
              "    <tr>\n",
              "      <th id=\"T_1da07_level0_row2\" class=\"row_heading level0 row2\" >2</th>\n",
              "      <td id=\"T_1da07_row2_col0\" class=\"data row2 col0\" >2012.000000</td>\n",
              "      <td id=\"T_1da07_row2_col1\" class=\"data row2 col1\" >600000.000000</td>\n",
              "      <td id=\"T_1da07_row2_col2\" class=\"data row2 col2\" >100000.000000</td>\n",
              "      <td id=\"T_1da07_row2_col3\" class=\"data row2 col3\" >0.000000</td>\n",
              "      <td id=\"T_1da07_row2_col4\" class=\"data row2 col4\" >0.000000</td>\n",
              "      <td id=\"T_1da07_row2_col5\" class=\"data row2 col5\" >0.000000</td>\n",
              "      <td id=\"T_1da07_row2_col6\" class=\"data row2 col6\" >0.000000</td>\n",
              "      <td id=\"T_1da07_row2_col7\" class=\"data row2 col7\" >0.000000</td>\n",
              "      <td id=\"T_1da07_row2_col8\" class=\"data row2 col8\" >0.000000</td>\n",
              "      <td id=\"T_1da07_row2_col9\" class=\"data row2 col9\" >0.000000</td>\n",
              "      <td id=\"T_1da07_row2_col10\" class=\"data row2 col10\" >0.000000</td>\n",
              "      <td id=\"T_1da07_row2_col11\" class=\"data row2 col11\" >0.000000</td>\n",
              "      <td id=\"T_1da07_row2_col12\" class=\"data row2 col12\" >0.000000</td>\n",
              "      <td id=\"T_1da07_row2_col13\" class=\"data row2 col13\" >1.000000</td>\n",
              "      <td id=\"T_1da07_row2_col14\" class=\"data row2 col14\" >0.000000</td>\n",
              "      <td id=\"T_1da07_row2_col15\" class=\"data row2 col15\" >0.000000</td>\n",
              "      <td id=\"T_1da07_row2_col16\" class=\"data row2 col16\" >0.000000</td>\n",
              "      <td id=\"T_1da07_row2_col17\" class=\"data row2 col17\" >0.000000</td>\n",
              "      <td id=\"T_1da07_row2_col18\" class=\"data row2 col18\" >0.000000</td>\n",
              "      <td id=\"T_1da07_row2_col19\" class=\"data row2 col19\" >0.000000</td>\n",
              "      <td id=\"T_1da07_row2_col20\" class=\"data row2 col20\" >0.000000</td>\n",
              "      <td id=\"T_1da07_row2_col21\" class=\"data row2 col21\" >0.000000</td>\n",
              "      <td id=\"T_1da07_row2_col22\" class=\"data row2 col22\" >0.000000</td>\n",
              "      <td id=\"T_1da07_row2_col23\" class=\"data row2 col23\" >0.000000</td>\n",
              "      <td id=\"T_1da07_row2_col24\" class=\"data row2 col24\" >0.000000</td>\n",
              "      <td id=\"T_1da07_row2_col25\" class=\"data row2 col25\" >0.000000</td>\n",
              "      <td id=\"T_1da07_row2_col26\" class=\"data row2 col26\" >0.000000</td>\n",
              "      <td id=\"T_1da07_row2_col27\" class=\"data row2 col27\" >0.000000</td>\n",
              "      <td id=\"T_1da07_row2_col28\" class=\"data row2 col28\" >0.000000</td>\n",
              "      <td id=\"T_1da07_row2_col29\" class=\"data row2 col29\" >0.000000</td>\n",
              "      <td id=\"T_1da07_row2_col30\" class=\"data row2 col30\" >0.000000</td>\n",
              "      <td id=\"T_1da07_row2_col31\" class=\"data row2 col31\" >0.000000</td>\n",
              "      <td id=\"T_1da07_row2_col32\" class=\"data row2 col32\" >0.000000</td>\n",
              "      <td id=\"T_1da07_row2_col33\" class=\"data row2 col33\" >1.000000</td>\n",
              "      <td id=\"T_1da07_row2_col34\" class=\"data row2 col34\" >0.000000</td>\n",
              "      <td id=\"T_1da07_row2_col35\" class=\"data row2 col35\" >0.000000</td>\n",
              "      <td id=\"T_1da07_row2_col36\" class=\"data row2 col36\" >0.000000</td>\n",
              "      <td id=\"T_1da07_row2_col37\" class=\"data row2 col37\" >0.000000</td>\n",
              "      <td id=\"T_1da07_row2_col38\" class=\"data row2 col38\" >1.000000</td>\n",
              "      <td id=\"T_1da07_row2_col39\" class=\"data row2 col39\" >0.000000</td>\n",
              "      <td id=\"T_1da07_row2_col40\" class=\"data row2 col40\" >0.000000</td>\n",
              "      <td id=\"T_1da07_row2_col41\" class=\"data row2 col41\" >1.000000</td>\n",
              "      <td id=\"T_1da07_row2_col42\" class=\"data row2 col42\" >1.000000</td>\n",
              "      <td id=\"T_1da07_row2_col43\" class=\"data row2 col43\" >0.000000</td>\n",
              "      <td id=\"T_1da07_row2_col44\" class=\"data row2 col44\" >0.000000</td>\n",
              "      <td id=\"T_1da07_row2_col45\" class=\"data row2 col45\" >0.000000</td>\n",
              "      <td id=\"T_1da07_row2_col46\" class=\"data row2 col46\" >0.000000</td>\n",
              "    </tr>\n",
              "    <tr>\n",
              "      <th id=\"T_1da07_level0_row3\" class=\"row_heading level0 row3\" >3</th>\n",
              "      <td id=\"T_1da07_row3_col0\" class=\"data row3 col0\" >2017.000000</td>\n",
              "      <td id=\"T_1da07_row3_col1\" class=\"data row3 col1\" >250000.000000</td>\n",
              "      <td id=\"T_1da07_row3_col2\" class=\"data row3 col2\" >46000.000000</td>\n",
              "      <td id=\"T_1da07_row3_col3\" class=\"data row3 col3\" >0.000000</td>\n",
              "      <td id=\"T_1da07_row3_col4\" class=\"data row3 col4\" >0.000000</td>\n",
              "      <td id=\"T_1da07_row3_col5\" class=\"data row3 col5\" >0.000000</td>\n",
              "      <td id=\"T_1da07_row3_col6\" class=\"data row3 col6\" >0.000000</td>\n",
              "      <td id=\"T_1da07_row3_col7\" class=\"data row3 col7\" >0.000000</td>\n",
              "      <td id=\"T_1da07_row3_col8\" class=\"data row3 col8\" >1.000000</td>\n",
              "      <td id=\"T_1da07_row3_col9\" class=\"data row3 col9\" >0.000000</td>\n",
              "      <td id=\"T_1da07_row3_col10\" class=\"data row3 col10\" >0.000000</td>\n",
              "      <td id=\"T_1da07_row3_col11\" class=\"data row3 col11\" >0.000000</td>\n",
              "      <td id=\"T_1da07_row3_col12\" class=\"data row3 col12\" >0.000000</td>\n",
              "      <td id=\"T_1da07_row3_col13\" class=\"data row3 col13\" >0.000000</td>\n",
              "      <td id=\"T_1da07_row3_col14\" class=\"data row3 col14\" >0.000000</td>\n",
              "      <td id=\"T_1da07_row3_col15\" class=\"data row3 col15\" >0.000000</td>\n",
              "      <td id=\"T_1da07_row3_col16\" class=\"data row3 col16\" >0.000000</td>\n",
              "      <td id=\"T_1da07_row3_col17\" class=\"data row3 col17\" >0.000000</td>\n",
              "      <td id=\"T_1da07_row3_col18\" class=\"data row3 col18\" >0.000000</td>\n",
              "      <td id=\"T_1da07_row3_col19\" class=\"data row3 col19\" >0.000000</td>\n",
              "      <td id=\"T_1da07_row3_col20\" class=\"data row3 col20\" >0.000000</td>\n",
              "      <td id=\"T_1da07_row3_col21\" class=\"data row3 col21\" >0.000000</td>\n",
              "      <td id=\"T_1da07_row3_col22\" class=\"data row3 col22\" >0.000000</td>\n",
              "      <td id=\"T_1da07_row3_col23\" class=\"data row3 col23\" >0.000000</td>\n",
              "      <td id=\"T_1da07_row3_col24\" class=\"data row3 col24\" >0.000000</td>\n",
              "      <td id=\"T_1da07_row3_col25\" class=\"data row3 col25\" >0.000000</td>\n",
              "      <td id=\"T_1da07_row3_col26\" class=\"data row3 col26\" >0.000000</td>\n",
              "      <td id=\"T_1da07_row3_col27\" class=\"data row3 col27\" >0.000000</td>\n",
              "      <td id=\"T_1da07_row3_col28\" class=\"data row3 col28\" >0.000000</td>\n",
              "      <td id=\"T_1da07_row3_col29\" class=\"data row3 col29\" >0.000000</td>\n",
              "      <td id=\"T_1da07_row3_col30\" class=\"data row3 col30\" >0.000000</td>\n",
              "      <td id=\"T_1da07_row3_col31\" class=\"data row3 col31\" >0.000000</td>\n",
              "      <td id=\"T_1da07_row3_col32\" class=\"data row3 col32\" >0.000000</td>\n",
              "      <td id=\"T_1da07_row3_col33\" class=\"data row3 col33\" >0.000000</td>\n",
              "      <td id=\"T_1da07_row3_col34\" class=\"data row3 col34\" >0.000000</td>\n",
              "      <td id=\"T_1da07_row3_col35\" class=\"data row3 col35\" >0.000000</td>\n",
              "      <td id=\"T_1da07_row3_col36\" class=\"data row3 col36\" >1.000000</td>\n",
              "      <td id=\"T_1da07_row3_col37\" class=\"data row3 col37\" >0.000000</td>\n",
              "      <td id=\"T_1da07_row3_col38\" class=\"data row3 col38\" >1.000000</td>\n",
              "      <td id=\"T_1da07_row3_col39\" class=\"data row3 col39\" >0.000000</td>\n",
              "      <td id=\"T_1da07_row3_col40\" class=\"data row3 col40\" >0.000000</td>\n",
              "      <td id=\"T_1da07_row3_col41\" class=\"data row3 col41\" >1.000000</td>\n",
              "      <td id=\"T_1da07_row3_col42\" class=\"data row3 col42\" >1.000000</td>\n",
              "      <td id=\"T_1da07_row3_col43\" class=\"data row3 col43\" >0.000000</td>\n",
              "      <td id=\"T_1da07_row3_col44\" class=\"data row3 col44\" >0.000000</td>\n",
              "      <td id=\"T_1da07_row3_col45\" class=\"data row3 col45\" >0.000000</td>\n",
              "      <td id=\"T_1da07_row3_col46\" class=\"data row3 col46\" >0.000000</td>\n",
              "    </tr>\n",
              "    <tr>\n",
              "      <th id=\"T_1da07_level0_row4\" class=\"row_heading level0 row4\" >4</th>\n",
              "      <td id=\"T_1da07_row4_col0\" class=\"data row4 col0\" >2014.000000</td>\n",
              "      <td id=\"T_1da07_row4_col1\" class=\"data row4 col1\" >450000.000000</td>\n",
              "      <td id=\"T_1da07_row4_col2\" class=\"data row4 col2\" >141000.000000</td>\n",
              "      <td id=\"T_1da07_row4_col3\" class=\"data row4 col3\" >0.000000</td>\n",
              "      <td id=\"T_1da07_row4_col4\" class=\"data row4 col4\" >0.000000</td>\n",
              "      <td id=\"T_1da07_row4_col5\" class=\"data row4 col5\" >0.000000</td>\n",
              "      <td id=\"T_1da07_row4_col6\" class=\"data row4 col6\" >0.000000</td>\n",
              "      <td id=\"T_1da07_row4_col7\" class=\"data row4 col7\" >0.000000</td>\n",
              "      <td id=\"T_1da07_row4_col8\" class=\"data row4 col8\" >0.000000</td>\n",
              "      <td id=\"T_1da07_row4_col9\" class=\"data row4 col9\" >0.000000</td>\n",
              "      <td id=\"T_1da07_row4_col10\" class=\"data row4 col10\" >0.000000</td>\n",
              "      <td id=\"T_1da07_row4_col11\" class=\"data row4 col11\" >0.000000</td>\n",
              "      <td id=\"T_1da07_row4_col12\" class=\"data row4 col12\" >1.000000</td>\n",
              "      <td id=\"T_1da07_row4_col13\" class=\"data row4 col13\" >0.000000</td>\n",
              "      <td id=\"T_1da07_row4_col14\" class=\"data row4 col14\" >0.000000</td>\n",
              "      <td id=\"T_1da07_row4_col15\" class=\"data row4 col15\" >0.000000</td>\n",
              "      <td id=\"T_1da07_row4_col16\" class=\"data row4 col16\" >0.000000</td>\n",
              "      <td id=\"T_1da07_row4_col17\" class=\"data row4 col17\" >0.000000</td>\n",
              "      <td id=\"T_1da07_row4_col18\" class=\"data row4 col18\" >0.000000</td>\n",
              "      <td id=\"T_1da07_row4_col19\" class=\"data row4 col19\" >0.000000</td>\n",
              "      <td id=\"T_1da07_row4_col20\" class=\"data row4 col20\" >0.000000</td>\n",
              "      <td id=\"T_1da07_row4_col21\" class=\"data row4 col21\" >0.000000</td>\n",
              "      <td id=\"T_1da07_row4_col22\" class=\"data row4 col22\" >0.000000</td>\n",
              "      <td id=\"T_1da07_row4_col23\" class=\"data row4 col23\" >0.000000</td>\n",
              "      <td id=\"T_1da07_row4_col24\" class=\"data row4 col24\" >0.000000</td>\n",
              "      <td id=\"T_1da07_row4_col25\" class=\"data row4 col25\" >0.000000</td>\n",
              "      <td id=\"T_1da07_row4_col26\" class=\"data row4 col26\" >0.000000</td>\n",
              "      <td id=\"T_1da07_row4_col27\" class=\"data row4 col27\" >0.000000</td>\n",
              "      <td id=\"T_1da07_row4_col28\" class=\"data row4 col28\" >0.000000</td>\n",
              "      <td id=\"T_1da07_row4_col29\" class=\"data row4 col29\" >0.000000</td>\n",
              "      <td id=\"T_1da07_row4_col30\" class=\"data row4 col30\" >0.000000</td>\n",
              "      <td id=\"T_1da07_row4_col31\" class=\"data row4 col31\" >0.000000</td>\n",
              "      <td id=\"T_1da07_row4_col32\" class=\"data row4 col32\" >0.000000</td>\n",
              "      <td id=\"T_1da07_row4_col33\" class=\"data row4 col33\" >1.000000</td>\n",
              "      <td id=\"T_1da07_row4_col34\" class=\"data row4 col34\" >0.000000</td>\n",
              "      <td id=\"T_1da07_row4_col35\" class=\"data row4 col35\" >0.000000</td>\n",
              "      <td id=\"T_1da07_row4_col36\" class=\"data row4 col36\" >0.000000</td>\n",
              "      <td id=\"T_1da07_row4_col37\" class=\"data row4 col37\" >0.000000</td>\n",
              "      <td id=\"T_1da07_row4_col38\" class=\"data row4 col38\" >1.000000</td>\n",
              "      <td id=\"T_1da07_row4_col39\" class=\"data row4 col39\" >0.000000</td>\n",
              "      <td id=\"T_1da07_row4_col40\" class=\"data row4 col40\" >0.000000</td>\n",
              "      <td id=\"T_1da07_row4_col41\" class=\"data row4 col41\" >1.000000</td>\n",
              "      <td id=\"T_1da07_row4_col42\" class=\"data row4 col42\" >0.000000</td>\n",
              "      <td id=\"T_1da07_row4_col43\" class=\"data row4 col43\" >0.000000</td>\n",
              "      <td id=\"T_1da07_row4_col44\" class=\"data row4 col44\" >1.000000</td>\n",
              "      <td id=\"T_1da07_row4_col45\" class=\"data row4 col45\" >0.000000</td>\n",
              "      <td id=\"T_1da07_row4_col46\" class=\"data row4 col46\" >0.000000</td>\n",
              "    </tr>\n",
              "  </tbody>\n",
              "</table>\n"
            ]
          },
          "metadata": {},
          "execution_count": 64
        }
      ]
    },
    {
      "cell_type": "code",
      "source": [
        "n_data.info()"
      ],
      "metadata": {
        "colab": {
          "base_uri": "https://localhost:8080/"
        },
        "id": "H-Cr4KjIVAXN",
        "outputId": "1a16d1d2-28ee-4783-cd7b-a02731e12f7d"
      },
      "execution_count": 65,
      "outputs": [
        {
          "output_type": "stream",
          "name": "stdout",
          "text": [
            "<class 'pandas.core.frame.DataFrame'>\n",
            "RangeIndex: 4340 entries, 0 to 4339\n",
            "Data columns (total 47 columns):\n",
            " #   Column                        Non-Null Count  Dtype  \n",
            "---  ------                        --------------  -----  \n",
            " 0   year                          4340 non-null   float64\n",
            " 1   selling_price                 4340 non-null   float64\n",
            " 2   km_driven                     4340 non-null   float64\n",
            " 3   name_Ambassador               4340 non-null   float64\n",
            " 4   name_Audi                     4340 non-null   float64\n",
            " 5   name_BMW                      4340 non-null   float64\n",
            " 6   name_Chevrolet                4340 non-null   float64\n",
            " 7   name_Daewoo                   4340 non-null   float64\n",
            " 8   name_Datsun                   4340 non-null   float64\n",
            " 9   name_Fiat                     4340 non-null   float64\n",
            " 10  name_Force                    4340 non-null   float64\n",
            " 11  name_Ford                     4340 non-null   float64\n",
            " 12  name_Honda                    4340 non-null   float64\n",
            " 13  name_Hyundai                  4340 non-null   float64\n",
            " 14  name_Isuzu                    4340 non-null   float64\n",
            " 15  name_Jaguar                   4340 non-null   float64\n",
            " 16  name_Jeep                     4340 non-null   float64\n",
            " 17  name_Kia                      4340 non-null   float64\n",
            " 18  name_Land                     4340 non-null   float64\n",
            " 19  name_MG                       4340 non-null   float64\n",
            " 20  name_Mahindra                 4340 non-null   float64\n",
            " 21  name_Maruti                   4340 non-null   float64\n",
            " 22  name_Mercedes-Benz            4340 non-null   float64\n",
            " 23  name_Mitsubishi               4340 non-null   float64\n",
            " 24  name_Nissan                   4340 non-null   float64\n",
            " 25  name_OpelCorsa                4340 non-null   float64\n",
            " 26  name_Renault                  4340 non-null   float64\n",
            " 27  name_Skoda                    4340 non-null   float64\n",
            " 28  name_Tata                     4340 non-null   float64\n",
            " 29  name_Toyota                   4340 non-null   float64\n",
            " 30  name_Volkswagen               4340 non-null   float64\n",
            " 31  name_Volvo                    4340 non-null   float64\n",
            " 32  fuel_CNG                      4340 non-null   float64\n",
            " 33  fuel_Diesel                   4340 non-null   float64\n",
            " 34  fuel_Electric                 4340 non-null   float64\n",
            " 35  fuel_LPG                      4340 non-null   float64\n",
            " 36  fuel_Petrol                   4340 non-null   float64\n",
            " 37  seller_type_Dealer            4340 non-null   float64\n",
            " 38  seller_type_Individual        4340 non-null   float64\n",
            " 39  seller_type_Trustmark Dealer  4340 non-null   float64\n",
            " 40  transmission_Automatic        4340 non-null   float64\n",
            " 41  transmission_Manual           4340 non-null   float64\n",
            " 42  owner_First Owner             4340 non-null   float64\n",
            " 43  owner_Fourth & Above Owner    4340 non-null   float64\n",
            " 44  owner_Second Owner            4340 non-null   float64\n",
            " 45  owner_Test Drive Car          4340 non-null   float64\n",
            " 46  owner_Third Owner             4340 non-null   float64\n",
            "dtypes: float64(47)\n",
            "memory usage: 1.6 MB\n"
          ]
        }
      ]
    },
    {
      "cell_type": "code",
      "source": [
        "from sklearn.preprocessing import MinMaxScaler\n",
        "scaler = MinMaxScaler()\n",
        "\n",
        "data_scaled = pd.DataFrame(scaler.fit_transform(n_data), columns= n_data.columns)\n",
        "x = data_scaled.drop(['selling_price'], axis = 1)\n",
        "y = data_scaled['selling_price']\n",
        "\n",
        "from sklearn.model_selection import train_test_split\n",
        "from sklearn.svm import SVR\n",
        "from sklearn.neighbors import KNeighborsRegressor\n",
        "from sklearn.linear_model import LinearRegression\n",
        "from sklearn.ensemble import RandomForestRegressor\n",
        "from sklearn.metrics import mean_absolute_error as mae\n",
        "from sklearn.model_selection import train_test_split\n",
        "from sklearn.metrics import r2_score\n",
        "import sklearn.metrics as metrics\n",
        "\n",
        "#Case 1:   Train = 80 % Test = 20%  [ x_train1,y_train1] = 80% ; [ x_test1,y_test1] = 20% ; \n",
        "\n",
        "x_train, x_test, y_train, y_test = train_test_split(x, y,test_size = 0.20, shuffle = True, random_state = 1)\n",
        "\n",
        "from sklearn.linear_model import LinearRegression\n",
        "\n",
        "model = LinearRegression()\n",
        "model.fit(x_train, y_train)\n",
        "pre = model.predict(x_test)\n",
        "print('Accuracy : ',mae(y_test,pre))\n",
        "score1 = r2_score(y_test, pre)\n",
        "print(\"The accuracy of our model is {}%\".format(round(score1, 2) *100))"
      ],
      "metadata": {
        "colab": {
          "base_uri": "https://localhost:8080/"
        },
        "id": "sgGCq7F1VHgH",
        "outputId": "d426ba96-66de-47fc-d047-e29113435280"
      },
      "execution_count": 66,
      "outputs": [
        {
          "output_type": "stream",
          "name": "stdout",
          "text": [
            "Accuracy :  0.019191861135996146\n",
            "The accuracy of our model is 75.0%\n"
          ]
        }
      ]
    },
    {
      "cell_type": "code",
      "source": [
        "model = KNeighborsRegressor(1)\n",
        "model.fit(x_train, y_train)\n",
        "pre = model.predict(x_test)\n",
        "print('Accuracy : ',mae(y_test,pre))\n",
        "score = r2_score(y_test, pre)\n",
        "print(\"The accuracy of our model is {}%\".format(round(score, 2) *100))"
      ],
      "metadata": {
        "colab": {
          "base_uri": "https://localhost:8080/"
        },
        "id": "JpB2tEg2Vt03",
        "outputId": "24aaa62b-72d8-414a-9f4c-ac36bc77a046"
      },
      "execution_count": 67,
      "outputs": [
        {
          "output_type": "stream",
          "name": "stdout",
          "text": [
            "Accuracy :  0.012796037022045088\n",
            "The accuracy of our model is 86.0%\n"
          ]
        }
      ]
    },
    {
      "cell_type": "code",
      "source": [
        "model = SVR()\n",
        "model.fit(x_train, y_train)\n",
        "pre = model.predict(x_test)\n",
        "print('Accuracy : ',mae(y_test,pre))\n",
        "score2 = r2_score(y_test, pre)\n",
        "print(\"The accuracy of our model is {}%\".format(round(score2, 2) *100))"
      ],
      "metadata": {
        "colab": {
          "base_uri": "https://localhost:8080/"
        },
        "id": "0yeahSzZVxRG",
        "outputId": "417fcfe4-3dd1-48b6-a0c5-b58d3e1025f4"
      },
      "execution_count": 68,
      "outputs": [
        {
          "output_type": "stream",
          "name": "stdout",
          "text": [
            "Accuracy :  0.04165586206729451\n",
            "The accuracy of our model is 40.0%\n"
          ]
        }
      ]
    },
    {
      "cell_type": "code",
      "source": [
        "from sklearn.ensemble import RandomForestRegressor\n",
        "model = RandomForestRegressor(n_estimators=50)\n",
        "model.fit(x_train, y_train)\n",
        "pre = model.predict(x_test)\n",
        "from sklearn.metrics import mean_absolute_error as mae\n",
        "print('Accuracy : ',mae(y_test,pre))\n",
        "score3 = r2_score(y_test, pre)\n",
        "print(\"The accuracy of our model is {}%\".format(round(score3, 2) *100))"
      ],
      "metadata": {
        "colab": {
          "base_uri": "https://localhost:8080/"
        },
        "id": "KPSXnWrOV0y0",
        "outputId": "8dd28f02-b2fa-4361-d8c2-88dcf3e1351f"
      },
      "execution_count": 69,
      "outputs": [
        {
          "output_type": "stream",
          "name": "stdout",
          "text": [
            "Accuracy :  0.012340612681462177\n",
            "The accuracy of our model is 86.0%\n"
          ]
        }
      ]
    },
    {
      "cell_type": "code",
      "source": [
        "from xgboost import XGBRegressor\n",
        "\n",
        "model = XGBRegressor(n_estimators = 600 ,learning_rate = .02)\n",
        "model.fit(x_train, y_train, early_stopping_rounds = 5, eval_set=[(x_test, y_test)], verbose = False)\n",
        "pred = model.predict(x_test)\n",
        "print('Accuracy : ', mae(y_test, pred))\n",
        "score4 = r2_score(y_test, pred)\n",
        "print(\"The accuracy of our model is {}%\".format(round(score4, 2) *100))"
      ],
      "metadata": {
        "colab": {
          "base_uri": "https://localhost:8080/"
        },
        "id": "K7YOBInzV38-",
        "outputId": "86a21de8-6c10-4091-9854-60c446d7601e"
      },
      "execution_count": 70,
      "outputs": [
        {
          "output_type": "stream",
          "name": "stdout",
          "text": [
            "[14:07:40] WARNING: /workspace/src/objective/regression_obj.cu:152: reg:linear is now deprecated in favor of reg:squarederror.\n",
            "Accuracy :  0.015035251467448765\n",
            "The accuracy of our model is 86.0%\n"
          ]
        }
      ]
    },
    {
      "cell_type": "code",
      "source": [
        "print(\"Mean Absolute Error:\", metrics.mean_absolute_error(y_test, pred))\n",
        "print('Mean Squared Error:', metrics.mean_squared_error(y_test, pred))\n",
        "print('Root Mean Squared Error:', np.sqrt(metrics.mean_squared_error(y_test, pred)))\n",
        "print('R-squared: {}'.format(metrics.r2_score(y_test, pred)))"
      ],
      "metadata": {
        "colab": {
          "base_uri": "https://localhost:8080/"
        },
        "id": "eyHh3UjUV8XC",
        "outputId": "1c4da595-8198-42b3-a7f4-3b614588b893"
      },
      "execution_count": 71,
      "outputs": [
        {
          "output_type": "stream",
          "name": "stdout",
          "text": [
            "Mean Absolute Error: 0.015035251467448765\n",
            "Mean Squared Error: 0.0005284701788602517\n",
            "Root Mean Squared Error: 0.022988479263758438\n",
            "R-squared: 0.8623570842650545\n"
          ]
        }
      ]
    },
    {
      "cell_type": "code",
      "source": [
        "plt.figure(figsize=(7,7))\n",
        "plt.scatter(y_test, pred);\n",
        "plt.xlabel(\"actual\")\n",
        "plt.ylabel(\"prediction\")"
      ],
      "metadata": {
        "colab": {
          "base_uri": "https://localhost:8080/",
          "height": 460
        },
        "id": "hINeIZxlV_kC",
        "outputId": "ac08d2af-0e00-4813-bdf8-8fae0e555222"
      },
      "execution_count": 72,
      "outputs": [
        {
          "output_type": "execute_result",
          "data": {
            "text/plain": [
              "Text(0, 0.5, 'prediction')"
            ]
          },
          "metadata": {},
          "execution_count": 72
        },
        {
          "output_type": "display_data",
          "data": {
            "text/plain": [
              "<Figure size 504x504 with 1 Axes>"
            ],
            "image/png": "[encoded data removed]"
          },
          "metadata": {
            "needs_background": "light"
          }
        }
      ]
    },
    {
      "cell_type": "markdown",
      "source": [
        "**CASE 2 Train = 10 % Test = 90%  [ x_train2,y_train2] = 10% ; [ x_test2,y_test2] = 90%  **"
      ],
      "metadata": {
        "id": "YZfZUp_7O5F5"
      }
    },
    {
      "cell_type": "code",
      "source": [
        "from sklearn.preprocessing import MinMaxScaler\n",
        "scaler = MinMaxScaler()\n",
        "\n",
        "data_scaled = pd.DataFrame(scaler.fit_transform(n_data), columns= n_data.columns)\n",
        "x = data_scaled.drop(['selling_price'], axis = 1)\n",
        "y = data_scaled['selling_price']\n",
        "\n",
        "from sklearn.model_selection import train_test_split\n",
        "from sklearn.svm import SVR\n",
        "from sklearn.neighbors import KNeighborsRegressor\n",
        "from sklearn.linear_model import LinearRegression\n",
        "from sklearn.ensemble import RandomForestRegressor\n",
        "from sklearn.metrics import mean_absolute_error as mae\n",
        "from sklearn.model_selection import train_test_split\n",
        "from sklearn.metrics import r2_score\n",
        "import sklearn.metrics as metrics\n",
        "\n",
        "#Case 2:   Train = 10 % Test = 90%  [ x_train2,y_train2] = 10% ; [ x_test2,y_test2] = 90%   \n",
        "\n",
        "x_train, x_test, y_train, y_test = train_test_split(x, y,test_size = 0.90, shuffle = True, random_state = 1)\n",
        "\n",
        "from sklearn.linear_model import LinearRegression\n",
        "\n",
        "model = LinearRegression()\n",
        "model.fit(x_train, y_train)\n",
        "pre = model.predict(x_test)\n",
        "print('Accuracy : ',mae(y_test,pre))\n",
        "score1 = r2_score(y_test, pre)\n",
        "print(\"The accuracy of our model is {}%\".format(round(score1, 2) *100))"
      ],
      "metadata": {
        "colab": {
          "base_uri": "https://localhost:8080/"
        },
        "id": "pNBMiEIANMdZ",
        "outputId": "09e8f669-e2a2-4529-818a-f8146efd6e29"
      },
      "execution_count": 73,
      "outputs": [
        {
          "output_type": "stream",
          "name": "stdout",
          "text": [
            "Accuracy :  0.022090355147053233\n",
            "The accuracy of our model is 63.0%\n"
          ]
        }
      ]
    },
    {
      "cell_type": "code",
      "source": [
        "model = KNeighborsRegressor(1)\n",
        "model.fit(x_train, y_train)\n",
        "pre = model.predict(x_test)\n",
        "print('Accuracy : ',mae(y_test,pre))\n",
        "score = r2_score(y_test, pre)\n",
        "print(\"The accuracy of our model is {}%\".format(round(score, 2) *100))"
      ],
      "metadata": {
        "colab": {
          "base_uri": "https://localhost:8080/"
        },
        "id": "L3oGGAU0O1NU",
        "outputId": "365f70c3-e380-4ec0-a654-8850f85236bf"
      },
      "execution_count": 74,
      "outputs": [
        {
          "output_type": "stream",
          "name": "stdout",
          "text": [
            "Accuracy :  0.024077158667884475\n",
            "The accuracy of our model is 40.0%\n"
          ]
        }
      ]
    },
    {
      "cell_type": "code",
      "source": [
        "model = SVR()\n",
        "model.fit(x_train, y_train)\n",
        "pre = model.predict(x_test)\n",
        "print('Accuracy : ',mae(y_test,pre))\n",
        "score2 = r2_score(y_test, pre)\n",
        "print(\"The accuracy of our model is {}%\".format(round(score2, 2) *100))"
      ],
      "metadata": {
        "colab": {
          "base_uri": "https://localhost:8080/"
        },
        "id": "YZ1JhsVpPIFN",
        "outputId": "52b6179d-d80d-4a76-fa20-2078aec907a5"
      },
      "execution_count": 75,
      "outputs": [
        {
          "output_type": "stream",
          "name": "stdout",
          "text": [
            "Accuracy :  0.07151939443472403\n",
            "The accuracy of our model is -51.0%\n"
          ]
        }
      ]
    },
    {
      "cell_type": "code",
      "source": [
        "from sklearn.ensemble import RandomForestRegressor\n",
        "model = RandomForestRegressor(n_estimators=50)\n",
        "model.fit(x_train, y_train)\n",
        "pre = model.predict(x_test)\n",
        "from sklearn.metrics import mean_absolute_error as mae\n",
        "print('Accuracy : ',mae(y_test,pre))\n",
        "score3 = r2_score(y_test, pre)\n",
        "print(\"The accuracy of our model is {}%\".format(round(score3, 2) *100))"
      ],
      "metadata": {
        "colab": {
          "base_uri": "https://localhost:8080/"
        },
        "id": "m8Qsp33uPON_",
        "outputId": "8a96e325-f52e-4741-d75c-2bd140a65ec3"
      },
      "execution_count": 76,
      "outputs": [
        {
          "output_type": "stream",
          "name": "stdout",
          "text": [
            "Accuracy :  0.01931102478747858\n",
            "The accuracy of our model is 62.0%\n"
          ]
        }
      ]
    },
    {
      "cell_type": "code",
      "source": [
        "from xgboost import XGBRegressor\n",
        "\n",
        "model = XGBRegressor(n_estimators = 600 ,learning_rate = .02)\n",
        "model.fit(x_train, y_train, early_stopping_rounds = 5, eval_set=[(x_test, y_test)], verbose = False)\n",
        "pred = model.predict(x_test)\n",
        "print('Accuracy : ', mae(y_test, pred))\n",
        "score4 = r2_score(y_test, pred)\n",
        "print(\"The accuracy of our model is {}%\".format(round(score4, 2) *100))"
      ],
      "metadata": {
        "colab": {
          "base_uri": "https://localhost:8080/"
        },
        "id": "pAjVRcwoPU1V",
        "outputId": "0ade9c23-5d00-4dcf-d9e7-9fe5100731e1"
      },
      "execution_count": 77,
      "outputs": [
        {
          "output_type": "stream",
          "name": "stdout",
          "text": [
            "[14:07:44] WARNING: /workspace/src/objective/regression_obj.cu:152: reg:linear is now deprecated in favor of reg:squarederror.\n",
            "Accuracy :  0.018618944858592303\n",
            "The accuracy of our model is 70.0%\n"
          ]
        }
      ]
    },
    {
      "cell_type": "code",
      "source": [
        "print(\"Mean Absolute Error:\", metrics.mean_absolute_error(y_test, pred))\n",
        "print('Mean Squared Error:', metrics.mean_squared_error(y_test, pred))\n",
        "print('Root Mean Squared Error:', np.sqrt(metrics.mean_squared_error(y_test, pred)))\n",
        "print('R-squared: {}'.format(metrics.r2_score(y_test, pred)))"
      ],
      "metadata": {
        "colab": {
          "base_uri": "https://localhost:8080/"
        },
        "id": "addBYFNYPaGZ",
        "outputId": "77735de8-3af9-478e-ca97-c35f7e3567b2"
      },
      "execution_count": 78,
      "outputs": [
        {
          "output_type": "stream",
          "name": "stdout",
          "text": [
            "Mean Absolute Error: 0.018618944858592303\n",
            "Mean Squared Error: 0.0012564303200278725\n",
            "Root Mean Squared Error: 0.03544616086444162\n",
            "R-squared: 0.6950093312444355\n"
          ]
        }
      ]
    },
    {
      "cell_type": "code",
      "source": [
        "plt.figure(figsize=(7,7))\n",
        "plt.scatter(y_test, pred);\n",
        "plt.xlabel(\"actual\")\n",
        "plt.ylabel(\"prediction\")"
      ],
      "metadata": {
        "colab": {
          "base_uri": "https://localhost:8080/",
          "height": 460
        },
        "id": "Kb6dv4giPf_P",
        "outputId": "fcdb770e-f822-4631-ba22-fc8014dbe506"
      },
      "execution_count": 79,
      "outputs": [
        {
          "output_type": "execute_result",
          "data": {
            "text/plain": [
              "Text(0, 0.5, 'prediction')"
            ]
          },
          "metadata": {},
          "execution_count": 79
        },
        {
          "output_type": "display_data",
          "data": {
            "text/plain": [
              "<Figure size 504x504 with 1 Axes>"
            ],
            "image/png": "[encoded data removed]"
          },
          "metadata": {
            "needs_background": "light"
          }
        }
      ]
    },
    {
      "cell_type": "markdown",
      "source": [
        "********** End of assignment *******************"
      ],
      "metadata": {
        "id": "A0PRR2scrrrj"
      }
    }
  ]
}